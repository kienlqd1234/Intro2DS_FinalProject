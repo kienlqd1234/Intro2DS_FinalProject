{
 "cells": [
  {
   "cell_type": "markdown",
   "id": "3d9eeb49",
   "metadata": {},
   "source": [
    "## Import các thư viện cần thiết"
   ]
  },
  {
   "cell_type": "code",
   "execution_count": 42,
   "id": "95a1dcc6",
   "metadata": {},
   "outputs": [],
   "source": [
    "# Import các thư viện cần thiết\n",
    "import pandas as pd\n",
    "import numpy as np\n",
    "import math\n",
    "from sklearn.model_selection import train_test_split, cross_val_score\n",
    "from sklearn.preprocessing import StandardScaler\n",
    "from sklearn.tree import DecisionTreeClassifier\n",
    "from sklearn.metrics import accuracy_score\n",
    "from sklearn.model_selection import GridSearchCV\n",
    "\n",
    "import matplotlib.pyplot as plt\n",
    "import seaborn as sns\n",
    "from sklearn.metrics import confusion_matrix\n",
    "from sklearn.metrics import classification_report\n",
    "from sklearn.svm import SVC\n",
    "\n",
    "from sklearn.neighbors import KNeighborsClassifier"
   ]
  },
  {
   "cell_type": "markdown",
   "id": "55e986a6",
   "metadata": {},
   "source": [
    "## Chuẩn bị dữ liệu"
   ]
  },
  {
   "cell_type": "code",
   "execution_count": 4,
   "id": "cbe850ba",
   "metadata": {},
   "outputs": [
    {
     "data": {
      "text/html": [
       "<div>\n",
       "<style scoped>\n",
       "    .dataframe tbody tr th:only-of-type {\n",
       "        vertical-align: middle;\n",
       "    }\n",
       "\n",
       "    .dataframe tbody tr th {\n",
       "        vertical-align: top;\n",
       "    }\n",
       "\n",
       "    .dataframe thead th {\n",
       "        text-align: right;\n",
       "    }\n",
       "</style>\n",
       "<table border=\"1\" class=\"dataframe\">\n",
       "  <thead>\n",
       "    <tr style=\"text-align: right;\">\n",
       "      <th></th>\n",
       "      <th>dt</th>\n",
       "      <th>aqi</th>\n",
       "      <th>co</th>\n",
       "      <th>no</th>\n",
       "      <th>no2</th>\n",
       "      <th>o3</th>\n",
       "      <th>so2</th>\n",
       "      <th>pm2_5</th>\n",
       "      <th>pm10</th>\n",
       "      <th>nh3</th>\n",
       "    </tr>\n",
       "  </thead>\n",
       "  <tbody>\n",
       "    <tr>\n",
       "      <th>0</th>\n",
       "      <td>2021-01-01 00:00:00</td>\n",
       "      <td>3</td>\n",
       "      <td>700.95</td>\n",
       "      <td>0.44</td>\n",
       "      <td>35.99</td>\n",
       "      <td>17.35</td>\n",
       "      <td>32.90</td>\n",
       "      <td>20.33</td>\n",
       "      <td>26.64</td>\n",
       "      <td>8.99</td>\n",
       "    </tr>\n",
       "    <tr>\n",
       "      <th>1</th>\n",
       "      <td>2021-01-01 01:00:00</td>\n",
       "      <td>3</td>\n",
       "      <td>847.82</td>\n",
       "      <td>2.46</td>\n",
       "      <td>38.04</td>\n",
       "      <td>18.06</td>\n",
       "      <td>36.24</td>\n",
       "      <td>23.32</td>\n",
       "      <td>30.54</td>\n",
       "      <td>9.37</td>\n",
       "    </tr>\n",
       "    <tr>\n",
       "      <th>2</th>\n",
       "      <td>2021-01-01 02:00:00</td>\n",
       "      <td>3</td>\n",
       "      <td>894.55</td>\n",
       "      <td>5.25</td>\n",
       "      <td>38.39</td>\n",
       "      <td>23.25</td>\n",
       "      <td>41.01</td>\n",
       "      <td>24.16</td>\n",
       "      <td>31.93</td>\n",
       "      <td>9.25</td>\n",
       "    </tr>\n",
       "    <tr>\n",
       "      <th>3</th>\n",
       "      <td>2021-01-01 03:00:00</td>\n",
       "      <td>3</td>\n",
       "      <td>827.79</td>\n",
       "      <td>6.20</td>\n",
       "      <td>36.33</td>\n",
       "      <td>33.98</td>\n",
       "      <td>43.39</td>\n",
       "      <td>23.20</td>\n",
       "      <td>30.91</td>\n",
       "      <td>8.61</td>\n",
       "    </tr>\n",
       "    <tr>\n",
       "      <th>4</th>\n",
       "      <td>2021-01-01 04:00:00</td>\n",
       "      <td>2</td>\n",
       "      <td>660.90</td>\n",
       "      <td>3.69</td>\n",
       "      <td>29.13</td>\n",
       "      <td>54.36</td>\n",
       "      <td>35.76</td>\n",
       "      <td>19.50</td>\n",
       "      <td>25.60</td>\n",
       "      <td>6.21</td>\n",
       "    </tr>\n",
       "  </tbody>\n",
       "</table>\n",
       "</div>"
      ],
      "text/plain": [
       "                    dt  aqi      co    no    no2     o3    so2  pm2_5   pm10  \\\n",
       "0  2021-01-01 00:00:00    3  700.95  0.44  35.99  17.35  32.90  20.33  26.64   \n",
       "1  2021-01-01 01:00:00    3  847.82  2.46  38.04  18.06  36.24  23.32  30.54   \n",
       "2  2021-01-01 02:00:00    3  894.55  5.25  38.39  23.25  41.01  24.16  31.93   \n",
       "3  2021-01-01 03:00:00    3  827.79  6.20  36.33  33.98  43.39  23.20  30.91   \n",
       "4  2021-01-01 04:00:00    2  660.90  3.69  29.13  54.36  35.76  19.50  25.60   \n",
       "\n",
       "    nh3  \n",
       "0  8.99  \n",
       "1  9.37  \n",
       "2  9.25  \n",
       "3  8.61  \n",
       "4  6.21  "
      ]
     },
     "execution_count": 4,
     "metadata": {},
     "output_type": "execute_result"
    }
   ],
   "source": [
    "# Đọc dữ liệu từ file CSV\n",
    "data = pd.read_csv('./Data/air_quality_cleaned.csv')\n",
    "\n",
    "# Xem mẫu dữ liệu\n",
    "data.head()"
   ]
  },
  {
   "cell_type": "code",
   "execution_count": 5,
   "id": "ddbaaf32",
   "metadata": {},
   "outputs": [
    {
     "name": "stdout",
     "output_type": "stream",
     "text": [
      "<class 'pandas.core.frame.DataFrame'>\n",
      "RangeIndex: 25176 entries, 0 to 25175\n",
      "Data columns (total 10 columns):\n",
      " #   Column  Non-Null Count  Dtype  \n",
      "---  ------  --------------  -----  \n",
      " 0   dt      25176 non-null  object \n",
      " 1   aqi     25176 non-null  int64  \n",
      " 2   co      25176 non-null  float64\n",
      " 3   no      25176 non-null  float64\n",
      " 4   no2     25176 non-null  float64\n",
      " 5   o3      25176 non-null  float64\n",
      " 6   so2     25176 non-null  float64\n",
      " 7   pm2_5   25176 non-null  float64\n",
      " 8   pm10    25176 non-null  float64\n",
      " 9   nh3     25176 non-null  float64\n",
      "dtypes: float64(8), int64(1), object(1)\n",
      "memory usage: 1.9+ MB\n"
     ]
    }
   ],
   "source": [
    "# Kiểm tra thông tin cơ bản về dữ liệu\n",
    "data.info()"
   ]
  },
  {
   "cell_type": "markdown",
   "id": "d2cde180",
   "metadata": {},
   "source": [
    "## Huấn luyện mô hình"
   ]
  },
  {
   "cell_type": "markdown",
   "id": "ba0836d1",
   "metadata": {},
   "source": [
    "**Lựa chọn thuộc tính:** chúng em sẽ tiến hành phân loại chất lượng không khí theo chỉ số `aqi` dựa trên các chỉ số `no, co, so2, no2, o3, pm2_5, pm10, nh3`"
   ]
  },
  {
   "cell_type": "code",
   "execution_count": 6,
   "id": "26cffd2f",
   "metadata": {},
   "outputs": [],
   "source": [
    "# Chia dữ liệu thành features (X) và target variable (y)\n",
    "X = data[['no', 'co', 'so2', 'no2', 'o3', 'pm2_5', 'pm10', 'nh3']]  # Chọn các chỉ số khí quyển làm features\n",
    "y = data['aqi']  # Chọn cột AQI làm target variable"
   ]
  },
  {
   "cell_type": "markdown",
   "id": "f7bd8abb",
   "metadata": {},
   "source": [
    "**Feature Scaling:**\n",
    "\n",
    "- Khi khoảng giá trị giữa 2 thuộc tính quá cách xa nhau thì việc mô hình hóa cũng như trực quan mối quan hệ có thể gặp khó khăn, do đó phải thực hiện kĩ thuật 'Feature Scaling' hay việt hóa là 'Co giãn thuộc tính'.\n",
    "- Có 3 phương pháp feature scaling chính là:\n",
    "    - Standardisation (Chính quy hóa): Làm cho tập dữ liệu có trung bình là 0 và độ lệch chuẩn là 1 và được áp dụng cho hầu hết các trường hợp cần feature scaling.\n",
    "    - Normalisation (Tiêu chuẩn hóa): Làm cho các giá trị trong tập dữ liệu thuộc đoạn [0, 1] và được áp dụng nếu tập dữ liệu tuân theo phân phối chuẩn.\n",
    "    - MinMax Scaler: Đưa các giá trị về khoảng giữa 2 giá trị min và max trong miền giá trị của thuộc tính, có thể là đoạn [-1, 0], [0, 1], [-1, 1],...\n",
    "- Trong bài này nhóm chọn phương pháp Standardisation để scaling khoảng giá trị của thuộc tính về khoảng gần hơn với giá trị của tập y là `aqi`."
   ]
  },
  {
   "cell_type": "code",
   "execution_count": 7,
   "id": "264d8622",
   "metadata": {},
   "outputs": [],
   "source": [
    "# Chuẩn hóa dữ liệu\n",
    "scaler = StandardScaler()\n",
    "X = scaler.fit_transform(X)"
   ]
  },
  {
   "cell_type": "markdown",
   "id": "e173dee0",
   "metadata": {},
   "source": [
    "**Phân tách bộ dữ liệu thành 3 tập training set, validation set và test set:**\n",
    "\n",
    "- Mục đích:\n",
    "    - Huấn luyện và đánh giá độc lập: Tập huấn luyện được sử dụng để huấn luyện mô hình. Tập kiểm tra được sử dụng để đánh giá hiệu suất tổng quát của mô hình. Dữ liệu này không được sử dụng trong quá trình huấn luyện để đảm bảo mô hình có khả năng tổng quát hóa với dữ liệu mới, đảm bảo tính khách quan.\n",
    "    - Kiểm tra: Tập validation được sử dụng để tìm ra mô hình tốt nhất với những siêu tham số khác nhau.\n",
    "    - Tránh overfitting: Nếu không chia dữ liệu mà sử dụng toàn bộ dữ liệu để huấn luyện, mô hình có thể học \"quá khớp\" (overfit) dữ liệu huấn luyện mà không tổng quát hóa được cho dữ liệu mới. Việc có tập kiểm tra giúp đánh giá xem mô hình có đang học từ dữ liệu một cách tổng quát hay chỉ học \"nhớ\" dữ liệu huấn luyện không.\n",
    "    - Đánh giá và cải thiện mô hình: Thông qua việc đánh giá trên tập kiểm tra, chúng ta có thể đánh giá hiệu suất của mô hình và cải thiện nó thông qua việc điều chỉnh các tham số hoặc phương pháp huấn luyện.\n",
    "- Kích thước mỗi tập như sau:\n",
    "    - Size of Training set = 80% * (Size of Dataset)\n",
    "    - Size of Test set = 20% * (Size of Dataset)."
   ]
  },
  {
   "cell_type": "code",
   "execution_count": 8,
   "id": "0118cda3",
   "metadata": {},
   "outputs": [],
   "source": [
    "# Chia dữ liệu thành tập train và tập test\n",
    "X_train, X_test, y_train, y_test = train_test_split(X, y, test_size=0.2, random_state=42)\n",
    "\n",
    "# Tiếp tục chia tập train thành tập train và tập validation\n",
    "#X_train, X_val, y_train, y_val = train_test_split(X_train, y_train, test_size=0.25, random_state=42)  # 0.25 x 0.8 = 0.2"
   ]
  },
  {
   "cell_type": "markdown",
   "id": "451c8e8f",
   "metadata": {},
   "source": [
    "### 1. Mô hình Decision Tree"
   ]
  },
  {
   "cell_type": "markdown",
   "id": "39467046",
   "metadata": {},
   "source": [
    "- Mô hình Decision Tree (cây quyết định) là một thuật toán học máy có cấu trúc dạng cây, chia dữ liệu dựa trên các quy tắc quyết định đơn giản. Mỗi nút lá của cây đại diện cho một nhãn hoặc một giá trị dự đoán, trong khi các nút gốc và nội bộ biểu diễn các quy tắc quyết định để chia tách dữ liệu.\n",
    "\n",
    "- Cách hoạt động chính của Decision Tree:\n",
    "\n",
    "    - Chọn thuộc tính quan trọng: Các thuộc tính được chọn dựa trên độ quan trọng của chúng trong việc chia dữ liệu.\n",
    "    - Tách nút (node splitting): Mỗi nút trong cây đại diện cho một thuộc tính và một ngưỡng (threshold). Dữ liệu được chia thành các nhánh dựa trên giá trị của thuộc tính này.\n",
    "    - Xây dựng cây: Quá trình tách nút được thực hiện đệ quy cho đến khi một điều kiện dừng được đáp ứng (như đạt đến độ sâu tối đa hoặc không thể chia tách thêm)."
   ]
  },
  {
   "cell_type": "markdown",
   "id": "61407902",
   "metadata": {},
   "source": [
    "**Tiến hành huấn luyện:**\n",
    "\n",
    "- Đầu tiên, Nhóm tiến hành mô hình hóa dữ liệu theo *Decision Tree* với một cây khá đơn giản dựa theo thuật toán đo lường *Gini*, *độ sâu tối đa của cây* là 3, *số mẫu tối thiểu cần thiết để chia một node* là 2 và *số mẫu tối thiểu cần thiết ở mỗi leaf* là 1. \n",
    "- Sau đó đánh giá mô hình này dựa trên *Cross-validation* bằng cách chia tập train thành 5 phần bằng nhau và sử dụng 4 phần để huấn luyện và phần còn lại để đánh giá mô hình, quá trình này được lặp lại 5 lần, mỗi lần sử dụng một fold khác nhau làm tập kiểm tra. Điều này nhằm thử nghiệm tính hiệu quả của cây đơn giản này với bộ dữ liệu mà chúng em có.  "
   ]
  },
  {
   "cell_type": "code",
   "execution_count": 9,
   "id": "54a59bd6",
   "metadata": {},
   "outputs": [
    {
     "name": "stdout",
     "output_type": "stream",
     "text": [
      "Cross-Validation Scores: [0.80635551 0.81330685 0.80685204 0.80983118 0.80362463]\n",
      "Mean CV Accuracy: 0.8079940417080437\n",
      "Test Accuracy: 0.8105639396346307\n"
     ]
    }
   ],
   "source": [
    "# Khởi tạo mô hình Decision Tree\n",
    "model = DecisionTreeClassifier(criterion='gini', max_depth=3, min_samples_split=2, min_samples_leaf=1)\n",
    "\n",
    "# Huấn luyện mô hình trên tập train\n",
    "model.fit(X_train, y_train)\n",
    "\n",
    "# Đánh giá mô hình trên tập validation\n",
    "#val_accuracy = model.score(X_val, y_val)\n",
    "#print(f'Validation Accuracy: {val_accuracy}')\n",
    "\n",
    "# Đánh giá mô hình bằng cross-validation trên tập train\n",
    "cv_scores = cross_val_score(model, X_train, y_train, cv=5)\n",
    "print(\"Cross-Validation Scores:\", cv_scores)\n",
    "print(\"Mean CV Accuracy:\", cv_scores.mean())\n",
    "\n",
    "# Đánh giá mô hình trên tập test (đánh giá cuối cùng)\n",
    "test_accuracy = model.score(X_test, y_test)\n",
    "print(f'Test Accuracy: {test_accuracy}')"
   ]
  },
  {
   "cell_type": "markdown",
   "id": "a8ce0ac1",
   "metadata": {},
   "source": [
    "**Đánh giá:**\n",
    "\n",
    "- Có thể thấy việc chia tập train thành 4 fold và sử dụng Cross-Validation cho ra hiệu quả khá tương đồng nhau (Trung bình xấp xỉ 80%). Hiệu quả trên tập test ban đầu cũng khá tương tự như vậy (Xấp xỉ 81%). Kết quả này là khá cao, như vậy ta có thể thấy mô hình này khá hiệu quả."
   ]
  },
  {
   "cell_type": "markdown",
   "id": "70f76c10",
   "metadata": {},
   "source": [
    "**Cải thiện mô hình:**\n",
    "- Mô hình có thể cho ra những kết quả tốt hơn với những tham số khác, vì vậy ta có thể kiểm tra thông qua thư viện `GridSearchCV`"
   ]
  },
  {
   "cell_type": "code",
   "execution_count": 10,
   "id": "c515d8cb",
   "metadata": {},
   "outputs": [
    {
     "name": "stdout",
     "output_type": "stream",
     "text": [
      "Best Parameters: {'criterion': 'gini', 'max_depth': 5, 'min_samples_leaf': 1, 'min_samples_split': 5}\n"
     ]
    }
   ],
   "source": [
    "\"\"\"\n",
    "    Sử dụng cách chia tập train và tập test lần lượt là 80% và 20% của dataset, sau đó cũng sử dụng Cross-validation chia tập train thành 4 fold như trên\n",
    "\"\"\"\n",
    "\n",
    "# Chia dữ liệu thành tập train và tập test\n",
    "#X_train, X_test, y_train, y_test = train_test_split(X, y, test_size=0.2, random_state=42)\n",
    "\n",
    "# Khởi tạo mô hình Decision Tree\n",
    "dtree = DecisionTreeClassifier()\n",
    "\n",
    "# Định nghĩa lưới các giá trị tham số cần tìm kiếm\n",
    "param_grid = {\n",
    "    'criterion': ['gini', 'entropy'],\n",
    "    'max_depth': [3, 5, 10, 15, 20],\n",
    "    'min_samples_split': [2, 3, 5, 7, 10],\n",
    "    'min_samples_leaf': [1, 2, 3, 4, 5]\n",
    "}\n",
    "\n",
    "# Tạo đối tượng GridSearchCV\n",
    "grid_search = GridSearchCV(dtree, param_grid, cv=5, scoring='accuracy')\n",
    "\n",
    "# Thực hiện tìm kiếm trên lưới tham số\n",
    "grid_search.fit(X_train, y_train)\n",
    "\n",
    "# In ra tham số tốt nhất\n",
    "print(\"Best Parameters:\", grid_search.best_params_)"
   ]
  },
  {
   "cell_type": "markdown",
   "id": "5602ecf0",
   "metadata": {},
   "source": [
    "Như vậy ta đã có thông số params tốt nhất có thể tìm được trong tập các params đưa ra như trên, ta sẽ lưu lại thành `best_model` và đánh giá nó"
   ]
  },
  {
   "cell_type": "code",
   "execution_count": 11,
   "id": "929a5e18",
   "metadata": {},
   "outputs": [
    {
     "name": "stdout",
     "output_type": "stream",
     "text": [
      "Test Accuracy: 0.8387609213661636\n"
     ]
    }
   ],
   "source": [
    "# Đánh giá hiệu suất của mô hình tốt nhất trên tập kiểm tra\n",
    "best_model_tree = grid_search.best_estimator_\n",
    "y_pred = best_model_tree.predict(X_test)\n",
    "accuracy = accuracy_score(y_test, y_pred)\n",
    "print(f'Test Accuracy: {accuracy}')"
   ]
  },
  {
   "cell_type": "markdown",
   "id": "7c61913b",
   "metadata": {},
   "source": [
    "**Dự đoán:**\n",
    "- Tiến hành dự đoán từ 1 sample data với `best_model` vừa tạo ra như trên"
   ]
  },
  {
   "cell_type": "code",
   "execution_count": 58,
   "id": "0f6e4a17",
   "metadata": {},
   "outputs": [
    {
     "name": "stdout",
     "output_type": "stream",
     "text": [
      "Predicted AQI: [2]\n"
     ]
    }
   ],
   "source": [
    "# Tạo sample data mới\n",
    "new_data = {\n",
    "    'no': 0.5,\n",
    "    'co': 700.3,\n",
    "    'so2': 35.1,\n",
    "    'no2': 37.3,\n",
    "    'o3': 52.7,\n",
    "    'pm2_5': 19.5,\n",
    "    'pm10': 20.2,\n",
    "    'nh3': 7.99\n",
    "}\n",
    "\n",
    "# Chuyển sample data thành Dataframe\n",
    "new_df = pd.DataFrame([new_data])\n",
    "\n",
    "# Chuẩn hóa sample data\n",
    "new_sample = scaler.transform(new_df)\n",
    "\n",
    "# Dữ đoán aqi sử dụng best_model vừa huấn luyện trên \n",
    "predicted_aqi = best_model_tree.predict(new_sample)\n",
    "\n",
    "print(f'Predicted AQI: {predicted_aqi}')"
   ]
  },
  {
   "cell_type": "markdown",
   "id": "8d97bd32-37ef-4013-b5ae-0212158703a6",
   "metadata": {},
   "source": [
    "### 1. Mô hình SVM\n",
    "Phân tích dữ liệu từ kết quả của mô hình SVM được thực hiện thông qua ma trận nhầm lẫn (confusion matrix) và báo cáo phân loại (classification report):\n",
    "- Ma trận nhầm lẫn:\n",
    "    - Ma trận nhầm lẫn giúp xác định độ chính xác và hiệu suất của mô hình trên từng lớp.\n",
    "    - Các hàng của ma trận đại diện cho lớp thực tế, trong khi các cột đại diện cho lớp được dự đoán.\n",
    "    - Số lượng điểm dữ liệu nằm trên đường chéo chính (từ trái trên xuống phải dưới) thể hiện số lượng dự đoán đúng.\n",
    "- Báo cáo phân loại:\n",
    "    - Báo cáo phân loại cung cấp các chỉ số chính như precision, recall, và F1-score cho từng lớp.\n",
    "    - Precision: Tỷ lệ số điểm dự đoán đúng trong số tất cả các điểm được dự đoán là thuộc lớp đó.\n",
    "    - Recall: Tỷ lệ số điểm dự đoán đúng trong số tất cả các điểm thực tế là thuộc lớp đó.\n",
    "    - F1-score: Trung bình điều hòa giữa precision và recall. F1-score = 2 * (precision * recall) / (precision + recall).\n",
    "    - Support: Số lượng điểm dữ liệu thực tế trong từng lớp.\n",
    "- Hiển thị ma trận nhầm lẫn bằng heatmap:\n",
    "    - Heatmap là một biểu đồ màu sắc giúp hiển thị ma trận nhầm lẫn dưới dạng hình ảnh.\n",
    "    - Các giá trị càng cao (màu càng đậm) thể hiện số lượng dự đoán đúng càng nhiều."
   ]
  },
  {
   "cell_type": "code",
   "execution_count": null,
   "id": "d8e1343c-84af-4498-b31c-fee895351be5",
   "metadata": {},
   "outputs": [
    {
     "name": "stdout",
     "output_type": "stream",
     "text": [
      "Ma trận nhầm lẫn:\n",
      "[[  94   45    0    0    0]\n",
      " [   3  845  102    0    0]\n",
      " [   0  120  294  325    0]\n",
      " [   0    1  222  812  142]\n",
      " [   0    0    0  137 1894]]\n",
      "\n",
      "Báo cáo phân loại:\n",
      "              precision    recall  f1-score   support\n",
      "\n",
      "           1       0.97      0.68      0.80       139\n",
      "           2       0.84      0.89      0.86       950\n",
      "           3       0.48      0.40      0.43       739\n",
      "           4       0.64      0.69      0.66      1177\n",
      "           5       0.93      0.93      0.93      2031\n",
      "\n",
      "    accuracy                           0.78      5036\n",
      "   macro avg       0.77      0.72      0.74      5036\n",
      "weighted avg       0.78      0.78      0.78      5036\n",
      "\n"
     ]
    },
    {
     "data": {
      "image/png": "[encoded data removed]",
      "text/plain": [
       "<Figure size 800x600 with 2 Axes>"
      ]
     },
     "metadata": {},
     "output_type": "display_data"
    }
   ],
   "source": [
    "# Tạo một mô hình SVM\n",
    "# mô hình SVM được tạo với C=1.0, là giá trị mặc định thường được sử dụng \n",
    "# và random_state=42 để đảm bảo tính tái sử dụng của quá trình huấn luyện.\n",
    "svm_model = SVC(kernel='linear', C=1.0, random_state=42)\n",
    "\n",
    "# Huấn luyện mô hình\n",
    "svm_model.fit(X_train, y_train)\n",
    "\n",
    "# Dự đoán trên tập test\n",
    "y_pred = svm_model.predict(X_test)\n",
    "\n",
    "# Đánh giá mô hình\n",
    "print(\"Ma trận nhầm lẫn:\")\n",
    "print(confusion_matrix(y_test, y_pred))\n",
    "\n",
    "print(\"\\nBáo cáo phân loại:\")\n",
    "print(classification_report(y_test, y_pred))\n",
    "\n",
    "# Hiển thị ma trận nhầm lẫn\n",
    "plt.figure(figsize=(8, 6))\n",
    "sns.heatmap(confusion_matrix(y_test, y_pred), annot=True, fmt=\"d\", cmap=\"Blues\",\n",
    "            xticklabels=svm_model.classes_, yticklabels=svm_model.classes_)\n",
    "plt.title(\"Ma trận nhầm lẫn\")\n",
    "plt.xlabel(\"Nhãn Dự đoán\")\n",
    "plt.ylabel(\"Nhãn Thực tế\")\n",
    "plt.show()"
   ]
  },
  {
   "cell_type": "markdown",
   "id": "199c8259-3240-4612-8071-eb5bd778a636",
   "metadata": {},
   "source": [
    "#### Phân tích Kết Quả:\n",
    "\n",
    "- Chất lượng Tốt (Lớp 1):\n",
    "    - Precision cao (0.97) nhưng Recall thấp (0.68) có thể chỉ ra mô hình ít khi dự đoán sai chất lượng không khí tốt, nhưng nó bỏ lỡ nhiều trường hợp thực tế.\n",
    "- Chất Lượng Trung Bình (Lớp 2):\n",
    "    - Precision và Recall đều tốt (0.84 và 0.89), cho thấy mô hình có hiệu suất tốt trên lớp này.\n",
    "- Chất Lượng Kém Đến Rất Kém (Lớp 3):\n",
    "    - Precision thấp (0.48) và Recall cũng thấp (0.40), cho thấy khả năng dự đoán đúng trên lớp này không cao.\n",
    "- Chất Lượng Rất Kém Đến Tệ (Lớp 4):\n",
    "    - Precision và Recall khá tốt (0.64 và 0.69), nhưng có thể được cải thiện.\n",
    "- Chất Lượng Rất Tệ (Lớp 5):\n",
    "    - Precision và Recall rất cao (0.93), chỉ ra mô hình tốt trong việc dự đoán chất lượng không khí rất tệ.\n",
    "    \n",
    "**=> Mô hình có độ chính xác tổng thể là 78%**"
   ]
  },
  {
   "cell_type": "markdown",
   "id": "b58a43c2-37f2-4507-9d1e-8dd2802e23c9",
   "metadata": {},
   "source": [
    "#### Để cải thiện mô hình và tinh chỉnh siêu tham số C, ta có thể sử dụng GridSearchCV từ thư viện scikit-learn."
   ]
  },
  {
   "cell_type": "code",
   "execution_count": null,
   "id": "be138278-a5a1-4667-9d1a-a0706caa2357",
   "metadata": {},
   "outputs": [
    {
     "name": "stdout",
     "output_type": "stream",
     "text": [
      "Best C: 100\n",
      "Best Accuracy: 0.7935948361469711\n"
     ]
    }
   ],
   "source": [
    "# Tạo một mô hình SVM\n",
    "svm_model = SVC(kernel='linear', random_state=42)\n",
    "\n",
    "# Định nghĩa các giá trị C để thử nghiệm\n",
    "param_grid = {'C': [0.001, 0.01, 0.1, 1, 10, 100]}\n",
    "\n",
    "# Tạo một GridSearchCV\n",
    "grid_search = GridSearchCV(svm_model, param_grid, cv=5, scoring='accuracy')\n",
    "\n",
    "# Huấn luyện GridSearchCV trên dữ liệu\n",
    "grid_search.fit(X_train, y_train)\n",
    "\n",
    "# In ra giá trị C tốt nhất được chọn\n",
    "print(\"Best C:\", grid_search.best_params_['C'])\n",
    "\n",
    "# In ra độ chính xác tốt nhất trên tập kiểm tra\n",
    "print(\"Best Accuracy:\", grid_search.best_score_)"
   ]
  },
  {
   "cell_type": "markdown",
   "id": "a3f82fb4-6b05-4d8d-bc7a-b71d820fedae",
   "metadata": {},
   "source": [
    "**Dự đoán:**\n",
    "- Tiến hành dự đoán từ 1 sample data với `best_model` vừa tạo ra như trên"
   ]
  },
  {
   "cell_type": "code",
   "execution_count": null,
   "id": "5ea7710d-7ae6-4255-85ef-a7504d7de940",
   "metadata": {},
   "outputs": [
    {
     "name": "stdout",
     "output_type": "stream",
     "text": [
      "Predicted AQI: 2\n"
     ]
    },
    {
     "name": "stderr",
     "output_type": "stream",
     "text": [
      "C:\\Users\\ASUS\\anaconda3\\lib\\site-packages\\sklearn\\base.py:450: UserWarning: X does not have valid feature names, but StandardScaler was fitted with feature names\n",
      "  warnings.warn(\n"
     ]
    }
   ],
   "source": [
    "# Sử dụng mô hình đã tinh chỉnh từ GridSearchCV\n",
    "best_svm_model = grid_search.best_estimator_\n",
    "\n",
    "# Chuẩn hóa mẫu dữ liệu mới (nếu cần)\n",
    "new_data = scaler.transform([[0.44, 700.95, 32.90, 35.99, 17.35, 20.33, 26.64, 8.99]])\n",
    "\n",
    "# Dự đoán AQI cho mẫu dữ liệu mới\n",
    "predicted_aqi = best_svm_model.predict(new_data)\n",
    "\n",
    "print(\"Predicted AQI:\", predicted_aqi[0])"
   ]
  },
  {
   "cell_type": "markdown",
   "id": "b8bd370b",
   "metadata": {},
   "source": [
    "### 3. Mô hình KNN (K-Nearest Neighbors)"
   ]
  },
  {
   "cell_type": "markdown",
   "id": "13377769",
   "metadata": {},
   "source": [
    "Mô hình K-Nearest Neighbors (KNN) hoạt động dựa trên nguyên lý đơn giản: \"Nhóm các điểm dữ liệu gần nhau trong không gian đặc trưng sẽ có cùng nhãn hoặc giá trị dự đoán\". KNN không học được một mô hình tường minh mà chỉ lưu trữ dữ liệu huấn luyện."
   ]
  },
  {
   "cell_type": "markdown",
   "id": "d44c0f58",
   "metadata": {},
   "source": [
    "Cách hoạt động:\n",
    "- Bước huấn luyện:\n",
    "  - KNN lưu trữ toàn bộ dữ liệu huấn luyện.\n",
    "- Bước dự đoán:\n",
    "  - Khi có dữ liệu mới cần dự đoán, KNN tìm k điểm dữ liệu gần nhất với điểm dữ liệu mới trong không gian đặc trưng. K là số lân cận được xác định trước (hyperparameter).\n",
    "\n",
    "  - KNN sử dụng một phép đo khoảng cách để xác định các điểm gần nhất.\n",
    "  - Các điểm gần nhất này sẽ đóng vai trò trong việc quyết định nhãn hoặc giá trị dự đoán cho điểm dữ liệu mới. Điều này được thực hiện bằng cách đếm số lượng điểm thuộc mỗi nhóm trong k điểm gần nhất và chọn nhóm chiếm đa số là nhãn hoặc giá trị dự đoán cho điểm dữ liệu mới."
   ]
  },
  {
   "cell_type": "markdown",
   "id": "dde9ea27",
   "metadata": {},
   "source": [
    "- Trong bài này, mô hình KNN nhóm em sẽ sử dụng phép đo khoảng cách Euclidean để xác định điểm gần nhất.\n",
    "    - Euclidean là phép đo phổ biến và được sử dụng rộng rãi trong thuật toán KNN.\n",
    "    - Công thức khoảng cách Euclidean giữa hai điểm $ p $ và $ q $ trong không gian nhiều chiều ($ n $ chiều) được tính bằng căn bậc hai của tổng bình phương của sự khác biệt giữa các thành phần tương ứng của hai điểm.\n",
    "                    $$ \\text{Euclidean distance} = \\sqrt{\\sum_{i=1}^{n} (q_i - p_i)^2} $$\n",
    "\n",
    "\n",
    "    - Trong công thức này:\n",
    "        - $ p $ và $ q $ là hai điểm trong không gian $ n $ chiều.\n",
    "        - $ p_i $ và $ q_i $ là các thành phần tương ứng của hai điểm $ p $ và $ q $.\n",
    "        - $ n $ là số chiều của không gian đặc trưng.\n"
   ]
  },
  {
   "cell_type": "markdown",
   "id": "02a25312",
   "metadata": {},
   "source": [
    "**Tiến hành huấn luyện**\n",
    "- Đầu tiên, nhóm sẽ tiếp cận mô hình KNN với K = 5.\n",
    "- Sau đó đánh giá mô hình này dựa trên *Cross-validation* bằng cách chia tập train thành 5 phần bằng nhau và sử dụng 4 phần để huấn luyện và phần còn lại để đánh giá mô hình, quá trình này được lặp lại 5 lần, mỗi lần sử dụng một fold khác nhau làm tập kiểm tra. Điều này nhằm thử nghiệm tính hiệu quả của mô hình KNN này với bộ dữ liệu mà chúng em có.  \n",
    " "
   ]
  },
  {
   "cell_type": "code",
   "execution_count": 18,
   "id": "dec066a0",
   "metadata": {},
   "outputs": [
    {
     "name": "stdout",
     "output_type": "stream",
     "text": [
      "Test Accuracy: 0.7768069896743447\n"
     ]
    }
   ],
   "source": [
    "# Tạo mô hình KNN Classifier (ví dụ với k=5)\n",
    "knn_classifier = KNeighborsClassifier(n_neighbors=5)\n",
    "\n",
    "# Huấn luyện mô hình với dữ liệu huấn luyện\n",
    "knn_classifier.fit(X_train, y_train)\n",
    "\n",
    "# Dự đoán nhãn cho dữ liệu kiểm tra\n",
    "y_pred_classifier = knn_classifier.predict(X_test)\n",
    "\n",
    "# Đánh giá hiệu suất của mô hình trên tập test\n",
    "# accuracy = knn_classifier.score(X_test, y_test)\n",
    "accuracy = accuracy_score(y_test, y_pred_classifier)\n",
    "print(f\"Test Accuracy: {accuracy}\")"
   ]
  },
  {
   "cell_type": "code",
   "execution_count": 21,
   "id": "b40d2fdc",
   "metadata": {},
   "outputs": [
    {
     "name": "stdout",
     "output_type": "stream",
     "text": [
      "Cross-Validation Scores: [0.76812314 0.78252234 0.77259186 0.775571   0.76564052]\n",
      "Mean CV Accuracy: 0.7728897715988083\n"
     ]
    }
   ],
   "source": [
    "# Đánh giá mô hình bằng cross-validation trên tập train\n",
    "cv_scores = cross_val_score(knn_classifier, X_train, y_train, cv=5)\n",
    "print(\"Cross-Validation Scores:\", cv_scores)\n",
    "print(\"Mean CV Accuracy:\", cv_scores.mean())"
   ]
  },
  {
   "cell_type": "markdown",
   "id": "5247557c",
   "metadata": {},
   "source": [
    "**Đánh giá**\n",
    "- Kết quả của mô hình sau khi chia *4 fold* và sử dụng *Cross-Validation* cho ra kết quả khá tương đồng. Trung bình ở *77,29%*, mức này là khá tốt của 1 mô hình"
   ]
  },
  {
   "cell_type": "markdown",
   "id": "28504173",
   "metadata": {},
   "source": [
    "**Cải thiện mô hình**\n",
    "- K có thể ảnh hưởng đến hiện tượng overfitting hoặc underfitting. K càng lớn thì mô hình càng đơn giản nhưng có thể dẫn đến việc bỏ qua các chi tiết nhỏ, trong khi K càng nhỏ thì mô hình có thể trở nên quá phức tạp và dễ bị nhiễu.\n",
    "- Nhóm sẽ sử dụng *K-Fold Cross-validation* để chia dữ liệu thành các tập con và đánh giá hiệu suất của mô hình với mỗi giá trị K. Điều này giúp chọn được giá trị K phù hợp cho mô hình KNN của nhóm, dựa trên mục tiêu tối ưu hóa hiệu suất và tránh hiện tượng *overfitting/underfitting*. (Có thể sử dụng *GridSearchCV* hoặc *RandomizedSearchCV*)\n",
    "- Nhóm sẽ thử nghiệm với K=[1:101] để tìm ra K tốt nhất cho tập dữ liệu của nhóm."
   ]
  },
  {
   "cell_type": "markdown",
   "id": "374d3615",
   "metadata": {},
   "source": [
    "**GridSearchCV**"
   ]
  },
  {
   "cell_type": "code",
   "execution_count": 47,
   "id": "29b3b813",
   "metadata": {},
   "outputs": [
    {
     "name": "stdout",
     "output_type": "stream",
     "text": [
      "Giá trị K tốt nhất: {'n_neighbors': 15}\n",
      "Độ chính xác tốt nhất: 0.7817279046673287\n"
     ]
    }
   ],
   "source": [
    "# Tạo mô hình KNN\n",
    "knn = KNeighborsClassifier()\n",
    "n_neighbors = [num for num in range(3, 101) if num % 2 != 0]\n",
    "# Thiết lập các tham số cần tìm kiếm\n",
    "param_grid = {'n_neighbors': n_neighbors}  # Các giá trị K cần thử\n",
    "\n",
    "# Sử dụng GridSearchCV để tìm giá trị K tốt nhất\n",
    "grid_search = GridSearchCV(knn, param_grid, cv=5, scoring='accuracy')\n",
    "grid_search.fit(X_train, y_train)\n",
    "\n",
    "# In ra giá trị K tốt nhất và độ chính xác tương ứng\n",
    "print(\"Giá trị K tốt nhất:\", grid_search.best_params_)\n",
    "print(\"Độ chính xác tốt nhất:\", grid_search.best_score_)"
   ]
  },
  {
   "cell_type": "markdown",
   "id": "c65c507a",
   "metadata": {},
   "source": [
    "**K-Fold Cross-Validation**"
   ]
  },
  {
   "cell_type": "code",
   "execution_count": 46,
   "id": "f6dc689b",
   "metadata": {},
   "outputs": [
    {
     "name": "stdout",
     "output_type": "stream",
     "text": [
      "Độ chính xác với K=3: 0.7678252234359484\n",
      "Độ chính xác với K=5: 0.7728897715988083\n",
      "Độ chính xác với K=7: 0.7785998013902681\n",
      "Độ chính xác với K=9: 0.7799404170804369\n",
      "Độ chính xác với K=11: 0.7810327706057596\n",
      "Độ chính xác với K=13: 0.7806355511420059\n",
      "Độ chính xác với K=15: 0.7817279046673287\n",
      "Độ chính xác với K=17: 0.7811817279046673\n",
      "Độ chính xác với K=19: 0.7804865938430984\n",
      "Độ chính xác với K=21: 0.7795928500496525\n",
      "Độ chính xác với K=23: 0.7777060575968222\n",
      "Độ chính xác với K=25: 0.7776564051638529\n",
      "Độ chính xác với K=27: 0.7768123138033763\n",
      "Độ chính xác với K=29: 0.7755213505461768\n",
      "Độ chính xác với K=31: 0.7759682224428998\n",
      "Độ chính xác với K=33: 0.7754716981132075\n",
      "Độ chính xác với K=35: 0.7749751737835153\n",
      "Độ chính xác với K=37: 0.7743793445878848\n",
      "Độ chính xác với K=39: 0.773286991062562\n",
      "Độ chính xác với K=41: 0.771648460774578\n",
      "Độ chính xác với K=43: 0.7716981132075471\n",
      "Độ chính xác với K=45: 0.7709533267130089\n",
      "Độ chính xác với K=47: 0.7703078450844092\n",
      "Độ chính xác với K=49: 0.7696623634558093\n",
      "Độ chính xác với K=51: 0.7687686196623635\n",
      "Độ chính xác với K=53: 0.7685700099304865\n",
      "Độ chính xác với K=55: 0.7679245283018867\n",
      "Độ chính xác với K=57: 0.7675769612711023\n",
      "Độ chính xác với K=59: 0.7664349553128103\n",
      "Độ chính xác với K=61: 0.7655908639523336\n",
      "Độ chính xác với K=63: 0.7644488579940416\n",
      "Độ chính xác với K=65: 0.7647467725918571\n",
      "Độ chính xác với K=67: 0.7642502482621648\n",
      "Độ chính xác với K=69: 0.7629592850049652\n",
      "Độ chính xác với K=71: 0.7620655412115193\n",
      "Độ chính xác với K=73: 0.7620655412115193\n",
      "Độ chính xác với K=75: 0.7618172790466733\n",
      "Độ chính xác với K=77: 0.7624627606752731\n",
      "Độ chính xác với K=79: 0.7618172790466733\n",
      "Độ chính xác với K=81: 0.7616683217477657\n",
      "Độ chính xác với K=83: 0.7611717974180736\n",
      "Độ chính xác với K=85: 0.7604270109235353\n",
      "Độ chính xác với K=87: 0.759682224428997\n",
      "Độ chính xác với K=89: 0.7595332671300893\n",
      "Độ chính xác với K=91: 0.7589870903674281\n",
      "Độ chính xác với K=93: 0.7582423038728898\n",
      "Độ chính xác với K=95: 0.7575471698113208\n",
      "Độ chính xác với K=97: 0.7571996027805362\n",
      "Độ chính xác với K=99: 0.7571002979145978\n"
     ]
    }
   ],
   "source": [
    "n_neighbors = [num for num in range(3, 101) if num % 2 != 0]\n",
    "\n",
    "# Lặp qua từng giá trị K và thực hiện cross-validation\n",
    "for k in n_neighbors:\n",
    "    # Tạo mô hình KNN với giá trị K hiện tại\n",
    "    knn = KNeighborsClassifier(n_neighbors=k)\n",
    "\n",
    "    # Huấn luyện mô hình với dữ liệu huấn luyện\n",
    "    knn.fit(X_train, y_train)\n",
    "    \n",
    "    # Thực hiện k-fold cross-validation với K hiện tại\n",
    "    scores = cross_val_score(knn, X_train, y_train, cv=5)  # Sử dụng 5-fold cross-validation\n",
    "    \n",
    "    # Accuracy trung bình\n",
    "    print(f\"Độ chính xác với K={k}: {np.mean(scores)}\")"
   ]
  },
  {
   "cell_type": "markdown",
   "id": "20f186c7",
   "metadata": {},
   "source": [
    "- Như vậy, nhìn vào kết quả *GridSearch* và kết quả từ *K-Fold Cross-Validation* ta thấy K tốt nhất = 15, nếu K lớn hơn hoặc nhỏ hơn độ chính đều giảm. Vì vậy không cần kiểm tra với K > 101.\n",
    "- Lưu lại K=15, đây là model KNN tốt nhất cho tập dữ liệu của nhóm."
   ]
  },
  {
   "cell_type": "code",
   "execution_count": 48,
   "id": "42589f00",
   "metadata": {},
   "outputs": [
    {
     "name": "stdout",
     "output_type": "stream",
     "text": [
      "Test Accuracy: 0.778196981731533\n"
     ]
    }
   ],
   "source": [
    "# Đánh giá hiệu suất của mô hình tốt nhất trên tập kiểm tra\n",
    "best_model_knn = grid_search.best_estimator_\n",
    "y_pred = best_model_knn.predict(X_test)\n",
    "accuracy = accuracy_score(y_test, y_pred)\n",
    "print(f'Test Accuracy: {accuracy}')"
   ]
  },
  {
   "cell_type": "markdown",
   "id": "779e51ea",
   "metadata": {},
   "source": [
    "**Dự đoán**\n"
   ]
  },
  {
   "cell_type": "markdown",
   "id": "9e3329ee",
   "metadata": {},
   "source": [
    "- Tiến hành dự đoán 1 mẫu với **best_model_knn** trên."
   ]
  },
  {
   "cell_type": "code",
   "execution_count": 57,
   "id": "50baad3a",
   "metadata": {},
   "outputs": [
    {
     "name": "stdout",
     "output_type": "stream",
     "text": [
      "Predicted AQI: [2]\n"
     ]
    }
   ],
   "source": [
    "# Tạo sample data mới\n",
    "new_data = {\n",
    "    'no': 0.5,\n",
    "    'co': 700.3,\n",
    "    'so2': 35.1,\n",
    "    'no2': 37.3,\n",
    "    'o3': 52.7,\n",
    "    'pm2_5': 19.5,\n",
    "    'pm10': 20.2,\n",
    "    'nh3': 7.99\n",
    "}\n",
    "\n",
    "# Chuyển sample data thành Dataframe\n",
    "new_df = pd.DataFrame([new_data])\n",
    "\n",
    "# Chuẩn hóa sample data\n",
    "new_sample = scaler.transform(new_df)\n",
    "\n",
    "# Dữ đoán aqi sử dụng best_model vừa huấn luyện trên \n",
    "predicted_aqi = best_model_knn.predict(new_sample)\n",
    "\n",
    "print(f'Predicted AQI: {predicted_aqi}')"
   ]
  }
 ],
 "metadata": {
  "kernelspec": {
   "display_name": "Python 3 (ipykernel)",
   "language": "python",
   "name": "python3"
  },
  "language_info": {
   "codemirror_mode": {
    "name": "ipython",
    "version": 3
   },
   "file_extension": ".py",
   "mimetype": "text/x-python",
   "name": "python",
   "nbconvert_exporter": "python",
   "pygments_lexer": "ipython3",
   "version": "3.11.6"
  }
 },
 "nbformat": 4,
 "nbformat_minor": 5
}
