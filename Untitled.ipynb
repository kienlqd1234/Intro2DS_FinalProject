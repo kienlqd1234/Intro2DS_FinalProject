{
 "cells": [
  {
   "cell_type": "markdown",
   "id": "5b3a1cbf",
   "metadata": {},
   "source": [
    "## Import các thư viện cần thiết"
   ]
  },
  {
   "cell_type": "code",
   "execution_count": 2,
   "id": "06337b18",
   "metadata": {},
   "outputs": [],
   "source": [
    "import requests\n",
    "import json\n",
    "import pandas as pd\n",
    "import time\n",
    "import datetime\n",
    "import calendar\n",
    "import seaborn as sns\n",
    "import matplotlib.pyplot as plt"
   ]
  },
  {
   "cell_type": "markdown",
   "id": "c904c376",
   "metadata": {},
   "source": [
    "## Thu thập dữ liệu"
   ]
  },
  {
   "cell_type": "markdown",
   "id": "50ff677e",
   "metadata": {},
   "source": [
    "- Chúng em sẽ thu thập dữ liệu thông qua api do trang https://openweathermap.org đã cung cấp sẵn và lưu và biến data.\n",
    "    \n",
    "\n",
    "- Mãu Api: http://api.openweathermap.org/data/2.5/air_pollution/history?lat={lat}&lon={lon}&start={start}&end={end}&appid={APIkey}\n",
    "<table class=\"material-table\">\n",
    "                  <tr>\n",
    "            <th colspan=\"3\">Parameters</th>\n",
    "                  </tr>\n",
    "               <tr>\n",
    "                     <td><code class=\"nowrap\">lat</code></td>\n",
    "                     <td class=\"sub\">required</td>\n",
    "                     <td>Latitude. If you need the geocoder to automatic convert city names and zip-codes to geo coordinates and the other way around, please use our <a href=\"/api/geocoding-api\">Geocoding API</a></td>\n",
    "                  </tr>\n",
    "                     <tr>\n",
    "                     <td><code class=\"nowrap\">lon</code></td>\n",
    "                     <td class=\"sub\">required</td>\n",
    "                     <td>Longitude. If you need the geocoder to automatic convert city names and zip-codes to geo coordinates and the other way around, please use our <a href=\"/api/geocoding-api\">Geocoding API</a></td>\n",
    "                  </tr>\n",
    "                  <tr>\n",
    "                     <td><code class=\"nowrap\">start</code></td>\n",
    "                     <td class=\"sub\">required</td>\n",
    "                     <td>Start date (unix time, UTC time zone), e.g. start=1606488670</td>\n",
    "                  </tr>\n",
    "                  <tr>\n",
    "                     <td><code class=\"nowrap\">end</code></td>\n",
    "                     <td class=\"sub\">required</td>\n",
    "                     <td>End date (unix time, UTC time zone), e.g. end=1606747870</td>\n",
    "                  </tr>\n",
    "                  <tr>\n",
    "                     <td><code class=\"nowrap\">appid</code></td>\n",
    "                     <td class=\"sub\">required</td>\n",
    "                     <td>Your unique API key (you can always find it on your account page under the <a href=\"https://home.openweathermap.org/api_keys\" target=\"_blank\">\"API key\" tab</a>)</td>\n",
    "                  </tr>\n",
    "               </table>"
   ]
  },
  {
   "cell_type": "markdown",
   "id": "0dd6a582",
   "metadata": {},
   "source": [
    "*Api yêu cầu ngày tháng phải ở dạng Unix Time, chúng em sử dụng hàm bên dưới để chuyển từ định dạng datetime thành Unix time. Nguồn tham khảo: https://stackoverflow.com/questions/1077285/how-to-specify-time-zone-utc-when-converting-to-unix-time-python*"
   ]
  },
  {
   "cell_type": "code",
   "execution_count": 3,
   "id": "04f24b71",
   "metadata": {},
   "outputs": [],
   "source": [
    "def date_time_to_utc_epoch(dt_utc):         #convert from utc date time object (yyyy-mm-dd hh:mm:ss) to UTC epoch\n",
    "    frmt=\"%Y-%m-%d %H:%M:%S\"\n",
    "    dtst=dt_utc.strftime(frmt)              #convert datetime object to string\n",
    "    time_struct = time.strptime(dtst, frmt) #convert time (yyyy-mm-dd hh:mm:ss) to time tuple\n",
    "    epoch_utc=calendar.timegm(time_struct)  #convert time to to epoch\n",
    "    return str(epoch_utc)"
   ]
  },
  {
   "cell_type": "markdown",
   "id": "e0c86b16",
   "metadata": {},
   "source": [
    "*Thiết kế hàm để load data từ api được cung cấp*"
   ]
  },
  {
   "cell_type": "code",
   "execution_count": 4,
   "id": "498465b5",
   "metadata": {},
   "outputs": [],
   "source": [
    "# Base url của API\n",
    "base_url = 'http://api.openweathermap.org/data/2.5/air_pollution/history?'\n",
    "\n",
    "# Hàm load data\n",
    "def load_data(lat: str, lon: str, start_date: str, end_date: str, appid: str):\n",
    "    \"\"\"Hàm lấy dữ liệu\n",
    "\n",
    "    Args:\n",
    "        lat (str): Vĩ độ.\n",
    "        lon (str): Kinh độ.\n",
    "        start_date (str): Ngày bắt đầu (thời gian unix, múi giờ UTC).\n",
    "        end_date (str): Ngày kết thúc (thời gian unix, múi giờ UTC).\n",
    "        appid(str): Khóa API\n",
    "\n",
    "    Returns:\n",
    "        pd.Dataframe: Bảng dữ liệu\n",
    "    \"\"\"\n",
    "    params = {\n",
    "        'lat': lat,\n",
    "        'lon': lon,\n",
    "        'start': start_date,\n",
    "        'end': end_date,\n",
    "        'appid': appid\n",
    "    }\n",
    "    r = requests.get(base_url, params=params)\n",
    "    air_quality_df = pd.DataFrame()\n",
    "    if r.status_code == 200:\n",
    "        data = json.loads(r.text)\n",
    "        extracted_data = [{'dt': item['dt'], 'aqi': item['main']['aqi'], **item['components']} for item in data['list']]\n",
    "        air_quality_df = pd.DataFrame(extracted_data)\n",
    "    return air_quality_df\n"
   ]
  },
  {
   "cell_type": "markdown",
   "id": "88fdde94",
   "metadata": {},
   "source": [
    "*Tiến hành load data từ API*"
   ]
  },
  {
   "cell_type": "code",
   "execution_count": 5,
   "id": "9cfc99b2",
   "metadata": {},
   "outputs": [
    {
     "data": {
      "text/html": [
       "<div>\n",
       "<style scoped>\n",
       "    .dataframe tbody tr th:only-of-type {\n",
       "        vertical-align: middle;\n",
       "    }\n",
       "\n",
       "    .dataframe tbody tr th {\n",
       "        vertical-align: top;\n",
       "    }\n",
       "\n",
       "    .dataframe thead th {\n",
       "        text-align: right;\n",
       "    }\n",
       "</style>\n",
       "<table border=\"1\" class=\"dataframe\">\n",
       "  <thead>\n",
       "    <tr style=\"text-align: right;\">\n",
       "      <th></th>\n",
       "      <th>dt</th>\n",
       "      <th>aqi</th>\n",
       "      <th>co</th>\n",
       "      <th>no</th>\n",
       "      <th>no2</th>\n",
       "      <th>o3</th>\n",
       "      <th>so2</th>\n",
       "      <th>pm2_5</th>\n",
       "      <th>pm10</th>\n",
       "      <th>nh3</th>\n",
       "    </tr>\n",
       "  </thead>\n",
       "  <tbody>\n",
       "    <tr>\n",
       "      <th>0</th>\n",
       "      <td>1606266000</td>\n",
       "      <td>5</td>\n",
       "      <td>1922.61</td>\n",
       "      <td>51.86</td>\n",
       "      <td>22.96</td>\n",
       "      <td>1.61</td>\n",
       "      <td>53.88</td>\n",
       "      <td>66.82</td>\n",
       "      <td>88.41</td>\n",
       "      <td>14.69</td>\n",
       "    </tr>\n",
       "    <tr>\n",
       "      <th>1</th>\n",
       "      <td>1606269600</td>\n",
       "      <td>5</td>\n",
       "      <td>2243.04</td>\n",
       "      <td>62.59</td>\n",
       "      <td>34.27</td>\n",
       "      <td>4.87</td>\n",
       "      <td>73.43</td>\n",
       "      <td>72.41</td>\n",
       "      <td>96.33</td>\n",
       "      <td>18.75</td>\n",
       "    </tr>\n",
       "    <tr>\n",
       "      <th>2</th>\n",
       "      <td>1606273200</td>\n",
       "      <td>5</td>\n",
       "      <td>2296.45</td>\n",
       "      <td>59.90</td>\n",
       "      <td>56.21</td>\n",
       "      <td>13.41</td>\n",
       "      <td>94.41</td>\n",
       "      <td>78.21</td>\n",
       "      <td>104.83</td>\n",
       "      <td>23.31</td>\n",
       "    </tr>\n",
       "    <tr>\n",
       "      <th>3</th>\n",
       "      <td>1606276800</td>\n",
       "      <td>4</td>\n",
       "      <td>1188.28</td>\n",
       "      <td>22.13</td>\n",
       "      <td>55.52</td>\n",
       "      <td>65.09</td>\n",
       "      <td>82.02</td>\n",
       "      <td>47.59</td>\n",
       "      <td>62.52</td>\n",
       "      <td>13.05</td>\n",
       "    </tr>\n",
       "    <tr>\n",
       "      <th>4</th>\n",
       "      <td>1606280400</td>\n",
       "      <td>5</td>\n",
       "      <td>1001.36</td>\n",
       "      <td>10.51</td>\n",
       "      <td>52.09</td>\n",
       "      <td>123.02</td>\n",
       "      <td>82.02</td>\n",
       "      <td>56.25</td>\n",
       "      <td>70.02</td>\n",
       "      <td>11.40</td>\n",
       "    </tr>\n",
       "    <tr>\n",
       "      <th>...</th>\n",
       "      <td>...</td>\n",
       "      <td>...</td>\n",
       "      <td>...</td>\n",
       "      <td>...</td>\n",
       "      <td>...</td>\n",
       "      <td>...</td>\n",
       "      <td>...</td>\n",
       "      <td>...</td>\n",
       "      <td>...</td>\n",
       "      <td>...</td>\n",
       "    </tr>\n",
       "    <tr>\n",
       "      <th>16819</th>\n",
       "      <td>1667246400</td>\n",
       "      <td>5</td>\n",
       "      <td>4859.92</td>\n",
       "      <td>107.29</td>\n",
       "      <td>46.61</td>\n",
       "      <td>0.00</td>\n",
       "      <td>85.83</td>\n",
       "      <td>272.48</td>\n",
       "      <td>328.84</td>\n",
       "      <td>53.70</td>\n",
       "    </tr>\n",
       "    <tr>\n",
       "      <th>16820</th>\n",
       "      <td>1667250000</td>\n",
       "      <td>5</td>\n",
       "      <td>5340.58</td>\n",
       "      <td>125.17</td>\n",
       "      <td>50.72</td>\n",
       "      <td>0.00</td>\n",
       "      <td>109.67</td>\n",
       "      <td>320.15</td>\n",
       "      <td>372.81</td>\n",
       "      <td>76.00</td>\n",
       "    </tr>\n",
       "    <tr>\n",
       "      <th>16821</th>\n",
       "      <td>1667253600</td>\n",
       "      <td>5</td>\n",
       "      <td>5607.60</td>\n",
       "      <td>135.90</td>\n",
       "      <td>54.84</td>\n",
       "      <td>0.00</td>\n",
       "      <td>127.79</td>\n",
       "      <td>354.77</td>\n",
       "      <td>399.57</td>\n",
       "      <td>92.21</td>\n",
       "    </tr>\n",
       "    <tr>\n",
       "      <th>16822</th>\n",
       "      <td>1667257200</td>\n",
       "      <td>5</td>\n",
       "      <td>5981.45</td>\n",
       "      <td>148.42</td>\n",
       "      <td>56.89</td>\n",
       "      <td>0.00</td>\n",
       "      <td>141.14</td>\n",
       "      <td>389.63</td>\n",
       "      <td>429.36</td>\n",
       "      <td>104.37</td>\n",
       "    </tr>\n",
       "    <tr>\n",
       "      <th>16823</th>\n",
       "      <td>1667260800</td>\n",
       "      <td>5</td>\n",
       "      <td>7156.37</td>\n",
       "      <td>177.03</td>\n",
       "      <td>54.15</td>\n",
       "      <td>0.00</td>\n",
       "      <td>143.05</td>\n",
       "      <td>458.70</td>\n",
       "      <td>504.03</td>\n",
       "      <td>100.31</td>\n",
       "    </tr>\n",
       "  </tbody>\n",
       "</table>\n",
       "<p>16824 rows × 10 columns</p>\n",
       "</div>"
      ],
      "text/plain": [
       "               dt  aqi       co      no    no2      o3     so2   pm2_5  \\\n",
       "0      1606266000    5  1922.61   51.86  22.96    1.61   53.88   66.82   \n",
       "1      1606269600    5  2243.04   62.59  34.27    4.87   73.43   72.41   \n",
       "2      1606273200    5  2296.45   59.90  56.21   13.41   94.41   78.21   \n",
       "3      1606276800    4  1188.28   22.13  55.52   65.09   82.02   47.59   \n",
       "4      1606280400    5  1001.36   10.51  52.09  123.02   82.02   56.25   \n",
       "...           ...  ...      ...     ...    ...     ...     ...     ...   \n",
       "16819  1667246400    5  4859.92  107.29  46.61    0.00   85.83  272.48   \n",
       "16820  1667250000    5  5340.58  125.17  50.72    0.00  109.67  320.15   \n",
       "16821  1667253600    5  5607.60  135.90  54.84    0.00  127.79  354.77   \n",
       "16822  1667257200    5  5981.45  148.42  56.89    0.00  141.14  389.63   \n",
       "16823  1667260800    5  7156.37  177.03  54.15    0.00  143.05  458.70   \n",
       "\n",
       "         pm10     nh3  \n",
       "0       88.41   14.69  \n",
       "1       96.33   18.75  \n",
       "2      104.83   23.31  \n",
       "3       62.52   13.05  \n",
       "4       70.02   11.40  \n",
       "...       ...     ...  \n",
       "16819  328.84   53.70  \n",
       "16820  372.81   76.00  \n",
       "16821  399.57   92.21  \n",
       "16822  429.36  104.37  \n",
       "16823  504.03  100.31  \n",
       "\n",
       "[16824 rows x 10 columns]"
      ]
     },
     "execution_count": 5,
     "metadata": {},
     "output_type": "execute_result"
    }
   ],
   "source": [
    "# Định nghĩa params\n",
    "start_date = date_time_to_utc_epoch(datetime.datetime(2020,11,1))\n",
    "end_date = date_time_to_utc_epoch(datetime.datetime(2022,11,1))\n",
    "lat = '10.8231'\n",
    "lon =  '106.6297'\n",
    "appid =  \"59da78cf88e29ed9966a7904d10dbf34\"\n",
    "\n",
    "# Load data\n",
    "df = load_data(lat, lon, start_date, end_date, appid)\n",
    "df"
   ]
  },
  {
   "cell_type": "markdown",
   "id": "f32d8f85",
   "metadata": {},
   "source": [
    "*Lưu data dưới dạng csv*"
   ]
  },
  {
   "cell_type": "code",
   "execution_count": 6,
   "id": "32babc74",
   "metadata": {},
   "outputs": [],
   "source": [
    "df.to_csv('./data/air_quality.csv', sep=',', encoding='utf-8', index=False)"
   ]
  },
  {
   "cell_type": "markdown",
   "id": "0ba42a74",
   "metadata": {},
   "source": [
    "## Tiền xử lý dữ liệu"
   ]
  },
  {
   "cell_type": "markdown",
   "id": "0d87f031",
   "metadata": {},
   "source": [
    "### Khám phá dữ liệu"
   ]
  },
  {
   "cell_type": "markdown",
   "id": "9201a959",
   "metadata": {},
   "source": [
    "Đọc dữ liệu từ file csv vừa lưu ở trên"
   ]
  },
  {
   "cell_type": "code",
   "execution_count": 7,
   "id": "ea34cb42",
   "metadata": {},
   "outputs": [],
   "source": [
    "air_quality_df = pd.read_csv('./Data/air_quality.csv')"
   ]
  },
  {
   "cell_type": "markdown",
   "id": "5ed583af",
   "metadata": {},
   "source": [
    "Tổng quan dữ liệu thu được"
   ]
  },
  {
   "cell_type": "code",
   "execution_count": 8,
   "id": "c0548eaa",
   "metadata": {},
   "outputs": [
    {
     "data": {
      "text/html": [
       "<div>\n",
       "<style scoped>\n",
       "    .dataframe tbody tr th:only-of-type {\n",
       "        vertical-align: middle;\n",
       "    }\n",
       "\n",
       "    .dataframe tbody tr th {\n",
       "        vertical-align: top;\n",
       "    }\n",
       "\n",
       "    .dataframe thead th {\n",
       "        text-align: right;\n",
       "    }\n",
       "</style>\n",
       "<table border=\"1\" class=\"dataframe\">\n",
       "  <thead>\n",
       "    <tr style=\"text-align: right;\">\n",
       "      <th></th>\n",
       "      <th>dt</th>\n",
       "      <th>aqi</th>\n",
       "      <th>co</th>\n",
       "      <th>no</th>\n",
       "      <th>no2</th>\n",
       "      <th>o3</th>\n",
       "      <th>so2</th>\n",
       "      <th>pm2_5</th>\n",
       "      <th>pm10</th>\n",
       "      <th>nh3</th>\n",
       "    </tr>\n",
       "  </thead>\n",
       "  <tbody>\n",
       "    <tr>\n",
       "      <th>0</th>\n",
       "      <td>1606266000</td>\n",
       "      <td>5</td>\n",
       "      <td>1922.61</td>\n",
       "      <td>51.86</td>\n",
       "      <td>22.96</td>\n",
       "      <td>1.61</td>\n",
       "      <td>53.88</td>\n",
       "      <td>66.82</td>\n",
       "      <td>88.41</td>\n",
       "      <td>14.69</td>\n",
       "    </tr>\n",
       "    <tr>\n",
       "      <th>1</th>\n",
       "      <td>1606269600</td>\n",
       "      <td>5</td>\n",
       "      <td>2243.04</td>\n",
       "      <td>62.59</td>\n",
       "      <td>34.27</td>\n",
       "      <td>4.87</td>\n",
       "      <td>73.43</td>\n",
       "      <td>72.41</td>\n",
       "      <td>96.33</td>\n",
       "      <td>18.75</td>\n",
       "    </tr>\n",
       "    <tr>\n",
       "      <th>2</th>\n",
       "      <td>1606273200</td>\n",
       "      <td>5</td>\n",
       "      <td>2296.45</td>\n",
       "      <td>59.90</td>\n",
       "      <td>56.21</td>\n",
       "      <td>13.41</td>\n",
       "      <td>94.41</td>\n",
       "      <td>78.21</td>\n",
       "      <td>104.83</td>\n",
       "      <td>23.31</td>\n",
       "    </tr>\n",
       "    <tr>\n",
       "      <th>3</th>\n",
       "      <td>1606276800</td>\n",
       "      <td>4</td>\n",
       "      <td>1188.28</td>\n",
       "      <td>22.13</td>\n",
       "      <td>55.52</td>\n",
       "      <td>65.09</td>\n",
       "      <td>82.02</td>\n",
       "      <td>47.59</td>\n",
       "      <td>62.52</td>\n",
       "      <td>13.05</td>\n",
       "    </tr>\n",
       "    <tr>\n",
       "      <th>4</th>\n",
       "      <td>1606280400</td>\n",
       "      <td>5</td>\n",
       "      <td>1001.36</td>\n",
       "      <td>10.51</td>\n",
       "      <td>52.09</td>\n",
       "      <td>123.02</td>\n",
       "      <td>82.02</td>\n",
       "      <td>56.25</td>\n",
       "      <td>70.02</td>\n",
       "      <td>11.40</td>\n",
       "    </tr>\n",
       "    <tr>\n",
       "      <th>5</th>\n",
       "      <td>1606284000</td>\n",
       "      <td>5</td>\n",
       "      <td>907.90</td>\n",
       "      <td>5.92</td>\n",
       "      <td>43.53</td>\n",
       "      <td>167.37</td>\n",
       "      <td>77.25</td>\n",
       "      <td>63.60</td>\n",
       "      <td>77.39</td>\n",
       "      <td>9.88</td>\n",
       "    </tr>\n",
       "    <tr>\n",
       "      <th>6</th>\n",
       "      <td>1606287600</td>\n",
       "      <td>4</td>\n",
       "      <td>761.03</td>\n",
       "      <td>1.98</td>\n",
       "      <td>41.81</td>\n",
       "      <td>134.47</td>\n",
       "      <td>61.99</td>\n",
       "      <td>42.60</td>\n",
       "      <td>54.24</td>\n",
       "      <td>8.36</td>\n",
       "    </tr>\n",
       "    <tr>\n",
       "      <th>7</th>\n",
       "      <td>1606291200</td>\n",
       "      <td>4</td>\n",
       "      <td>774.38</td>\n",
       "      <td>2.12</td>\n",
       "      <td>48.67</td>\n",
       "      <td>92.98</td>\n",
       "      <td>61.04</td>\n",
       "      <td>30.08</td>\n",
       "      <td>40.95</td>\n",
       "      <td>8.87</td>\n",
       "    </tr>\n",
       "    <tr>\n",
       "      <th>8</th>\n",
       "      <td>1606294800</td>\n",
       "      <td>4</td>\n",
       "      <td>794.41</td>\n",
       "      <td>2.07</td>\n",
       "      <td>54.15</td>\n",
       "      <td>73.67</td>\n",
       "      <td>60.56</td>\n",
       "      <td>26.15</td>\n",
       "      <td>36.62</td>\n",
       "      <td>9.50</td>\n",
       "    </tr>\n",
       "    <tr>\n",
       "      <th>9</th>\n",
       "      <td>1606298400</td>\n",
       "      <td>5</td>\n",
       "      <td>2243.04</td>\n",
       "      <td>8.27</td>\n",
       "      <td>94.59</td>\n",
       "      <td>27.90</td>\n",
       "      <td>70.57</td>\n",
       "      <td>56.15</td>\n",
       "      <td>75.40</td>\n",
       "      <td>22.04</td>\n",
       "    </tr>\n",
       "  </tbody>\n",
       "</table>\n",
       "</div>"
      ],
      "text/plain": [
       "           dt  aqi       co     no    no2      o3    so2  pm2_5    pm10    nh3\n",
       "0  1606266000    5  1922.61  51.86  22.96    1.61  53.88  66.82   88.41  14.69\n",
       "1  1606269600    5  2243.04  62.59  34.27    4.87  73.43  72.41   96.33  18.75\n",
       "2  1606273200    5  2296.45  59.90  56.21   13.41  94.41  78.21  104.83  23.31\n",
       "3  1606276800    4  1188.28  22.13  55.52   65.09  82.02  47.59   62.52  13.05\n",
       "4  1606280400    5  1001.36  10.51  52.09  123.02  82.02  56.25   70.02  11.40\n",
       "5  1606284000    5   907.90   5.92  43.53  167.37  77.25  63.60   77.39   9.88\n",
       "6  1606287600    4   761.03   1.98  41.81  134.47  61.99  42.60   54.24   8.36\n",
       "7  1606291200    4   774.38   2.12  48.67   92.98  61.04  30.08   40.95   8.87\n",
       "8  1606294800    4   794.41   2.07  54.15   73.67  60.56  26.15   36.62   9.50\n",
       "9  1606298400    5  2243.04   8.27  94.59   27.90  70.57  56.15   75.40  22.04"
      ]
     },
     "execution_count": 8,
     "metadata": {},
     "output_type": "execute_result"
    }
   ],
   "source": [
    "# Hiển thị 10 dòng đầu của dữ liệu\n",
    "air_quality_df.head(10)"
   ]
  },
  {
   "cell_type": "markdown",
   "id": "3a4888bd",
   "metadata": {},
   "source": [
    "**Dữ liệu có bao nhiêu hàng, bao nhiêu cột?**"
   ]
  },
  {
   "cell_type": "code",
   "execution_count": 9,
   "id": "34f8e2fc",
   "metadata": {},
   "outputs": [
    {
     "name": "stdout",
     "output_type": "stream",
     "text": [
      "Dữ liệu có: 16824 hàng, 10 cột.\n"
     ]
    }
   ],
   "source": [
    "n_rows, n_cols = air_quality_df.shape\n",
    "\n",
    "print(f\"Dữ liệu có: {n_rows} hàng, {n_cols} cột.\")"
   ]
  },
  {
   "cell_type": "markdown",
   "id": "547cb856",
   "metadata": {},
   "source": [
    "**Dữ liệu các dòng có bị lặp không?**"
   ]
  },
  {
   "cell_type": "code",
   "execution_count": 10,
   "id": "08da3bd9",
   "metadata": {},
   "outputs": [
    {
     "name": "stdout",
     "output_type": "stream",
     "text": [
      "Dữ liệu không có dòng lặp.!\n"
     ]
    }
   ],
   "source": [
    "num_duplicated_rows = air_quality_df.duplicated().sum()\n",
    "if num_duplicated_rows == 0:\n",
    "    print(f\"Dữ liệu không có dòng lặp.!\")\n",
    "else:\n",
    "    if num_duplicated_rows > 1:\n",
    "        print(f\"Dữ liệu có {num_duplicated_rows} dòng lặp.\")"
   ]
  },
  {
   "cell_type": "markdown",
   "id": "6175d554",
   "metadata": {},
   "source": [
    "Vậy là ta có đủ lượng dữ liệu cần và các dòng dữ liệu cũng không bị trùng lặp.\n",
    "\n",
    "Chúng ta sẽ khám phá ý nghĩa của dữ liệu."
   ]
  },
  {
   "cell_type": "markdown",
   "id": "8abe0cf4",
   "metadata": {},
   "source": [
    "**Ý nghĩa của dữ liệu**"
   ]
  },
  {
   "cell_type": "markdown",
   "id": "f3aa7258",
   "metadata": {},
   "source": [
    "- Quan sát tổng thể ta có thể thấy mỗi dòng là số liệu của các loại chất để xác định mức độ ô nhiễm.\n",
    "\n",
    "- Trong dữ liệu có cột dt để lưu lại thời gian ghi nhận số liệu, thời gian ghi nhận tính từ `1 tháng 11 năm 2020 00:00:00` đến `1 tháng 11 năm 2022 00:00:00`. Mỗi dòng là số liệu ghi nhận sau 1 giờ đồng hồ (mỗi dòng hơn nhau 3600 đơn vị).\n",
    "\n",
    "- Bên cạnh đó ta có chỉ số chất lượng không khí là aqi. Các giá trị có thể có: 1, 2, 3, 4, 5. Trong đó:\n",
    "    - 1 : Tốt\n",
    "    - 2 : Khá\n",
    "    - 3 : Trung bình\n",
    "    - 4 : Kém\n",
    "    - 5 : Rất Kém\n",
    "- Dữ liệu trả về cũng bao gồm hàm lượng các chất ô nhiễm như sau:\n",
    "    - CO (Carbon Monoxide - Monoxit Carbon):\n",
    "\n",
    "        - Là khí màu không, không mùi, được tạo ra từ quá trình đốt cháy không hoàn toàn của nhiên liệu hóa thạch (như xăng, khí tự nhiên, than, và gỗ).\n",
    "        - Thường được phát thải từ các phương tiện giao thông, quá trình công nghiệp và nguồn gốc tự nhiên.\n",
    "        - Tiếp xúc với nồng độ cao có thể gây đau đầu, chóng mặt, buồn nôn và trong các trường hợp nghiêm trọng có thể gây tử vong.\n",
    "    - NO (Nitric Oxide - Nitơ Oxít) và NO2 (Nitrogen Dioxide - Nitơ Điôxít):\n",
    "\n",
    "        - Cả hai đều là khí được tạo ra từ quá trình đốt cháy, chủ yếu từ các phương tiện giao thông và hoạt động công nghiệp.\n",
    "        - NO là chất tiền thân của NO2 trong không khí.\n",
    "        - NO2 góp phần tạo thành sương mù và mưa axit.\n",
    "        - Tiếp xúc lâu dài có thể gây ra các vấn đề về hệ hô hấp và làm trầm trọng thêm các bệnh về phổi như hen suyễn và các bệnh về phổi khác.\n",
    "    - O3 (Ozone - Ozon):\n",
    "\n",
    "        - Là khí gồm ba nguyên tử ôxy.\n",
    "        - Được tạo thành từ phản ứng hóa học giữa oxít nitơ (NOx) và các hợp chất hữu cơ bay hơi (VOC) dưới ánh nắng mặt trời.\n",
    "        - Ở mức độ sát đất, ozone là thành phần chính của sương mù.\n",
    "        - Hít thở ozone có thể gây kích ứng họng, ho, đau ngực và làm trầm trọng các vấn đề về hệ hô hấp.\n",
    "    - SO2 (Sulfur Dioxide - Lưu huỳnh Điôxít):\n",
    "\n",
    "        - Là khí được tạo ra từ đốt cháy nhiên liệu hóa thạch chứa lưu huỳnh (than và dầu) và các quá trình công nghiệp (như khai thác kim loại).\n",
    "        - Đóng góp lớn vào việc tạo ra mưa axit.\n",
    "        - Hít thở SO2 có thể gây kích ứng mũi và họng, vấn đề hô hấp và làm trầm trọng các vấn đề về hen suyễn.\n",
    "    - PM2.5 và PM10 (Chất hạt bụi):\n",
    "\n",
    "        - PM2.5 đề cập đến các hạt bụi nhỏ có đường kính thường là 2.5 micromet và nhỏ hơn.\n",
    "        - PM10 bao gồm các hạt có đường kính lên đến 10 micromet.\n",
    "        - Nguồn gốc bao gồm phát thải từ phương tiện giao thông, quá trình công nghiệp, hoạt động xây dựng và các nguồn tự nhiên như bão cát.\n",
    "        - PM2.5 và PM10 có thể xâm nhập sâu vào phổi và gây ra các vấn đề về hô hấp, vấn đề về tim mạch và các tác động khác đối với sức khỏe.\n",
    "    - NH3 (Ammonia - Amoniac):\n",
    "\n",
    "        - Là hợp chất chủ yếu được phát ra từ hoạt động nông nghiệp, chất thải động vật và các quá trình công nghiệp.\n",
    "        - Đóng góp vào việc tạo ra các hạt bụi mịn và có thể phản ứng với các chất ô nhiễm khác trong không khí.\n",
    "        - Hít thở NH3 có thể gây kích ứng mắt, mũi và họng.\n",
    "    \n",
    "Chi tiết về thang đo ô nhiễm nằm ở bảng sau:\n",
    "         <table class=\"material-table\">\n",
    "<thead>\n",
    "  <tr>\n",
    "    <th>Qualitative name</th>\n",
    "    <th>Index</th>\n",
    "    <th colspan=\"6\">Pollutant concentration in &mu;g/m<sup>3</sup></th>\n",
    "  </tr>\n",
    "</thead>\n",
    "<tbody>\n",
    "  <tr>\n",
    "    <td  colspan=\"2\"></td>\n",
    "    <td >SO<sub>2</sub></td>\n",
    "    <td >NO<sub>2</sub></td>\n",
    "    <td >PM<sub>10</sub></td>\n",
    "    <td >PM<sub>2.5</sub></td>\n",
    "    <td >O<sub>3</sub></td>\n",
    "    <td >CO</td>\n",
    "  </tr>\n",
    "  <tr>\n",
    "    <td >Good</td>\n",
    "    <td >1</td>\n",
    "    <td >[0; 20)</td>\n",
    "    <td >[0; 40)</td>\n",
    "    <td >[0; 20)</td>\n",
    "    <td >[0; 10)</td>\n",
    "    <td >[0; 60)</td>\n",
    "    <td >[0; 4400)</td>\n",
    "  </tr>\n",
    "  <tr>\n",
    "    <td >Fair</td>\n",
    "    <td >2</td>\n",
    "    <td >[20; 80)</td>\n",
    "    <td >[40; 70)</td>\n",
    "    <td >[20; 50)</td>\n",
    "    <td >[10; 25)</td>\n",
    "    <td >[60; 100)</td>\n",
    "    <td >[4400; 9400)</td>\n",
    "  </tr>\n",
    "  <tr>\n",
    "    <td >Moderate</td>\n",
    "    <td >3</td>\n",
    "    <td >[80; 250)</td>\n",
    "    <td >[70; 150)</td>\n",
    "    <td >[50; 100)</td>\n",
    "    <td >[25; 50)</td>\n",
    "    <td >[100; 140)</td>\n",
    "    <td >[9400-12400)</td>\n",
    "  </tr>\n",
    "  <tr>\n",
    "    <td >Poor</td>\n",
    "    <td >4</td>\n",
    "    <td >[250; 350)</td>\n",
    "    <td >[150; 200)</td>\n",
    "    <td >[100; 200)</td>\n",
    "    <td >[50; 75)</td>\n",
    "    <td >[140; 180)</td>\n",
    "    <td >[12400; 15400)</td>\n",
    "  </tr>\n",
    "  <tr>\n",
    "    <td >Very Poor</td>\n",
    "    <td >5</td>\n",
    "    <td >⩾350</td>\n",
    "    <td >⩾200</td>\n",
    "    <td >⩾200</td>\n",
    "    <td >⩾75</td>\n",
    "    <td >⩾180</td>\n",
    "    <td >⩾15400</td>\n",
    "  </tr>\n",
    "</tbody>\n",
    "</table>"
   ]
  },
  {
   "cell_type": "markdown",
   "id": "74b78ca2",
   "metadata": {},
   "source": [
    "### Chuyển đổi kiểu dữ liệu & xử lý dữ liệu bị thiếu"
   ]
  },
  {
   "cell_type": "markdown",
   "id": "4ce163fe",
   "metadata": {},
   "source": [
    "**Mỗi cột hiện có kiểu dữ liệu là gì? Có cột nào có kiểu dữ liệu không phù hợp để xử lý tiếp không?**"
   ]
  },
  {
   "cell_type": "code",
   "execution_count": 11,
   "id": "3ac593dd",
   "metadata": {},
   "outputs": [
    {
     "data": {
      "text/plain": [
       "dt         int64\n",
       "aqi        int64\n",
       "co       float64\n",
       "no       float64\n",
       "no2      float64\n",
       "o3       float64\n",
       "so2      float64\n",
       "pm2_5    float64\n",
       "pm10     float64\n",
       "nh3      float64\n",
       "dtype: object"
      ]
     },
     "execution_count": 11,
     "metadata": {},
     "output_type": "execute_result"
    }
   ],
   "source": [
    "air_quality_df.dtypes"
   ]
  },
  {
   "cell_type": "markdown",
   "id": "9bd1168e",
   "metadata": {},
   "source": [
    "Ta quan sát thấy cột `dt` có kiểu `int64`. Mà cột `dt` là cột lưu lại thời gian ghi nhận số liệu, vì vậy ta có thể chuyển đổi cột `dt` sang kiểu `datetime`."
   ]
  },
  {
   "cell_type": "code",
   "execution_count": 12,
   "id": "c3c731b4",
   "metadata": {},
   "outputs": [
    {
     "data": {
      "text/plain": [
       "dt       datetime64[ns]\n",
       "aqi            category\n",
       "co              float64\n",
       "no              float64\n",
       "no2             float64\n",
       "o3              float64\n",
       "so2             float64\n",
       "pm2_5           float64\n",
       "pm10            float64\n",
       "nh3             float64\n",
       "dtype: object"
      ]
     },
     "execution_count": 12,
     "metadata": {},
     "output_type": "execute_result"
    }
   ],
   "source": [
    "# chuyển cột 'dt' sang kiểu 'datetime'\n",
    "air_quality_df['dt'] = pd.to_datetime(df['dt'], unit='s')\n",
    "air_quality_df['aqi'] = air_quality_df['aqi'].astype('category')\n",
    "\n",
    "# kiểm tra kết quả\n",
    "air_quality_df.dtypes"
   ]
  },
  {
   "cell_type": "markdown",
   "id": "f24c1283",
   "metadata": {},
   "source": [
    "**Dữ liệu có bị thiếu không ?**"
   ]
  },
  {
   "cell_type": "code",
   "execution_count": 13,
   "id": "4a9b8825",
   "metadata": {},
   "outputs": [
    {
     "name": "stdout",
     "output_type": "stream",
     "text": [
      "Không có dữ liệu bị thiếu.\n"
     ]
    }
   ],
   "source": [
    "# Kiểm tra dữ liệu bị thiếu\n",
    "missing_data = air_quality_df.isna().any()\n",
    "\n",
    "if missing_data.any():\n",
    "    print(\"Có dữ liệu bị thiếu:\")\n",
    "    print(missing_data)\n",
    "else:\n",
    "    print(\"Không có dữ liệu bị thiếu.\")"
   ]
  },
  {
   "cell_type": "markdown",
   "id": "e664f7d9",
   "metadata": {},
   "source": [
    "Không phải xử lý dữ liệu bị thiếu vì không có giá trị nào bị thiếu cần xử lý."
   ]
  },
  {
   "cell_type": "markdown",
   "id": "4fc744ff-8264-4cba-b745-2caa5b8ffa57",
   "metadata": {},
   "source": [
    "### Với cột có kiểu dữ liệu non-numeric, chúng ta sẽ xem các giá trị đó được phân phối như thế nào?"
   ]
  },
  {
   "cell_type": "markdown",
   "id": "70d313bc-fcc2-44ac-9be2-66d695e9d52e",
   "metadata": {},
   "source": [
    "Đối với các cột có kiểu dữ liệu không phải là số, nhóm em sẽ tính:\n",
    "- Phần trăm (từ 0 đến 100) của giá trị thiếu sót.\n",
    "- Số lượng giá trị (các giá trị ở đây là các giá trị khác nhau và không xét giá trị thiếu).\n",
    "- Phần trăm (từ 0 đến 100) của mỗi giá trị được sắp xếp theo tỉ lệ phần trăm giảm dần.\n",
    "- Lưu kết quả vào DataFrame cat_col_info_df, trong đó:\n",
    "    - Tên của các cột là tên của các cột không phải là số trong air_quality_df.\n",
    "    - Tên của các dòng là: \"missing_ratio\", \"num_values\", \"value_ratios\".\n",
    "    - Để dễ nhìn, làm tròn tất cả các giá trị đến 1 chữ số thập phân bằng cách sử dụng phương thức .round(1)."
   ]
  },
  {
   "cell_type": "code",
   "execution_count": 14,
   "id": "4e1b8f99-8e1a-49fa-9ac9-da128f470b38",
   "metadata": {},
   "outputs": [
    {
     "data": {
      "text/html": [
       "<div>\n",
       "<style scoped>\n",
       "    .dataframe tbody tr th:only-of-type {\n",
       "        vertical-align: middle;\n",
       "    }\n",
       "\n",
       "    .dataframe tbody tr th {\n",
       "        vertical-align: top;\n",
       "    }\n",
       "\n",
       "    .dataframe thead th {\n",
       "        text-align: right;\n",
       "    }\n",
       "</style>\n",
       "<table border=\"1\" class=\"dataframe\">\n",
       "  <thead>\n",
       "    <tr style=\"text-align: right;\">\n",
       "      <th></th>\n",
       "      <th>aqi</th>\n",
       "    </tr>\n",
       "  </thead>\n",
       "  <tbody>\n",
       "    <tr>\n",
       "      <th>missing_ratio</th>\n",
       "      <td>0.0</td>\n",
       "    </tr>\n",
       "    <tr>\n",
       "      <th>num_values</th>\n",
       "      <td>5</td>\n",
       "    </tr>\n",
       "    <tr>\n",
       "      <th>value_ratios</th>\n",
       "      <td>{5: 43.9, 4: 30.4, 2: 14.7, 3: 8.2, 1: 2.8}</td>\n",
       "    </tr>\n",
       "  </tbody>\n",
       "</table>\n",
       "</div>"
      ],
      "text/plain": [
       "                                                       aqi\n",
       "missing_ratio                                          0.0\n",
       "num_values                                               5\n",
       "value_ratios   {5: 43.9, 4: 30.4, 2: 14.7, 3: 8.2, 1: 2.8}"
      ]
     },
     "execution_count": 14,
     "metadata": {},
     "output_type": "execute_result"
    }
   ],
   "source": [
    "cat_col_info_df = air_quality_df.select_dtypes(include='category')\n",
    "\n",
    "def missing_ratio(series):\n",
    "    return series.isna().mean() * 100\n",
    "def num_values(series):\n",
    "    return series.nunique()\n",
    "def value_ratios(series):\n",
    "    value_ratios=(((series.value_counts(normalize=True)*100)).round(1)).to_dict()\n",
    "    return value_ratios\n",
    "\n",
    "cat_col_info_df = (cat_col_info_df.agg([missing_ratio, num_values, value_ratios]))\n",
    "\n",
    "cat_col_info_df "
   ]
  },
  {
   "cell_type": "code",
   "execution_count": 15,
   "id": "9203debc-aeee-4b06-9db6-2bf2b5789c07",
   "metadata": {},
   "outputs": [
    {
     "data": {
      "image/png": "[encoded data removed]",
      "text/plain": [
       "<Figure size 1200x600 with 1 Axes>"
      ]
     },
     "metadata": {},
     "output_type": "display_data"
    }
   ],
   "source": [
    "# Biểu đồ phân tán cho tỷ lệ giá trị\n",
    "plt.figure(figsize=(12, 6))\n",
    "sns.barplot(x=list(cat_col_info_df.loc['value_ratios']['aqi'].keys()), \n",
    "            y=list(cat_col_info_df.loc['value_ratios']['aqi'].values()))\n",
    "plt.title('Value Ratios for AQI')\n",
    "plt.xlabel('Unique Values in AQI')\n",
    "plt.ylabel('Percentage (%)')\n",
    "plt.show()"
   ]
  },
  {
   "cell_type": "markdown",
   "id": "64b95a54-064c-4e75-baff-d2a47c878ac9",
   "metadata": {},
   "source": [
    "### Nhận xét:\n",
    "- Nhìn vào biểu đồ, ta có thể thấy được chất lượng không khí rất kém chiếm tỉ lệ cao nhất (43,9%), tiếp đến là chất lượng không khí kém (30,4%).\n",
    "- Tỉ lệ chất lượng không khi ở mức khá cao hơn mức trung bình.\n",
    "- Tỉ lệ chất lượng không khí tốt rất ít (chỉ 2,8%). \n",
    "- Vậy, không khí có chất lượng rất kém và kém rất phổ biển. Điều này có thể mang lại cái nhìn tổng quan về mức độ ô nhiễm không khí hiện nay."
   ]
  },
  {
   "cell_type": "markdown",
   "metadata": {},
   "source": [
    "### Với cột có kiểu dữ liệu numeric, chúng ta sẽ xem các giá trị đó được phân phối như thế nào?"
   ]
  },
  {
   "cell_type": "markdown",
   "id": "45172503",
   "metadata": {},
   "source": [
    "Đối với các cột có kiểu dữ liệu số, nhóm em sẽ tính:\n",
    "- Tỷ lệ phần trăm (từ 0 đến 100) giá trị bị thiếu\n",
    "- Tối thiểu (Min)\n",
    "- Tứ phân vị dưới (phân vị 25)\n",
    "- Trung vị (phân vị 50)\n",
    "- Tứ phân vị trên (phân vị 75)\n",
    "- Tối đa (Max)\n",
    "- Lưu kết quả vào DataFrame `num_col_info_df`, trong đó:\n",
    "    - Tên của các cột là tên của các cột là số trong air_quality_df.\n",
    "    - Tên của các dòng là: \"missing_ratio\", \"min\", \"lower_quartile\", \"median\", \"upper_quartile\", \"max\" .\n",
    "    - Để dễ nhìn, làm tròn tất cả các giá trị đến 1 chữ số thập phân bằng cách sử dụng phương thức .round(1)."
   ]
  },
  {
   "cell_type": "code",
   "execution_count": 19,
   "id": "2412685b",
   "metadata": {},
   "outputs": [
    {
     "data": {
      "text/html": [
       "<div>\n",
       "<style scoped>\n",
       "    .dataframe tbody tr th:only-of-type {\n",
       "        vertical-align: middle;\n",
       "    }\n",
       "\n",
       "    .dataframe tbody tr th {\n",
       "        vertical-align: top;\n",
       "    }\n",
       "\n",
       "    .dataframe thead th {\n",
       "        text-align: right;\n",
       "    }\n",
       "</style>\n",
       "<table border=\"1\" class=\"dataframe\">\n",
       "  <thead>\n",
       "    <tr style=\"text-align: right;\">\n",
       "      <th></th>\n",
       "      <th>co</th>\n",
       "      <th>no</th>\n",
       "      <th>no2</th>\n",
       "      <th>o3</th>\n",
       "      <th>so2</th>\n",
       "      <th>pm2_5</th>\n",
       "      <th>pm10</th>\n",
       "      <th>nh3</th>\n",
       "    </tr>\n",
       "  </thead>\n",
       "  <tbody>\n",
       "    <tr>\n",
       "      <th>missing_ratio</th>\n",
       "      <td>0.0</td>\n",
       "      <td>0.0</td>\n",
       "      <td>0.0</td>\n",
       "      <td>0.0</td>\n",
       "      <td>0.0</td>\n",
       "      <td>0.0</td>\n",
       "      <td>0.0</td>\n",
       "      <td>0.0</td>\n",
       "    </tr>\n",
       "    <tr>\n",
       "      <th>min</th>\n",
       "      <td>317.1</td>\n",
       "      <td>0.0</td>\n",
       "      <td>6.3</td>\n",
       "      <td>0.0</td>\n",
       "      <td>5.8</td>\n",
       "      <td>3.4</td>\n",
       "      <td>4.7</td>\n",
       "      <td>1.9</td>\n",
       "    </tr>\n",
       "    <tr>\n",
       "      <th>lower_quartile</th>\n",
       "      <td>714.3</td>\n",
       "      <td>1.7</td>\n",
       "      <td>24.3</td>\n",
       "      <td>0.0</td>\n",
       "      <td>27.4</td>\n",
       "      <td>24.4</td>\n",
       "      <td>32.4</td>\n",
       "      <td>6.1</td>\n",
       "    </tr>\n",
       "    <tr>\n",
       "      <th>median</th>\n",
       "      <td>1054.8</td>\n",
       "      <td>10.0</td>\n",
       "      <td>33.6</td>\n",
       "      <td>3.9</td>\n",
       "      <td>39.1</td>\n",
       "      <td>43.9</td>\n",
       "      <td>55.0</td>\n",
       "      <td>8.6</td>\n",
       "    </tr>\n",
       "    <tr>\n",
       "      <th>upper_quartile</th>\n",
       "      <td>1709.0</td>\n",
       "      <td>31.7</td>\n",
       "      <td>46.6</td>\n",
       "      <td>31.1</td>\n",
       "      <td>58.2</td>\n",
       "      <td>79.2</td>\n",
       "      <td>96.7</td>\n",
       "      <td>12.2</td>\n",
       "    </tr>\n",
       "    <tr>\n",
       "      <th>max</th>\n",
       "      <td>18585.2</td>\n",
       "      <td>393.4</td>\n",
       "      <td>230.3</td>\n",
       "      <td>371.9</td>\n",
       "      <td>263.2</td>\n",
       "      <td>936.1</td>\n",
       "      <td>1034.3</td>\n",
       "      <td>170.2</td>\n",
       "    </tr>\n",
       "  </tbody>\n",
       "</table>\n",
       "</div>"
      ],
      "text/plain": [
       "                     co     no    no2     o3    so2  pm2_5    pm10    nh3\n",
       "missing_ratio       0.0    0.0    0.0    0.0    0.0    0.0     0.0    0.0\n",
       "min               317.1    0.0    6.3    0.0    5.8    3.4     4.7    1.9\n",
       "lower_quartile    714.3    1.7   24.3    0.0   27.4   24.4    32.4    6.1\n",
       "median           1054.8   10.0   33.6    3.9   39.1   43.9    55.0    8.6\n",
       "upper_quartile   1709.0   31.7   46.6   31.1   58.2   79.2    96.7   12.2\n",
       "max             18585.2  393.4  230.3  371.9  263.2  936.1  1034.3  170.2"
      ]
     },
     "execution_count": 19,
     "metadata": {},
     "output_type": "execute_result"
    }
   ],
   "source": [
    "import numpy as np\n",
    "num_col_info_df = None\n",
    "num_col_info_df=air_quality_df.select_dtypes([np.float64])\n",
    "\n",
    "def missing_ratio(col):\n",
    "    return col.isna().mean()*100\n",
    "def lower_quartile(col):\n",
    "    return col.quantile(0.25)\n",
    "def median(col):\n",
    "    return col.median()\n",
    "def upper_quartile(col):\n",
    "    return col.quantile(0.75)\n",
    "\n",
    "\n",
    "num_col_info_df = num_col_info_df.agg([missing_ratio, \"min\",lower_quartile, median, upper_quartile, \"max\"])\n",
    "num_col_info_df.round(1)\n",
    "# "
   ]
  },
  {
   "cell_type": "markdown",
   "id": "2938cdd8",
   "metadata": {},
   "source": [
    "#### Biểu đồ distribution"
   ]
  },
  {
   "cell_type": "code",
   "execution_count": 23,
   "id": "70c9d914",
   "metadata": {},
   "outputs": [
    {
     "data": {
      "image/png": "[encoded data removed]",
      "text/plain": [
       "<Figure size 800x600 with 1 Axes>"
      ]
     },
     "metadata": {},
     "output_type": "display_data"
    }
   ],
   "source": [
    "# Biểu đồ phân tán cho tỷ lệ giá trị\n",
    "missing_ratio_row = num_col_info_df.loc['missing_ratio']\n",
    "\n",
    "# Vẽ biểu đồ cột\n",
    "plt.figure(figsize=(8, 6))\n",
    "missing_ratio_row.plot(kind='bar', color='skyblue')\n",
    "plt.title('Tỷ lệ thiếu dữ liệu')\n",
    "plt.xlabel('Cột')\n",
    "plt.ylabel('Tỷ lệ thiếu (%)')\n",
    "plt.xticks(rotation=45)\n",
    "plt.grid(axis='y')\n",
    "plt.tight_layout()\n",
    "\n",
    "# Hiển thị biểu đồ\n",
    "plt.show()"
   ]
  },
  {
   "cell_type": "code",
   "execution_count": 28,
   "id": "80368161",
   "metadata": {},
   "outputs": [
    {
     "data": {
      "image/png": "[encoded data removed]",
      "text/plain": [
       "<Figure size 800x600 with 1 Axes>"
      ]
     },
     "metadata": {},
     "output_type": "display_data"
    }
   ],
   "source": [
    "min_row = num_col_info_df.loc['min']\n",
    "\n",
    "# Vẽ biểu đồ cột\n",
    "plt.figure(figsize=(8, 6))\n",
    "min_row.plot(kind='bar', color='skyblue')\n",
    "plt.title('Giá trị min')\n",
    "plt.xlabel('Thành phần')\n",
    "plt.ylabel('Giá trị')\n",
    "plt.xticks(rotation=45)\n",
    "plt.grid(axis='y')\n",
    "plt.tight_layout()\n",
    "\n",
    "# Hiển thị biểu đồ\n",
    "plt.show()"
   ]
  },
  {
   "cell_type": "code",
   "execution_count": 31,
   "id": "aa6a9dc5",
   "metadata": {},
   "outputs": [
    {
     "data": {
      "image/png": "[encoded data removed]",
      "text/plain": [
       "<Figure size 800x600 with 1 Axes>"
      ]
     },
     "metadata": {},
     "output_type": "display_data"
    }
   ],
   "source": [
    "lower_quartile_row = num_col_info_df.loc['lower_quartile']\n",
    "\n",
    "# Vẽ biểu đồ cột\n",
    "plt.figure(figsize=(8, 6))\n",
    "lower_quartile_row.plot(kind='bar', color='skyblue')\n",
    "plt.title('Giá trị phân vị 25')\n",
    "plt.xlabel('Thành phần')\n",
    "plt.ylabel('Giá trị')\n",
    "plt.xticks(rotation=45)\n",
    "plt.grid(axis='y')\n",
    "plt.tight_layout()\n",
    "\n",
    "# Hiển thị biểu đồ\n",
    "plt.show()"
   ]
  },
  {
   "cell_type": "code",
   "execution_count": 30,
   "id": "6931bc01",
   "metadata": {},
   "outputs": [
    {
     "data": {
      "image/png": "[encoded data removed]",
      "text/plain": [
       "<Figure size 800x600 with 1 Axes>"
      ]
     },
     "metadata": {},
     "output_type": "display_data"
    }
   ],
   "source": [
    "median_row = num_col_info_df.loc['median']\n",
    "\n",
    "# Vẽ biểu đồ cột\n",
    "plt.figure(figsize=(8, 6))\n",
    "median_row.plot(kind='bar', color='skyblue')\n",
    "plt.title('Giá trị median')\n",
    "plt.xlabel('Thành phần')\n",
    "plt.ylabel('Giá trị')\n",
    "plt.xticks(rotation=45)\n",
    "plt.grid(axis='y')\n",
    "plt.tight_layout()\n",
    "\n",
    "# Hiển thị biểu đồ\n",
    "plt.show()"
   ]
  },
  {
   "cell_type": "code",
   "execution_count": 32,
   "id": "d66eaca3",
   "metadata": {},
   "outputs": [
    {
     "data": {
      "image/png": "[encoded data removed]",
      "text/plain": [
       "<Figure size 800x600 with 1 Axes>"
      ]
     },
     "metadata": {},
     "output_type": "display_data"
    }
   ],
   "source": [
    "upper_quartile_row = num_col_info_df.loc['upper_quartile']\n",
    "\n",
    "# Vẽ biểu đồ cột\n",
    "plt.figure(figsize=(8, 6))\n",
    "upper_quartile_row.plot(kind='bar', color='skyblue')\n",
    "plt.title('Giá trị phân vị 75')\n",
    "plt.xlabel('Thành phần')\n",
    "plt.ylabel('Giá trị')\n",
    "plt.xticks(rotation=45)\n",
    "plt.grid(axis='y')\n",
    "plt.tight_layout()\n",
    "\n",
    "# Hiển thị biểu đồ\n",
    "plt.show()"
   ]
  },
  {
   "cell_type": "code",
   "execution_count": 33,
   "id": "5022ca44",
   "metadata": {},
   "outputs": [
    {
     "data": {
      "image/png": "[encoded data removed]",
      "text/plain": [
       "<Figure size 800x600 with 1 Axes>"
      ]
     },
     "metadata": {},
     "output_type": "display_data"
    }
   ],
   "source": [
    "max_row = num_col_info_df.loc['max']\n",
    "\n",
    "# Vẽ biểu đồ cột\n",
    "plt.figure(figsize=(8, 6))\n",
    "lower_quartile_row.plot(kind='bar', color='skyblue')\n",
    "plt.title('Giá trị max')\n",
    "plt.xlabel('Thành phần')\n",
    "plt.ylabel('Giá trị')\n",
    "plt.xticks(rotation=45)\n",
    "plt.grid(axis='y')\n",
    "plt.tight_layout()\n",
    "\n",
    "# Hiển thị biểu đồ\n",
    "plt.show()"
   ]
  }
 ],
 "metadata": {
  "kernelspec": {
   "display_name": "Python 3 (ipykernel)",
   "language": "python",
   "name": "python3"
  },
  "language_info": {
   "codemirror_mode": {
    "name": "ipython",
    "version": 3
   },
   "file_extension": ".py",
   "mimetype": "text/x-python",
   "name": "python",
   "nbconvert_exporter": "python",
   "pygments_lexer": "ipython3",
   "version": "3.11.6"
  }
 },
 "nbformat": 4,
 "nbformat_minor": 5
}
