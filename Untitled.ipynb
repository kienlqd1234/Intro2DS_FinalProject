{
 "cells": [
  {
   "cell_type": "markdown",
   "id": "5b3a1cbf",
   "metadata": {},
   "source": [
    "## Import các thư viện cần thiết"
   ]
  },
  {
   "cell_type": "code",
   "execution_count": 1,
   "id": "06337b18",
   "metadata": {},
   "outputs": [],
   "source": [
    "import requests\n",
    "import json\n",
    "import pandas as pd\n",
    "import numpy as np\n",
    "import time\n",
    "import datetime\n",
    "import calendar\n",
    "import seaborn as sns\n",
    "import matplotlib.pyplot as plt"
   ]
  },
  {
   "cell_type": "markdown",
   "id": "c904c376",
   "metadata": {},
   "source": [
    "## Thu thập dữ liệu"
   ]
  },
  {
   "cell_type": "markdown",
   "id": "50ff677e",
   "metadata": {},
   "source": [
    "- Chúng em sẽ thu thập dữ liệu thông qua api do trang https://openweathermap.org đã cung cấp sẵn và lưu và biến data.\n",
    "    \n",
    "\n",
    "- Mãu Api: http://api.openweathermap.org/data/2.5/air_pollution/history?lat={lat}&lon={lon}&start={start}&end={end}&appid={APIkey}\n",
    "<table class=\"material-table\">\n",
    "                  <tr>\n",
    "            <th colspan=\"3\">Parameters</th>\n",
    "                  </tr>\n",
    "               <tr>\n",
    "                     <td><code class=\"nowrap\">lat</code></td>\n",
    "                     <td class=\"sub\">required</td>\n",
    "                     <td>Latitude. If you need the geocoder to automatic convert city names and zip-codes to geo coordinates and the other way around, please use our <a href=\"/api/geocoding-api\">Geocoding API</a></td>\n",
    "                  </tr>\n",
    "                     <tr>\n",
    "                     <td><code class=\"nowrap\">lon</code></td>\n",
    "                     <td class=\"sub\">required</td>\n",
    "                     <td>Longitude. If you need the geocoder to automatic convert city names and zip-codes to geo coordinates and the other way around, please use our <a href=\"/api/geocoding-api\">Geocoding API</a></td>\n",
    "                  </tr>\n",
    "                  <tr>\n",
    "                     <td><code class=\"nowrap\">start</code></td>\n",
    "                     <td class=\"sub\">required</td>\n",
    "                     <td>Start date (unix time, UTC time zone), e.g. start=1606488670</td>\n",
    "                  </tr>\n",
    "                  <tr>\n",
    "                     <td><code class=\"nowrap\">end</code></td>\n",
    "                     <td class=\"sub\">required</td>\n",
    "                     <td>End date (unix time, UTC time zone), e.g. end=1606747870</td>\n",
    "                  </tr>\n",
    "                  <tr>\n",
    "                     <td><code class=\"nowrap\">appid</code></td>\n",
    "                     <td class=\"sub\">required</td>\n",
    "                     <td>Your unique API key (you can always find it on your account page under the <a href=\"https://home.openweathermap.org/api_keys\" target=\"_blank\">\"API key\" tab</a>)</td>\n",
    "                  </tr>\n",
    "               </table>"
   ]
  },
  {
   "cell_type": "markdown",
   "id": "b9c817b7",
   "metadata": {},
   "source": [
    "Api yêu cầu ngày tháng phải ở dạng Unix Time, chúng em sử dụng hàm bên dưới để chuyển từ định dạng datetime thành Unix time. Nguồn tham khảo: https://stackoverflow.com/questions/1077285/how-to-specify-time-zone-utc-when-converting-to-unix-time-python"
   ]
  },
  {
   "cell_type": "code",
   "execution_count": 2,
   "id": "04f24b71",
   "metadata": {},
   "outputs": [],
   "source": [
    "def date_time_to_utc_epoch(dt_utc):         #convert from utc date time object (yyyy-mm-dd hh:mm:ss) to UTC epoch\n",
    "    frmt=\"%Y-%m-%d %H:%M:%S\"\n",
    "    dtst=dt_utc.strftime(frmt)              #convert datetime object to string\n",
    "    time_struct = time.strptime(dtst, frmt) #convert time (yyyy-mm-dd hh:mm:ss) to time tuple\n",
    "    epoch_utc=calendar.timegm(time_struct)  #convert time to to epoch\n",
    "    return str(epoch_utc)"
   ]
  },
  {
   "cell_type": "markdown",
   "id": "159c9529",
   "metadata": {},
   "source": [
    "Thiết kế hàm để load data từ api được cung cấp"
   ]
  },
  {
   "cell_type": "code",
   "execution_count": 3,
   "id": "498465b5",
   "metadata": {},
   "outputs": [],
   "source": [
    "# Base url của API\n",
    "base_url = 'http://api.openweathermap.org/data/2.5/air_pollution/history?'\n",
    "\n",
    "# Hàm load data\n",
    "def load_data(lat: str, lon: str, start_date: str, end_date: str, appid: str):\n",
    "    \"\"\"Hàm lấy dữ liệu\n",
    "\n",
    "    Args:\n",
    "        lat (str): Vĩ độ.\n",
    "        lon (str): Kinh độ.\n",
    "        start_date (str): Ngày bắt đầu (thời gian unix, múi giờ UTC).\n",
    "        end_date (str): Ngày kết thúc (thời gian unix, múi giờ UTC).\n",
    "        appid(str): Khóa API\n",
    "\n",
    "    Returns:\n",
    "        pd.Dataframe: Bảng dữ liệu\n",
    "    \"\"\"\n",
    "    params = {\n",
    "        'lat': lat,\n",
    "        'lon': lon,\n",
    "        'start': start_date,\n",
    "        'end': end_date,\n",
    "        'appid': appid\n",
    "    }\n",
    "    r = requests.get(base_url, params=params)\n",
    "    air_quality_df = pd.DataFrame()\n",
    "    if r.status_code == 200:\n",
    "        data = json.loads(r.text)\n",
    "        extracted_data = [{'dt': item['dt'], 'aqi': item['main']['aqi'], **item['components']} for item in data['list']]\n",
    "        air_quality_df = pd.DataFrame(extracted_data)\n",
    "    return air_quality_df\n"
   ]
  },
  {
   "cell_type": "markdown",
   "id": "68a2c081",
   "metadata": {},
   "source": [
    "Tiến hành load data từ API. Chúng em sẽ tiến hành lấy dữ liệu của *TP Hồ Chí Minh từ 01/01/2022 tới 01/12/2023*"
   ]
  },
  {
   "cell_type": "code",
   "execution_count": 4,
   "id": "9cfc99b2",
   "metadata": {},
   "outputs": [
    {
     "data": {
      "text/html": [
       "<div>\n",
       "<style scoped>\n",
       "    .dataframe tbody tr th:only-of-type {\n",
       "        vertical-align: middle;\n",
       "    }\n",
       "\n",
       "    .dataframe tbody tr th {\n",
       "        vertical-align: top;\n",
       "    }\n",
       "\n",
       "    .dataframe thead th {\n",
       "        text-align: right;\n",
       "    }\n",
       "</style>\n",
       "<table border=\"1\" class=\"dataframe\">\n",
       "  <thead>\n",
       "    <tr style=\"text-align: right;\">\n",
       "      <th></th>\n",
       "      <th>dt</th>\n",
       "      <th>aqi</th>\n",
       "      <th>co</th>\n",
       "      <th>no</th>\n",
       "      <th>no2</th>\n",
       "      <th>o3</th>\n",
       "      <th>so2</th>\n",
       "      <th>pm2_5</th>\n",
       "      <th>pm10</th>\n",
       "      <th>nh3</th>\n",
       "    </tr>\n",
       "  </thead>\n",
       "  <tbody>\n",
       "    <tr>\n",
       "      <th>0</th>\n",
       "      <td>1609459200</td>\n",
       "      <td>3</td>\n",
       "      <td>700.95</td>\n",
       "      <td>0.44</td>\n",
       "      <td>35.99</td>\n",
       "      <td>17.35</td>\n",
       "      <td>32.90</td>\n",
       "      <td>20.33</td>\n",
       "      <td>26.64</td>\n",
       "      <td>8.99</td>\n",
       "    </tr>\n",
       "    <tr>\n",
       "      <th>1</th>\n",
       "      <td>1609462800</td>\n",
       "      <td>3</td>\n",
       "      <td>847.82</td>\n",
       "      <td>2.46</td>\n",
       "      <td>38.04</td>\n",
       "      <td>18.06</td>\n",
       "      <td>36.24</td>\n",
       "      <td>23.32</td>\n",
       "      <td>30.54</td>\n",
       "      <td>9.37</td>\n",
       "    </tr>\n",
       "    <tr>\n",
       "      <th>2</th>\n",
       "      <td>1609466400</td>\n",
       "      <td>3</td>\n",
       "      <td>894.55</td>\n",
       "      <td>5.25</td>\n",
       "      <td>38.39</td>\n",
       "      <td>23.25</td>\n",
       "      <td>41.01</td>\n",
       "      <td>24.16</td>\n",
       "      <td>31.93</td>\n",
       "      <td>9.25</td>\n",
       "    </tr>\n",
       "    <tr>\n",
       "      <th>3</th>\n",
       "      <td>1609470000</td>\n",
       "      <td>3</td>\n",
       "      <td>827.79</td>\n",
       "      <td>6.20</td>\n",
       "      <td>36.33</td>\n",
       "      <td>33.98</td>\n",
       "      <td>43.39</td>\n",
       "      <td>23.20</td>\n",
       "      <td>30.91</td>\n",
       "      <td>8.61</td>\n",
       "    </tr>\n",
       "    <tr>\n",
       "      <th>4</th>\n",
       "      <td>1609473600</td>\n",
       "      <td>2</td>\n",
       "      <td>660.90</td>\n",
       "      <td>3.69</td>\n",
       "      <td>29.13</td>\n",
       "      <td>54.36</td>\n",
       "      <td>35.76</td>\n",
       "      <td>19.50</td>\n",
       "      <td>25.60</td>\n",
       "      <td>6.21</td>\n",
       "    </tr>\n",
       "    <tr>\n",
       "      <th>...</th>\n",
       "      <td>...</td>\n",
       "      <td>...</td>\n",
       "      <td>...</td>\n",
       "      <td>...</td>\n",
       "      <td>...</td>\n",
       "      <td>...</td>\n",
       "      <td>...</td>\n",
       "      <td>...</td>\n",
       "      <td>...</td>\n",
       "      <td>...</td>\n",
       "    </tr>\n",
       "    <tr>\n",
       "      <th>25172</th>\n",
       "      <td>1701374400</td>\n",
       "      <td>5</td>\n",
       "      <td>3017.43</td>\n",
       "      <td>61.69</td>\n",
       "      <td>20.91</td>\n",
       "      <td>0.00</td>\n",
       "      <td>22.41</td>\n",
       "      <td>121.27</td>\n",
       "      <td>132.87</td>\n",
       "      <td>13.05</td>\n",
       "    </tr>\n",
       "    <tr>\n",
       "      <th>25173</th>\n",
       "      <td>1701378000</td>\n",
       "      <td>5</td>\n",
       "      <td>2456.67</td>\n",
       "      <td>46.04</td>\n",
       "      <td>17.82</td>\n",
       "      <td>0.00</td>\n",
       "      <td>19.55</td>\n",
       "      <td>96.76</td>\n",
       "      <td>104.39</td>\n",
       "      <td>10.26</td>\n",
       "    </tr>\n",
       "    <tr>\n",
       "      <th>25174</th>\n",
       "      <td>1701381600</td>\n",
       "      <td>4</td>\n",
       "      <td>1588.82</td>\n",
       "      <td>24.59</td>\n",
       "      <td>20.05</td>\n",
       "      <td>0.00</td>\n",
       "      <td>19.55</td>\n",
       "      <td>58.44</td>\n",
       "      <td>63.65</td>\n",
       "      <td>7.60</td>\n",
       "    </tr>\n",
       "    <tr>\n",
       "      <th>25175</th>\n",
       "      <td>1701385200</td>\n",
       "      <td>3</td>\n",
       "      <td>1241.68</td>\n",
       "      <td>17.43</td>\n",
       "      <td>20.56</td>\n",
       "      <td>0.01</td>\n",
       "      <td>21.46</td>\n",
       "      <td>43.58</td>\n",
       "      <td>49.60</td>\n",
       "      <td>7.60</td>\n",
       "    </tr>\n",
       "    <tr>\n",
       "      <th>25176</th>\n",
       "      <td>1701388800</td>\n",
       "      <td>3</td>\n",
       "      <td>1268.39</td>\n",
       "      <td>19.45</td>\n",
       "      <td>20.56</td>\n",
       "      <td>0.51</td>\n",
       "      <td>25.99</td>\n",
       "      <td>42.74</td>\n",
       "      <td>51.66</td>\n",
       "      <td>9.63</td>\n",
       "    </tr>\n",
       "  </tbody>\n",
       "</table>\n",
       "<p>25177 rows × 10 columns</p>\n",
       "</div>"
      ],
      "text/plain": [
       "               dt  aqi       co     no    no2     o3    so2   pm2_5    pm10  \\\n",
       "0      1609459200    3   700.95   0.44  35.99  17.35  32.90   20.33   26.64   \n",
       "1      1609462800    3   847.82   2.46  38.04  18.06  36.24   23.32   30.54   \n",
       "2      1609466400    3   894.55   5.25  38.39  23.25  41.01   24.16   31.93   \n",
       "3      1609470000    3   827.79   6.20  36.33  33.98  43.39   23.20   30.91   \n",
       "4      1609473600    2   660.90   3.69  29.13  54.36  35.76   19.50   25.60   \n",
       "...           ...  ...      ...    ...    ...    ...    ...     ...     ...   \n",
       "25172  1701374400    5  3017.43  61.69  20.91   0.00  22.41  121.27  132.87   \n",
       "25173  1701378000    5  2456.67  46.04  17.82   0.00  19.55   96.76  104.39   \n",
       "25174  1701381600    4  1588.82  24.59  20.05   0.00  19.55   58.44   63.65   \n",
       "25175  1701385200    3  1241.68  17.43  20.56   0.01  21.46   43.58   49.60   \n",
       "25176  1701388800    3  1268.39  19.45  20.56   0.51  25.99   42.74   51.66   \n",
       "\n",
       "         nh3  \n",
       "0       8.99  \n",
       "1       9.37  \n",
       "2       9.25  \n",
       "3       8.61  \n",
       "4       6.21  \n",
       "...      ...  \n",
       "25172  13.05  \n",
       "25173  10.26  \n",
       "25174   7.60  \n",
       "25175   7.60  \n",
       "25176   9.63  \n",
       "\n",
       "[25177 rows x 10 columns]"
      ]
     },
     "execution_count": 4,
     "metadata": {},
     "output_type": "execute_result"
    }
   ],
   "source": [
    "# Định nghĩa params\n",
    "start_date = date_time_to_utc_epoch(datetime.datetime(2021,1,1)) # Chuyển ngày 01/01/2022 về dạng Unix Time dựa vào hàm chuyển đổi\n",
    "end_date = date_time_to_utc_epoch(datetime.datetime(2023,12,1)) # Chuyển ngày 01/12/2023 về dạng Unix Time dựa vào hàm chuyển đổi\n",
    "\n",
    "# Tọa độ của TP HCM\n",
    "lat = '10.8231'\n",
    "lon =  '106.6297'\n",
    "\n",
    "# Key id được tạo cung cấp từ trang web\n",
    "appid =  \"59da78cf88e29ed9966a7904d10dbf34\"\n",
    "\n",
    "# Load data\n",
    "df = load_data(lat, lon, start_date, end_date, appid)\n",
    "df"
   ]
  },
  {
   "cell_type": "markdown",
   "id": "475bb417",
   "metadata": {},
   "source": [
    "Lưu data dưới dạng csv"
   ]
  },
  {
   "cell_type": "code",
   "execution_count": 5,
   "id": "32babc74",
   "metadata": {},
   "outputs": [],
   "source": [
    "df.to_csv('./data/air_quality.csv', sep=',', encoding='utf-8', index=False)"
   ]
  },
  {
   "cell_type": "markdown",
   "id": "81bc705f",
   "metadata": {},
   "source": [
    "## Tiền xử lý và khám phá dữ liệu"
   ]
  },
  {
   "cell_type": "markdown",
   "id": "0d87f031",
   "metadata": {},
   "source": [
    "### Khám phá dữ liệu"
   ]
  },
  {
   "cell_type": "markdown",
   "id": "9201a959",
   "metadata": {},
   "source": [
    "Đọc dữ liệu từ file csv vừa lưu ở trên"
   ]
  },
  {
   "cell_type": "code",
   "execution_count": 6,
   "id": "ea34cb42",
   "metadata": {},
   "outputs": [],
   "source": [
    "air_quality_df = pd.read_csv('./Data/air_quality.csv')"
   ]
  },
  {
   "cell_type": "markdown",
   "id": "5ed583af",
   "metadata": {},
   "source": [
    "Tổng quan dữ liệu thu được"
   ]
  },
  {
   "cell_type": "code",
   "execution_count": 7,
   "id": "c0548eaa",
   "metadata": {},
   "outputs": [
    {
     "data": {
      "text/html": [
       "<div>\n",
       "<style scoped>\n",
       "    .dataframe tbody tr th:only-of-type {\n",
       "        vertical-align: middle;\n",
       "    }\n",
       "\n",
       "    .dataframe tbody tr th {\n",
       "        vertical-align: top;\n",
       "    }\n",
       "\n",
       "    .dataframe thead th {\n",
       "        text-align: right;\n",
       "    }\n",
       "</style>\n",
       "<table border=\"1\" class=\"dataframe\">\n",
       "  <thead>\n",
       "    <tr style=\"text-align: right;\">\n",
       "      <th></th>\n",
       "      <th>dt</th>\n",
       "      <th>aqi</th>\n",
       "      <th>co</th>\n",
       "      <th>no</th>\n",
       "      <th>no2</th>\n",
       "      <th>o3</th>\n",
       "      <th>so2</th>\n",
       "      <th>pm2_5</th>\n",
       "      <th>pm10</th>\n",
       "      <th>nh3</th>\n",
       "    </tr>\n",
       "  </thead>\n",
       "  <tbody>\n",
       "    <tr>\n",
       "      <th>0</th>\n",
       "      <td>1609459200</td>\n",
       "      <td>3</td>\n",
       "      <td>700.95</td>\n",
       "      <td>0.44</td>\n",
       "      <td>35.99</td>\n",
       "      <td>17.35</td>\n",
       "      <td>32.90</td>\n",
       "      <td>20.33</td>\n",
       "      <td>26.64</td>\n",
       "      <td>8.99</td>\n",
       "    </tr>\n",
       "    <tr>\n",
       "      <th>1</th>\n",
       "      <td>1609462800</td>\n",
       "      <td>3</td>\n",
       "      <td>847.82</td>\n",
       "      <td>2.46</td>\n",
       "      <td>38.04</td>\n",
       "      <td>18.06</td>\n",
       "      <td>36.24</td>\n",
       "      <td>23.32</td>\n",
       "      <td>30.54</td>\n",
       "      <td>9.37</td>\n",
       "    </tr>\n",
       "    <tr>\n",
       "      <th>2</th>\n",
       "      <td>1609466400</td>\n",
       "      <td>3</td>\n",
       "      <td>894.55</td>\n",
       "      <td>5.25</td>\n",
       "      <td>38.39</td>\n",
       "      <td>23.25</td>\n",
       "      <td>41.01</td>\n",
       "      <td>24.16</td>\n",
       "      <td>31.93</td>\n",
       "      <td>9.25</td>\n",
       "    </tr>\n",
       "    <tr>\n",
       "      <th>3</th>\n",
       "      <td>1609470000</td>\n",
       "      <td>3</td>\n",
       "      <td>827.79</td>\n",
       "      <td>6.20</td>\n",
       "      <td>36.33</td>\n",
       "      <td>33.98</td>\n",
       "      <td>43.39</td>\n",
       "      <td>23.20</td>\n",
       "      <td>30.91</td>\n",
       "      <td>8.61</td>\n",
       "    </tr>\n",
       "    <tr>\n",
       "      <th>4</th>\n",
       "      <td>1609473600</td>\n",
       "      <td>2</td>\n",
       "      <td>660.90</td>\n",
       "      <td>3.69</td>\n",
       "      <td>29.13</td>\n",
       "      <td>54.36</td>\n",
       "      <td>35.76</td>\n",
       "      <td>19.50</td>\n",
       "      <td>25.60</td>\n",
       "      <td>6.21</td>\n",
       "    </tr>\n",
       "    <tr>\n",
       "      <th>5</th>\n",
       "      <td>1609477200</td>\n",
       "      <td>3</td>\n",
       "      <td>614.17</td>\n",
       "      <td>2.77</td>\n",
       "      <td>27.76</td>\n",
       "      <td>67.95</td>\n",
       "      <td>34.81</td>\n",
       "      <td>20.08</td>\n",
       "      <td>25.64</td>\n",
       "      <td>5.32</td>\n",
       "    </tr>\n",
       "    <tr>\n",
       "      <th>6</th>\n",
       "      <td>1609480800</td>\n",
       "      <td>3</td>\n",
       "      <td>600.82</td>\n",
       "      <td>2.38</td>\n",
       "      <td>26.05</td>\n",
       "      <td>80.82</td>\n",
       "      <td>34.33</td>\n",
       "      <td>21.10</td>\n",
       "      <td>26.28</td>\n",
       "      <td>5.00</td>\n",
       "    </tr>\n",
       "    <tr>\n",
       "      <th>7</th>\n",
       "      <td>1609484400</td>\n",
       "      <td>3</td>\n",
       "      <td>554.09</td>\n",
       "      <td>1.90</td>\n",
       "      <td>22.28</td>\n",
       "      <td>91.55</td>\n",
       "      <td>28.85</td>\n",
       "      <td>20.34</td>\n",
       "      <td>25.04</td>\n",
       "      <td>4.43</td>\n",
       "    </tr>\n",
       "    <tr>\n",
       "      <th>8</th>\n",
       "      <td>1609488000</td>\n",
       "      <td>2</td>\n",
       "      <td>514.03</td>\n",
       "      <td>1.17</td>\n",
       "      <td>20.74</td>\n",
       "      <td>85.83</td>\n",
       "      <td>24.32</td>\n",
       "      <td>17.08</td>\n",
       "      <td>21.14</td>\n",
       "      <td>3.96</td>\n",
       "    </tr>\n",
       "    <tr>\n",
       "      <th>9</th>\n",
       "      <td>1609491600</td>\n",
       "      <td>2</td>\n",
       "      <td>500.68</td>\n",
       "      <td>0.66</td>\n",
       "      <td>19.19</td>\n",
       "      <td>75.10</td>\n",
       "      <td>20.98</td>\n",
       "      <td>14.04</td>\n",
       "      <td>17.46</td>\n",
       "      <td>3.61</td>\n",
       "    </tr>\n",
       "  </tbody>\n",
       "</table>\n",
       "</div>"
      ],
      "text/plain": [
       "           dt  aqi      co    no    no2     o3    so2  pm2_5   pm10   nh3\n",
       "0  1609459200    3  700.95  0.44  35.99  17.35  32.90  20.33  26.64  8.99\n",
       "1  1609462800    3  847.82  2.46  38.04  18.06  36.24  23.32  30.54  9.37\n",
       "2  1609466400    3  894.55  5.25  38.39  23.25  41.01  24.16  31.93  9.25\n",
       "3  1609470000    3  827.79  6.20  36.33  33.98  43.39  23.20  30.91  8.61\n",
       "4  1609473600    2  660.90  3.69  29.13  54.36  35.76  19.50  25.60  6.21\n",
       "5  1609477200    3  614.17  2.77  27.76  67.95  34.81  20.08  25.64  5.32\n",
       "6  1609480800    3  600.82  2.38  26.05  80.82  34.33  21.10  26.28  5.00\n",
       "7  1609484400    3  554.09  1.90  22.28  91.55  28.85  20.34  25.04  4.43\n",
       "8  1609488000    2  514.03  1.17  20.74  85.83  24.32  17.08  21.14  3.96\n",
       "9  1609491600    2  500.68  0.66  19.19  75.10  20.98  14.04  17.46  3.61"
      ]
     },
     "execution_count": 7,
     "metadata": {},
     "output_type": "execute_result"
    }
   ],
   "source": [
    "# Hiển thị 10 dòng đầu của dữ liệu\n",
    "air_quality_df.head(10)"
   ]
  },
  {
   "cell_type": "markdown",
   "id": "3a4888bd",
   "metadata": {},
   "source": [
    "**Dữ liệu có bao nhiêu hàng, bao nhiêu cột?**"
   ]
  },
  {
   "cell_type": "code",
   "execution_count": 8,
   "id": "34f8e2fc",
   "metadata": {},
   "outputs": [
    {
     "name": "stdout",
     "output_type": "stream",
     "text": [
      "Dữ liệu có: 25177 hàng, 10 cột.\n"
     ]
    }
   ],
   "source": [
    "n_rows, n_cols = air_quality_df.shape\n",
    "\n",
    "print(f\"Dữ liệu có: {n_rows} hàng, {n_cols} cột.\")"
   ]
  },
  {
   "cell_type": "markdown",
   "id": "547cb856",
   "metadata": {},
   "source": [
    "**Dữ liệu các dòng có bị lặp không?**"
   ]
  },
  {
   "cell_type": "code",
   "execution_count": 9,
   "id": "08da3bd9",
   "metadata": {},
   "outputs": [
    {
     "name": "stdout",
     "output_type": "stream",
     "text": [
      "Dữ liệu không có dòng lặp.!\n"
     ]
    }
   ],
   "source": [
    "num_duplicated_rows = air_quality_df.duplicated().sum()\n",
    "if num_duplicated_rows == 0:\n",
    "    print(f\"Dữ liệu không có dòng lặp.!\")\n",
    "else:\n",
    "    print(f\"Dữ liệu có {num_duplicated_rows} dòng lặp.\")"
   ]
  },
  {
   "cell_type": "markdown",
   "id": "6175d554",
   "metadata": {},
   "source": [
    "Vậy là ta có đủ lượng dữ liệu cần và các dòng dữ liệu cũng không bị trùng lặp.\n",
    "\n",
    "Chúng ta sẽ khám phá ý nghĩa của dữ liệu."
   ]
  },
  {
   "cell_type": "markdown",
   "id": "8abe0cf4",
   "metadata": {},
   "source": [
    "**Ý nghĩa của dữ liệu**"
   ]
  },
  {
   "cell_type": "markdown",
   "id": "cda49d4f",
   "metadata": {},
   "source": [
    "- Quan sát tổng thể ta có thể thấy mỗi dòng là số liệu của các loại chất để xác định mức độ ô nhiễm.\n",
    "\n",
    "- Trong dữ liệu có cột dt để lưu lại thời gian ghi nhận số liệu, thời gian ghi nhận tính từ `01 tháng 01 năm 2022 00:00:00` đến `01 tháng 12 năm 2023 00:00:00`. Mỗi dòng là số liệu ghi nhận sau 1 giờ đồng hồ (mỗi dòng hơn nhau 3600 đơn vị).\n",
    "\n",
    "- Bên cạnh đó ta có chỉ số chất lượng không khí là aqi. Các giá trị có thể có: 1, 2, 3, 4, 5. Trong đó:\n",
    "    - 1 : Tốt\n",
    "    - 2 : Khá\n",
    "    - 3 : Trung bình\n",
    "    - 4 : Kém\n",
    "    - 5 : Rất Kém\n",
    "- Dữ liệu trả về cũng bao gồm hàm lượng các chất ô nhiễm như sau:\n",
    "    - CO (Carbon Monoxide - Monoxit Carbon):\n",
    "\n",
    "        - Là khí màu không, không mùi, được tạo ra từ quá trình đốt cháy không hoàn toàn của nhiên liệu hóa thạch (như xăng, khí tự nhiên, than, và gỗ).\n",
    "        - Thường được phát thải từ các phương tiện giao thông, quá trình công nghiệp và nguồn gốc tự nhiên.\n",
    "        - Tiếp xúc với nồng độ cao có thể gây đau đầu, chóng mặt, buồn nôn và trong các trường hợp nghiêm trọng có thể gây tử vong.\n",
    "    - NO (Nitric Oxide - Nitơ Oxít) và NO2 (Nitrogen Dioxide - Nitơ Điôxít):\n",
    "\n",
    "        - Cả hai đều là khí được tạo ra từ quá trình đốt cháy, chủ yếu từ các phương tiện giao thông và hoạt động công nghiệp.\n",
    "        - NO là chất tiền thân của NO2 trong không khí.\n",
    "        - NO2 góp phần tạo thành sương mù và mưa axit.\n",
    "        - Tiếp xúc lâu dài có thể gây ra các vấn đề về hệ hô hấp và làm trầm trọng thêm các bệnh về phổi như hen suyễn và các bệnh về phổi khác.\n",
    "    - O3 (Ozone - Ozon):\n",
    "\n",
    "        - Là khí gồm ba nguyên tử ôxy.\n",
    "        - Được tạo thành từ phản ứng hóa học giữa oxít nitơ (NOx) và các hợp chất hữu cơ bay hơi (VOC) dưới ánh nắng mặt trời.\n",
    "        - Ở mức độ sát đất, ozone là thành phần chính của sương mù.\n",
    "        - Hít thở ozone có thể gây kích ứng họng, ho, đau ngực và làm trầm trọng các vấn đề về hệ hô hấp.\n",
    "    - SO2 (Sulfur Dioxide - Lưu huỳnh Điôxít):\n",
    "\n",
    "        - Là khí được tạo ra từ đốt cháy nhiên liệu hóa thạch chứa lưu huỳnh (than và dầu) và các quá trình công nghiệp (như khai thác kim loại).\n",
    "        - Đóng góp lớn vào việc tạo ra mưa axit.\n",
    "        - Hít thở SO2 có thể gây kích ứng mũi và họng, vấn đề hô hấp và làm trầm trọng các vấn đề về hen suyễn.\n",
    "    - PM2.5 và PM10 (Chất hạt bụi):\n",
    "\n",
    "        - PM2.5 đề cập đến các hạt bụi nhỏ có đường kính thường là 2.5 micromet và nhỏ hơn.\n",
    "        - PM10 bao gồm các hạt có đường kính lên đến 10 micromet.\n",
    "        - Nguồn gốc bao gồm phát thải từ phương tiện giao thông, quá trình công nghiệp, hoạt động xây dựng và các nguồn tự nhiên như bão cát.\n",
    "        - PM2.5 và PM10 có thể xâm nhập sâu vào phổi và gây ra các vấn đề về hô hấp, vấn đề về tim mạch và các tác động khác đối với sức khỏe.\n",
    "    - NH3 (Ammonia - Amoniac):\n",
    "\n",
    "        - Là hợp chất chủ yếu được phát ra từ hoạt động nông nghiệp, chất thải động vật và các quá trình công nghiệp.\n",
    "        - Đóng góp vào việc tạo ra các hạt bụi mịn và có thể phản ứng với các chất ô nhiễm khác trong không khí.\n",
    "        - Hít thở NH3 có thể gây kích ứng mắt, mũi và họng.\n",
    "    \n",
    "Chi tiết về thang đo ô nhiễm nằm ở bảng sau:\n",
    "         <table class=\"material-table\">\n",
    "<thead>\n",
    "  <tr>\n",
    "    <th>Qualitative name</th>\n",
    "    <th>Index</th>\n",
    "    <th colspan=\"6\">Pollutant concentration in &mu;g/m<sup>3</sup></th>\n",
    "  </tr>\n",
    "</thead>\n",
    "<tbody>\n",
    "  <tr>\n",
    "    <td  colspan=\"2\"></td>\n",
    "    <td >SO<sub>2</sub></td>\n",
    "    <td >NO<sub>2</sub></td>\n",
    "    <td >PM<sub>10</sub></td>\n",
    "    <td >PM<sub>2.5</sub></td>\n",
    "    <td >O<sub>3</sub></td>\n",
    "    <td >CO</td>\n",
    "  </tr>\n",
    "  <tr>\n",
    "    <td >Good</td>\n",
    "    <td >1</td>\n",
    "    <td >[0; 20)</td>\n",
    "    <td >[0; 40)</td>\n",
    "    <td >[0; 20)</td>\n",
    "    <td >[0; 10)</td>\n",
    "    <td >[0; 60)</td>\n",
    "    <td >[0; 4400)</td>\n",
    "  </tr>\n",
    "  <tr>\n",
    "    <td >Fair</td>\n",
    "    <td >2</td>\n",
    "    <td >[20; 80)</td>\n",
    "    <td >[40; 70)</td>\n",
    "    <td >[20; 50)</td>\n",
    "    <td >[10; 25)</td>\n",
    "    <td >[60; 100)</td>\n",
    "    <td >[4400; 9400)</td>\n",
    "  </tr>\n",
    "  <tr>\n",
    "    <td >Moderate</td>\n",
    "    <td >3</td>\n",
    "    <td >[80; 250)</td>\n",
    "    <td >[70; 150)</td>\n",
    "    <td >[50; 100)</td>\n",
    "    <td >[25; 50)</td>\n",
    "    <td >[100; 140)</td>\n",
    "    <td >[9400-12400)</td>\n",
    "  </tr>\n",
    "  <tr>\n",
    "    <td >Poor</td>\n",
    "    <td >4</td>\n",
    "    <td >[250; 350)</td>\n",
    "    <td >[150; 200)</td>\n",
    "    <td >[100; 200)</td>\n",
    "    <td >[50; 75)</td>\n",
    "    <td >[140; 180)</td>\n",
    "    <td >[12400; 15400)</td>\n",
    "  </tr>\n",
    "  <tr>\n",
    "    <td >Very Poor</td>\n",
    "    <td >5</td>\n",
    "    <td >⩾350</td>\n",
    "    <td >⩾200</td>\n",
    "    <td >⩾200</td>\n",
    "    <td >⩾75</td>\n",
    "    <td >⩾180</td>\n",
    "    <td >⩾15400</td>\n",
    "  </tr>\n",
    "</tbody>\n",
    "</table>"
   ]
  },
  {
   "cell_type": "markdown",
   "id": "74b78ca2",
   "metadata": {},
   "source": [
    "### Chuyển đổi kiểu dữ liệu & xử lý dữ liệu bị thiếu"
   ]
  },
  {
   "cell_type": "markdown",
   "id": "4ce163fe",
   "metadata": {},
   "source": [
    "**Mỗi cột hiện có kiểu dữ liệu là gì? Có cột nào có kiểu dữ liệu không phù hợp để xử lý tiếp không?**"
   ]
  },
  {
   "cell_type": "code",
   "execution_count": 10,
   "id": "3ac593dd",
   "metadata": {},
   "outputs": [
    {
     "data": {
      "text/plain": [
       "dt         int64\n",
       "aqi        int64\n",
       "co       float64\n",
       "no       float64\n",
       "no2      float64\n",
       "o3       float64\n",
       "so2      float64\n",
       "pm2_5    float64\n",
       "pm10     float64\n",
       "nh3      float64\n",
       "dtype: object"
      ]
     },
     "execution_count": 10,
     "metadata": {},
     "output_type": "execute_result"
    }
   ],
   "source": [
    "air_quality_df.dtypes"
   ]
  },
  {
   "cell_type": "markdown",
   "id": "9bd1168e",
   "metadata": {},
   "source": [
    "Ta quan sát thấy cột `dt` có kiểu `int64`. Mà cột `dt` là cột lưu lại thời gian ghi nhận số liệu, vì vậy ta có thể chuyển đổi cột `dt` sang kiểu `datetime`."
   ]
  },
  {
   "cell_type": "code",
   "execution_count": 11,
   "id": "c3c731b4",
   "metadata": {},
   "outputs": [
    {
     "data": {
      "text/plain": [
       "dt       datetime64[ns]\n",
       "aqi               int64\n",
       "co              float64\n",
       "no              float64\n",
       "no2             float64\n",
       "o3              float64\n",
       "so2             float64\n",
       "pm2_5           float64\n",
       "pm10            float64\n",
       "nh3             float64\n",
       "dtype: object"
      ]
     },
     "execution_count": 11,
     "metadata": {},
     "output_type": "execute_result"
    }
   ],
   "source": [
    "# chuyển cột 'dt' sang kiểu 'datetime'\n",
    "air_quality_df['dt'] = pd.to_datetime(df['dt'], unit='s')\n",
    "\n",
    "# kiểm tra kết quả\n",
    "air_quality_df.dtypes"
   ]
  },
  {
   "cell_type": "markdown",
   "id": "2f44cc38",
   "metadata": {},
   "source": [
    "Ta thấy aqi là chỉ số có giá trị từ 1-5 nên ta có thể chuyển cột `aqi` sang kiểu `category`"
   ]
  },
  {
   "cell_type": "code",
   "execution_count": 12,
   "id": "14bfeb58",
   "metadata": {},
   "outputs": [
    {
     "data": {
      "text/plain": [
       "dt       datetime64[ns]\n",
       "aqi            category\n",
       "co              float64\n",
       "no              float64\n",
       "no2             float64\n",
       "o3              float64\n",
       "so2             float64\n",
       "pm2_5           float64\n",
       "pm10            float64\n",
       "nh3             float64\n",
       "dtype: object"
      ]
     },
     "execution_count": 12,
     "metadata": {},
     "output_type": "execute_result"
    }
   ],
   "source": [
    "# chuyển cột 'aqi' sang kiểu 'category'\n",
    "air_quality_df['aqi'] = air_quality_df['aqi'].astype('category')\n",
    "\n",
    "# kiểm tra kết quả\n",
    "air_quality_df.dtypes"
   ]
  },
  {
   "cell_type": "markdown",
   "id": "8a1410ce",
   "metadata": {},
   "source": [
    "**Dữ liệu có bị thiếu không ?**"
   ]
  },
  {
   "cell_type": "code",
   "execution_count": 13,
   "id": "4a9b8825",
   "metadata": {},
   "outputs": [
    {
     "name": "stdout",
     "output_type": "stream",
     "text": [
      "Không có dữ liệu bị thiếu.\n"
     ]
    }
   ],
   "source": [
    "# Kiểm tra dữ liệu bị thiếu\n",
    "missing_data = air_quality_df.isna().any()\n",
    "\n",
    "if missing_data.any():\n",
    "    print(\"Có dữ liệu bị thiếu:\")\n",
    "    print(missing_data)\n",
    "else:\n",
    "    print(\"Không có dữ liệu bị thiếu.\")"
   ]
  },
  {
   "cell_type": "markdown",
   "id": "e664f7d9",
   "metadata": {},
   "source": [
    "Không phải xử lý dữ liệu bị thiếu vì không có giá trị nào bị thiếu cần xử lý."
   ]
  },
  {
   "cell_type": "markdown",
   "id": "879898bf",
   "metadata": {},
   "source": [
    "**Có dữ liệu không hợp lệ không?**"
   ]
  },
  {
   "cell_type": "markdown",
   "id": "e9a0e41c",
   "metadata": {},
   "source": [
    "Với những cột có dữ liệu số, giá trị của chúng phải lớn hơn hoặc bằng 0"
   ]
  },
  {
   "cell_type": "code",
   "execution_count": 14,
   "id": "07f184b4",
   "metadata": {},
   "outputs": [
    {
     "name": "stdout",
     "output_type": "stream",
     "text": [
      "Không có giá trị bé hơn 0 trong cột 'co'\n",
      "Không có giá trị bé hơn 0 trong cột 'no'\n",
      "Không có giá trị bé hơn 0 trong cột 'no2'\n",
      "Có giá trị bé hơn 0 trong cột 'o3'\n",
      "Không có giá trị bé hơn 0 trong cột 'so2'\n",
      "Không có giá trị bé hơn 0 trong cột 'pm2_5'\n",
      "Không có giá trị bé hơn 0 trong cột 'pm10'\n",
      "Không có giá trị bé hơn 0 trong cột 'nh3'\n"
     ]
    }
   ],
   "source": [
    "numeric_columns = air_quality_df.select_dtypes(include=['float64']).columns\n",
    "\n",
    "# Kiểm tra xem các giá trị trong từng cột có bé hơn 0 không\n",
    "for column in numeric_columns:\n",
    "    values_smaller_than_zero = air_quality_df[air_quality_df[column] < 0]\n",
    "    if values_smaller_than_zero.empty:\n",
    "        print(f\"Không có giá trị bé hơn 0 trong cột '{column}'\")\n",
    "    else:\n",
    "        print(f\"Có giá trị bé hơn 0 trong cột '{column}'\")"
   ]
  },
  {
   "cell_type": "markdown",
   "id": "18afd2ad",
   "metadata": {},
   "source": [
    "Có giá trị bé hơn 0 ở cột `o3`, có thể xóa dòng đó ra khỏi data. Lưu data sau xử lý thành `cleaned_df` để sử dụng"
   ]
  },
  {
   "cell_type": "code",
   "execution_count": 15,
   "id": "9fe3054b",
   "metadata": {},
   "outputs": [
    {
     "name": "stdout",
     "output_type": "stream",
     "text": [
      "Số dòng đã bị xóa: 1\n"
     ]
    }
   ],
   "source": [
    "# Tạo một mask để xác định các dòng có giá trị bé hơn 0\n",
    "mask = (air_quality_df[numeric_columns] < 0).any(axis=1)\n",
    "\n",
    "# Xóa các dòng có giá trị bé hơn 0 và lưu thành cleaned_\n",
    "cleaned_df = air_quality_df[~mask]\n",
    "\n",
    "# Hiển thị thông tin về số dòng bị xóa\n",
    "rows_removed = air_quality_df.shape[0] - cleaned_df.shape[0]\n",
    "print(f\"Số dòng đã bị xóa: {rows_removed}\")"
   ]
  },
  {
   "cell_type": "markdown",
   "id": "4fc744ff-8264-4cba-b745-2caa5b8ffa57",
   "metadata": {},
   "source": [
    "### Với cột có kiểu dữ liệu non-numeric, chúng ta sẽ xem các giá trị đó được phân phối như thế nào?"
   ]
  },
  {
   "cell_type": "markdown",
   "id": "60fff254",
   "metadata": {},
   "source": [
    "Đối với các cột có kiểu dữ liệu không phải là số, nhóm em sẽ tính:\n",
    "- Phần trăm (từ 0 đến 100) của giá trị thiếu sót.\n",
    "- Số lượng giá trị (các giá trị ở đây là các giá trị khác nhau và không xét giá trị thiếu).\n",
    "- Phần trăm (từ 0 đến 100) của mỗi giá trị được sắp xếp theo tỉ lệ phần trăm giảm dần.\n",
    "- Lưu kết quả vào DataFrame cat_col_info_df, trong đó:\n",
    "    - Tên của các cột là tên của các cột không phải là số trong air_quality_df.\n",
    "    - Tên của các dòng là: \"missing_ratio\", \"num_values\", \"value_ratios\"."
   ]
  },
  {
   "cell_type": "code",
   "execution_count": 16,
   "id": "4e1b8f99-8e1a-49fa-9ac9-da128f470b38",
   "metadata": {},
   "outputs": [
    {
     "data": {
      "text/html": [
       "<div>\n",
       "<style scoped>\n",
       "    .dataframe tbody tr th:only-of-type {\n",
       "        vertical-align: middle;\n",
       "    }\n",
       "\n",
       "    .dataframe tbody tr th {\n",
       "        vertical-align: top;\n",
       "    }\n",
       "\n",
       "    .dataframe thead th {\n",
       "        text-align: right;\n",
       "    }\n",
       "</style>\n",
       "<table border=\"1\" class=\"dataframe\">\n",
       "  <thead>\n",
       "    <tr style=\"text-align: right;\">\n",
       "      <th></th>\n",
       "      <th>aqi</th>\n",
       "    </tr>\n",
       "  </thead>\n",
       "  <tbody>\n",
       "    <tr>\n",
       "      <th>missing_ratio</th>\n",
       "      <td>0.0</td>\n",
       "    </tr>\n",
       "    <tr>\n",
       "      <th>num_values</th>\n",
       "      <td>5</td>\n",
       "    </tr>\n",
       "    <tr>\n",
       "      <th>value_ratios</th>\n",
       "      <td>{5: 39.3, 4: 24.1, 2: 19.2, 3: 14.6, 1: 2.7}</td>\n",
       "    </tr>\n",
       "  </tbody>\n",
       "</table>\n",
       "</div>"
      ],
      "text/plain": [
       "                                                        aqi\n",
       "missing_ratio                                           0.0\n",
       "num_values                                                5\n",
       "value_ratios   {5: 39.3, 4: 24.1, 2: 19.2, 3: 14.6, 1: 2.7}"
      ]
     },
     "execution_count": 16,
     "metadata": {},
     "output_type": "execute_result"
    }
   ],
   "source": [
    "cat_col_info_df = cleaned_df.select_dtypes(include='category')\n",
    "\n",
    "# Phần trăm missing value\n",
    "def missing_ratio(series):\n",
    "    return series.isna().mean() * 100\n",
    "\n",
    "# Số lượng giá trị\n",
    "def num_values(series):\n",
    "    return series.nunique()\n",
    "\n",
    "# Tỉ lệ mỗi giá trị\n",
    "def value_ratios(series):\n",
    "    value_ratios=(((series.value_counts(normalize=True)*100)).round(1)).to_dict()\n",
    "    return value_ratios\n",
    "\n",
    "cat_col_info_df = (cat_col_info_df.agg([missing_ratio, num_values, value_ratios]))\n",
    "\n",
    "cat_col_info_df "
   ]
  },
  {
   "cell_type": "code",
   "execution_count": 17,
   "id": "9203debc-aeee-4b06-9db6-2bf2b5789c07",
   "metadata": {},
   "outputs": [
    {
     "name": "stderr",
     "output_type": "stream",
     "text": [
      "C:\\Users\\anngu\\anaconda3\\Lib\\site-packages\\seaborn\\_oldcore.py:1765: FutureWarning: unique with argument that is not not a Series, Index, ExtensionArray, or np.ndarray is deprecated and will raise in a future version.\n",
      "  order = pd.unique(vector)\n"
     ]
    },
    {
     "data": {
      "image/png": "[encoded data removed]",
      "text/plain": [
       "<Figure size 1200x600 with 1 Axes>"
      ]
     },
     "metadata": {},
     "output_type": "display_data"
    }
   ],
   "source": [
    "# Biểu đồ phân tán cho tỷ lệ giá trị\n",
    "plt.figure(figsize=(12, 6))\n",
    "sns.barplot(x=list(cat_col_info_df.loc['value_ratios']['aqi'].keys()), \n",
    "            y=list(cat_col_info_df.loc['value_ratios']['aqi'].values()))\n",
    "plt.title('Value Ratios for AQI')\n",
    "plt.xlabel('Unique Values in AQI')\n",
    "plt.ylabel('Percentage (%)')\n",
    "plt.show()"
   ]
  },
  {
   "cell_type": "markdown",
   "id": "64b95a54-064c-4e75-baff-d2a47c878ac9",
   "metadata": {},
   "source": [
    "##### Nhận xét:\n",
    "- Nhìn vào biểu đồ, ta có thể thấy được chất lượng không khí rất kém chiếm tỉ lệ cao nhất (39,3%), tiếp đến là chất lượng không khí kém (24,1%).\n",
    "- Tỉ lệ chất lượng không khi ở mức khá cao hơn mức trung bình.\n",
    "- Tỉ lệ chất lượng không khí tốt rất ít (chỉ 2,7%). \n",
    "- Vậy, không khí có chất lượng rất kém và kém rất phổ biển. Điều này có thể mang lại cái nhìn tổng quan về mức độ ô nhiễm không khí hiện nay."
   ]
  },
  {
   "cell_type": "markdown",
   "id": "d554feca",
   "metadata": {},
   "source": [
    "### Với cột có kiểu dữ liệu numeric, chúng ta sẽ xem các giá trị đó được phân phối như thế nào?"
   ]
  },
  {
   "cell_type": "markdown",
   "id": "931fb9a0",
   "metadata": {},
   "source": [
    "Đối với các cột có kiểu dữ liệu số, nhóm em sẽ tính:\n",
    "- Tỷ lệ phần trăm (từ 0 đến 100) giá trị bị thiếu\n",
    "- Tối thiểu (Min)\n",
    "- Tứ phân vị dưới (phân vị 25)\n",
    "- Trung vị (phân vị 50)\n",
    "- Tứ phân vị trên (phân vị 75)\n",
    "- Tối đa (Max)\n",
    "- Lưu kết quả vào DataFrame `num_col_info_df`, trong đó:\n",
    "    - Tên của các cột là tên của các cột là số trong air_quality_df.\n",
    "    - Tên của các dòng là: \"missing_ratio\", \"min\", \"lower_quartile\", \"median\", \"upper_quartile\", \"max\" ."
   ]
  },
  {
   "cell_type": "code",
   "execution_count": 18,
   "id": "2412685b",
   "metadata": {},
   "outputs": [
    {
     "data": {
      "text/html": [
       "<div>\n",
       "<style scoped>\n",
       "    .dataframe tbody tr th:only-of-type {\n",
       "        vertical-align: middle;\n",
       "    }\n",
       "\n",
       "    .dataframe tbody tr th {\n",
       "        vertical-align: top;\n",
       "    }\n",
       "\n",
       "    .dataframe thead th {\n",
       "        text-align: right;\n",
       "    }\n",
       "</style>\n",
       "<table border=\"1\" class=\"dataframe\">\n",
       "  <thead>\n",
       "    <tr style=\"text-align: right;\">\n",
       "      <th></th>\n",
       "      <th>co</th>\n",
       "      <th>no</th>\n",
       "      <th>no2</th>\n",
       "      <th>o3</th>\n",
       "      <th>so2</th>\n",
       "      <th>pm2_5</th>\n",
       "      <th>pm10</th>\n",
       "      <th>nh3</th>\n",
       "    </tr>\n",
       "  </thead>\n",
       "  <tbody>\n",
       "    <tr>\n",
       "      <th>missing_ratio</th>\n",
       "      <td>0.0</td>\n",
       "      <td>0.0</td>\n",
       "      <td>0.0</td>\n",
       "      <td>0.0</td>\n",
       "      <td>0.0</td>\n",
       "      <td>0.0</td>\n",
       "      <td>0.0</td>\n",
       "      <td>0.0</td>\n",
       "    </tr>\n",
       "    <tr>\n",
       "      <th>min</th>\n",
       "      <td>317.1</td>\n",
       "      <td>0.0</td>\n",
       "      <td>6.3</td>\n",
       "      <td>0.0</td>\n",
       "      <td>5.8</td>\n",
       "      <td>3.4</td>\n",
       "      <td>4.7</td>\n",
       "      <td>1.5</td>\n",
       "    </tr>\n",
       "    <tr>\n",
       "      <th>lower_quartile</th>\n",
       "      <td>701.0</td>\n",
       "      <td>1.8</td>\n",
       "      <td>24.3</td>\n",
       "      <td>0.0</td>\n",
       "      <td>27.2</td>\n",
       "      <td>23.3</td>\n",
       "      <td>31.0</td>\n",
       "      <td>6.0</td>\n",
       "    </tr>\n",
       "    <tr>\n",
       "      <th>median</th>\n",
       "      <td>1041.4</td>\n",
       "      <td>9.8</td>\n",
       "      <td>33.2</td>\n",
       "      <td>3.9</td>\n",
       "      <td>38.6</td>\n",
       "      <td>42.2</td>\n",
       "      <td>53.3</td>\n",
       "      <td>8.5</td>\n",
       "    </tr>\n",
       "    <tr>\n",
       "      <th>upper_quartile</th>\n",
       "      <td>1762.4</td>\n",
       "      <td>32.6</td>\n",
       "      <td>45.9</td>\n",
       "      <td>31.1</td>\n",
       "      <td>57.7</td>\n",
       "      <td>80.8</td>\n",
       "      <td>98.6</td>\n",
       "      <td>12.4</td>\n",
       "    </tr>\n",
       "    <tr>\n",
       "      <th>max</th>\n",
       "      <td>18585.2</td>\n",
       "      <td>393.4</td>\n",
       "      <td>213.9</td>\n",
       "      <td>446.3</td>\n",
       "      <td>270.8</td>\n",
       "      <td>936.1</td>\n",
       "      <td>1034.3</td>\n",
       "      <td>186.4</td>\n",
       "    </tr>\n",
       "  </tbody>\n",
       "</table>\n",
       "</div>"
      ],
      "text/plain": [
       "                     co     no    no2     o3    so2  pm2_5    pm10    nh3\n",
       "missing_ratio       0.0    0.0    0.0    0.0    0.0    0.0     0.0    0.0\n",
       "min               317.1    0.0    6.3    0.0    5.8    3.4     4.7    1.5\n",
       "lower_quartile    701.0    1.8   24.3    0.0   27.2   23.3    31.0    6.0\n",
       "median           1041.4    9.8   33.2    3.9   38.6   42.2    53.3    8.5\n",
       "upper_quartile   1762.4   32.6   45.9   31.1   57.7   80.8    98.6   12.4\n",
       "max             18585.2  393.4  213.9  446.3  270.8  936.1  1034.3  186.4"
      ]
     },
     "execution_count": 18,
     "metadata": {},
     "output_type": "execute_result"
    }
   ],
   "source": [
    "num_col_info_df = None\n",
    "num_col_info_df = cleaned_df.select_dtypes(['float64'])\n",
    "\n",
    "# Phần trăm missing value\n",
    "def missing_ratio(col):\n",
    "    return col.isna().mean()*100\n",
    "\n",
    "# Tứ phân vị dưới (25%)\n",
    "def lower_quartile(col):\n",
    "    return col.quantile(0.25)\n",
    "\n",
    "# Trung vị (50%)\n",
    "def median(col):\n",
    "    return col.median()\n",
    "\n",
    "# Tứ phân vị trên (75%)\n",
    "def upper_quartile(col):\n",
    "    return col.quantile(0.75)\n",
    "\n",
    "\n",
    "num_col_info_df = num_col_info_df.agg([missing_ratio, \"min\",lower_quartile, median, upper_quartile, \"max\"])\n",
    "num_col_info_df.round(1)\n",
    "# "
   ]
  },
  {
   "cell_type": "markdown",
   "id": "2938cdd8",
   "metadata": {},
   "source": [
    "#### Biểu đồ distribution"
   ]
  },
  {
   "cell_type": "code",
   "execution_count": 19,
   "id": "70c9d914",
   "metadata": {},
   "outputs": [
    {
     "data": {
      "image/png": "[encoded data removed]",
      "text/plain": [
       "<Figure size 800x600 with 1 Axes>"
      ]
     },
     "metadata": {},
     "output_type": "display_data"
    }
   ],
   "source": [
    "# Biểu đồ phân tán cho tỷ lệ giá trị\n",
    "missing_ratio_row = num_col_info_df.loc['missing_ratio']\n",
    "\n",
    "# Vẽ biểu đồ cột\n",
    "plt.figure(figsize=(8, 6))\n",
    "missing_ratio_row.plot(kind='bar', color='skyblue')\n",
    "plt.title('Tỷ lệ thiếu dữ liệu')\n",
    "plt.xlabel('Cột')\n",
    "plt.ylabel('Tỷ lệ thiếu (%)')\n",
    "plt.xticks(rotation=45)\n",
    "plt.grid(axis='y')\n",
    "plt.tight_layout()\n",
    "\n",
    "# Hiển thị biểu đồ\n",
    "plt.show()"
   ]
  },
  {
   "cell_type": "code",
   "execution_count": 20,
   "id": "80368161",
   "metadata": {},
   "outputs": [
    {
     "data": {
      "image/png": "[encoded data removed]",
      "text/plain": [
       "<Figure size 800x600 with 1 Axes>"
      ]
     },
     "metadata": {},
     "output_type": "display_data"
    }
   ],
   "source": [
    "min_row = num_col_info_df.loc['min']\n",
    "\n",
    "# Vẽ biểu đồ cột\n",
    "plt.figure(figsize=(8, 6))\n",
    "min_row.plot(kind='bar', color='skyblue')\n",
    "plt.title('Giá trị min')\n",
    "plt.xlabel('Thành phần')\n",
    "plt.ylabel('Giá trị')\n",
    "plt.xticks(rotation=45)\n",
    "plt.grid(axis='y')\n",
    "plt.tight_layout()\n",
    "\n",
    "# Hiển thị biểu đồ\n",
    "plt.show()"
   ]
  },
  {
   "cell_type": "code",
   "execution_count": 21,
   "id": "aa6a9dc5",
   "metadata": {},
   "outputs": [
    {
     "data": {
      "image/png": "[encoded data removed]",
      "text/plain": [
       "<Figure size 800x600 with 1 Axes>"
      ]
     },
     "metadata": {},
     "output_type": "display_data"
    }
   ],
   "source": [
    "lower_quartile_row = num_col_info_df.loc['lower_quartile']\n",
    "\n",
    "# Vẽ biểu đồ cột\n",
    "plt.figure(figsize=(8, 6))\n",
    "lower_quartile_row.plot(kind='bar', color='skyblue')\n",
    "plt.title('Giá trị phân vị 25')\n",
    "plt.xlabel('Thành phần')\n",
    "plt.ylabel('Giá trị')\n",
    "plt.xticks(rotation=45)\n",
    "plt.grid(axis='y')\n",
    "plt.tight_layout()\n",
    "\n",
    "# Hiển thị biểu đồ\n",
    "plt.show()"
   ]
  },
  {
   "cell_type": "code",
   "execution_count": 22,
   "id": "6931bc01",
   "metadata": {},
   "outputs": [
    {
     "data": {
      "image/png": "[encoded data removed]",
      "text/plain": [
       "<Figure size 800x600 with 1 Axes>"
      ]
     },
     "metadata": {},
     "output_type": "display_data"
    }
   ],
   "source": [
    "median_row = num_col_info_df.loc['median']\n",
    "\n",
    "# Vẽ biểu đồ cột\n",
    "plt.figure(figsize=(8, 6))\n",
    "median_row.plot(kind='bar', color='skyblue')\n",
    "plt.title('Giá trị median')\n",
    "plt.xlabel('Thành phần')\n",
    "plt.ylabel('Giá trị')\n",
    "plt.xticks(rotation=45)\n",
    "plt.grid(axis='y')\n",
    "plt.tight_layout()\n",
    "\n",
    "# Hiển thị biểu đồ\n",
    "plt.show()"
   ]
  },
  {
   "cell_type": "code",
   "execution_count": 23,
   "id": "d66eaca3",
   "metadata": {},
   "outputs": [
    {
     "data": {
      "image/png": "[encoded data removed]",
      "text/plain": [
       "<Figure size 800x600 with 1 Axes>"
      ]
     },
     "metadata": {},
     "output_type": "display_data"
    }
   ],
   "source": [
    "upper_quartile_row = num_col_info_df.loc['upper_quartile']\n",
    "\n",
    "# Vẽ biểu đồ cột\n",
    "plt.figure(figsize=(8, 6))\n",
    "upper_quartile_row.plot(kind='bar', color='skyblue')\n",
    "plt.title('Giá trị phân vị 75')\n",
    "plt.xlabel('Thành phần')\n",
    "plt.ylabel('Giá trị')\n",
    "plt.xticks(rotation=45)\n",
    "plt.grid(axis='y')\n",
    "plt.tight_layout()\n",
    "\n",
    "# Hiển thị biểu đồ\n",
    "plt.show()"
   ]
  },
  {
   "cell_type": "code",
   "execution_count": 24,
   "id": "5022ca44",
   "metadata": {},
   "outputs": [
    {
     "data": {
      "image/png": "[encoded data removed]",
      "text/plain": [
       "<Figure size 800x600 with 1 Axes>"
      ]
     },
     "metadata": {},
     "output_type": "display_data"
    }
   ],
   "source": [
    "max_row = num_col_info_df.loc['max']\n",
    "\n",
    "# Vẽ biểu đồ cột\n",
    "plt.figure(figsize=(8, 6))\n",
    "lower_quartile_row.plot(kind='bar', color='skyblue')\n",
    "plt.title('Giá trị max')\n",
    "plt.xlabel('Thành phần')\n",
    "plt.ylabel('Giá trị')\n",
    "plt.xticks(rotation=45)\n",
    "plt.grid(axis='y')\n",
    "plt.tight_layout()\n",
    "\n",
    "# Hiển thị biểu đồ\n",
    "plt.show()"
   ]
  },
  {
   "cell_type": "markdown",
   "id": "6fa7d4e0",
   "metadata": {},
   "source": [
    "### Số liệu thống kê và quan hệ giữa các thuộc tính trong dữ liệu"
   ]
  },
  {
   "cell_type": "markdown",
   "id": "f3b92ad5",
   "metadata": {},
   "source": [
    "Trước tiên chúng em có những cái nhìn đầu tiên về số liệu thông qua **Bảng thống kê mô tả** sau."
   ]
  },
  {
   "cell_type": "code",
   "execution_count": 25,
   "id": "578a0c5e",
   "metadata": {},
   "outputs": [
    {
     "data": {
      "text/html": [
       "<div>\n",
       "<style scoped>\n",
       "    .dataframe tbody tr th:only-of-type {\n",
       "        vertical-align: middle;\n",
       "    }\n",
       "\n",
       "    .dataframe tbody tr th {\n",
       "        vertical-align: top;\n",
       "    }\n",
       "\n",
       "    .dataframe thead th {\n",
       "        text-align: right;\n",
       "    }\n",
       "</style>\n",
       "<table border=\"1\" class=\"dataframe\">\n",
       "  <thead>\n",
       "    <tr style=\"text-align: right;\">\n",
       "      <th></th>\n",
       "      <th>co</th>\n",
       "      <th>no</th>\n",
       "      <th>no2</th>\n",
       "      <th>o3</th>\n",
       "      <th>so2</th>\n",
       "      <th>pm2_5</th>\n",
       "      <th>pm10</th>\n",
       "      <th>nh3</th>\n",
       "    </tr>\n",
       "  </thead>\n",
       "  <tbody>\n",
       "    <tr>\n",
       "      <th>count</th>\n",
       "      <td>25176.000000</td>\n",
       "      <td>25176.000000</td>\n",
       "      <td>25176.000000</td>\n",
       "      <td>25176.000000</td>\n",
       "      <td>25176.000000</td>\n",
       "      <td>25176.000000</td>\n",
       "      <td>25176.000000</td>\n",
       "      <td>25176.000000</td>\n",
       "    </tr>\n",
       "    <tr>\n",
       "      <th>mean</th>\n",
       "      <td>1564.624598</td>\n",
       "      <td>25.563557</td>\n",
       "      <td>38.507225</td>\n",
       "      <td>24.752132</td>\n",
       "      <td>46.831247</td>\n",
       "      <td>69.768048</td>\n",
       "      <td>84.222009</td>\n",
       "      <td>10.902587</td>\n",
       "    </tr>\n",
       "    <tr>\n",
       "      <th>std</th>\n",
       "      <td>1541.296007</td>\n",
       "      <td>39.523765</td>\n",
       "      <td>21.190291</td>\n",
       "      <td>43.129492</td>\n",
       "      <td>29.082228</td>\n",
       "      <td>82.862849</td>\n",
       "      <td>93.248424</td>\n",
       "      <td>9.658485</td>\n",
       "    </tr>\n",
       "    <tr>\n",
       "      <th>min</th>\n",
       "      <td>317.100000</td>\n",
       "      <td>0.000000</td>\n",
       "      <td>6.340000</td>\n",
       "      <td>0.000000</td>\n",
       "      <td>5.840000</td>\n",
       "      <td>3.450000</td>\n",
       "      <td>4.670000</td>\n",
       "      <td>1.520000</td>\n",
       "    </tr>\n",
       "    <tr>\n",
       "      <th>25%</th>\n",
       "      <td>700.950000</td>\n",
       "      <td>1.750000</td>\n",
       "      <td>24.330000</td>\n",
       "      <td>0.020000</td>\n",
       "      <td>27.180000</td>\n",
       "      <td>23.290000</td>\n",
       "      <td>30.950000</td>\n",
       "      <td>6.020000</td>\n",
       "    </tr>\n",
       "    <tr>\n",
       "      <th>50%</th>\n",
       "      <td>1041.410000</td>\n",
       "      <td>9.830000</td>\n",
       "      <td>33.240000</td>\n",
       "      <td>3.890000</td>\n",
       "      <td>38.620000</td>\n",
       "      <td>42.235000</td>\n",
       "      <td>53.345000</td>\n",
       "      <td>8.490000</td>\n",
       "    </tr>\n",
       "    <tr>\n",
       "      <th>75%</th>\n",
       "      <td>1762.390000</td>\n",
       "      <td>32.630000</td>\n",
       "      <td>45.930000</td>\n",
       "      <td>31.110000</td>\n",
       "      <td>57.700000</td>\n",
       "      <td>80.842500</td>\n",
       "      <td>98.580000</td>\n",
       "      <td>12.410000</td>\n",
       "    </tr>\n",
       "    <tr>\n",
       "      <th>max</th>\n",
       "      <td>18585.210000</td>\n",
       "      <td>393.390000</td>\n",
       "      <td>213.860000</td>\n",
       "      <td>446.320000</td>\n",
       "      <td>270.840000</td>\n",
       "      <td>936.130000</td>\n",
       "      <td>1034.270000</td>\n",
       "      <td>186.440000</td>\n",
       "    </tr>\n",
       "  </tbody>\n",
       "</table>\n",
       "</div>"
      ],
      "text/plain": [
       "                 co            no           no2            o3           so2  \\\n",
       "count  25176.000000  25176.000000  25176.000000  25176.000000  25176.000000   \n",
       "mean    1564.624598     25.563557     38.507225     24.752132     46.831247   \n",
       "std     1541.296007     39.523765     21.190291     43.129492     29.082228   \n",
       "min      317.100000      0.000000      6.340000      0.000000      5.840000   \n",
       "25%      700.950000      1.750000     24.330000      0.020000     27.180000   \n",
       "50%     1041.410000      9.830000     33.240000      3.890000     38.620000   \n",
       "75%     1762.390000     32.630000     45.930000     31.110000     57.700000   \n",
       "max    18585.210000    393.390000    213.860000    446.320000    270.840000   \n",
       "\n",
       "              pm2_5          pm10           nh3  \n",
       "count  25176.000000  25176.000000  25176.000000  \n",
       "mean      69.768048     84.222009     10.902587  \n",
       "std       82.862849     93.248424      9.658485  \n",
       "min        3.450000      4.670000      1.520000  \n",
       "25%       23.290000     30.950000      6.020000  \n",
       "50%       42.235000     53.345000      8.490000  \n",
       "75%       80.842500     98.580000     12.410000  \n",
       "max      936.130000   1034.270000    186.440000  "
      ]
     },
     "execution_count": 25,
     "metadata": {},
     "output_type": "execute_result"
    }
   ],
   "source": [
    "# Lấy các cột có kiểu dữ liệu số\n",
    "df_copy = cleaned_df.drop(['dt', 'aqi'], axis='columns')\n",
    "\n",
    "# Bảng thống kê mô tả\n",
    "summary = df_copy.describe(include='all')\n",
    "summary"
   ]
  },
  {
   "cell_type": "markdown",
   "id": "8195d129",
   "metadata": {},
   "source": [
    "Bảng trên cho ta những thống kê về số lượng (`count`), trung bình (`mean`), độ lệch chuẩn (`std`) và phân bố của dữ liệu theo tứ phân vị (`min, 25%, 50%, 75%, max`). "
   ]
  },
  {
   "cell_type": "markdown",
   "id": "5196a5cc",
   "metadata": {},
   "source": [
    "Để có thêm những cái nhìn về dữ liệu, chúng em xem xét thêm **mối quan hệ giữa các cột** dựa vào biểu đồ heatmap."
   ]
  },
  {
   "cell_type": "code",
   "execution_count": 26,
   "id": "a4afb39a",
   "metadata": {},
   "outputs": [
    {
     "data": {
      "image/png": "[encoded data removed]",
      "text/plain": [
       "<Figure size 2000x1600 with 2 Axes>"
      ]
     },
     "metadata": {},
     "output_type": "display_data"
    }
   ],
   "source": [
    "# Visualize correlation\n",
    "plt.figure(figsize = (20,16))\n",
    "sns.heatmap(df_copy.corr(), cmap = \"YlGnBu\")\n",
    "plt.show()"
   ]
  },
  {
   "cell_type": "markdown",
   "id": "d479e2b9",
   "metadata": {},
   "source": [
    "Dựa vào heat map về mối quan hệ giữa các cột như trên, ta có thể thấy hầu hết các cột đều đều có mối quan hệ dương, trừ `o3` với các cột còn lại. Điều này cho thấy các cột có thể có quan hệ đồng biến với nhau."
   ]
  },
  {
   "cell_type": "markdown",
   "id": "8a92066e",
   "metadata": {},
   "source": [
    "### Đặt câu hỏi để khai thác dữ liệu"
   ]
  },
  {
   "cell_type": "markdown",
   "id": "02d92e78",
   "metadata": {},
   "source": [
    "Sau khi đã khám phá dữ liệu và có cái nhìn tổng quan về dữ liệu, chúng em tiến hành khai thác dữ liệu thông qua những câu hỏi sau:"
   ]
  },
  {
   "cell_type": "markdown",
   "id": "d3f723a9",
   "metadata": {},
   "source": [
    "#### 1. Tình hình biến đổi của chỉ số bụi (PM2.5, PM10) trong khu vực nghiên cứu trong thời điểm gần nhất (tháng 11/2023) là như thế nào?\n",
    "- **Trả lời câu hỏi này** sẽ giúp hiểu rõ hơn về mức độ ô nhiễm không khí vì bụi trong thời kỳ gần đây và có thể đánh giá tình hình ô nhiễm ở giai đoạn cụ thể này.\n",
    "- **Để trả lời câu hỏi này**, chúng ta sẽ xét trung bình của hai chỉ số PM2.5 và PM10 trong khoảng thời gian tháng 11/2023 theo từng ngày."
   ]
  },
  {
   "cell_type": "code",
   "execution_count": 27,
   "id": "bb0a6d6d",
   "metadata": {},
   "outputs": [],
   "source": [
    "# Tạo bản sao của data\n",
    "temp_df = cleaned_df[['dt', 'pm2_5', 'pm10']]\n",
    "\n",
    "# Đặt cột 'dt' làm index\n",
    "temp_df.set_index('dt', inplace=True)\n",
    "\n",
    "# Group dữ liệu theo ngày \n",
    "daily_data = temp_df.resample('D').mean()  # Lấy giá trị trung bình hàng ngày\n",
    "\n",
    "# Reset index để có DataFrame với cột 'dt' trở thành một cột thông thường\n",
    "daily_data.reset_index(inplace=True)"
   ]
  },
  {
   "cell_type": "code",
   "execution_count": 28,
   "id": "2e763876",
   "metadata": {},
   "outputs": [
    {
     "data": {
      "text/html": [
       "<div>\n",
       "<style scoped>\n",
       "    .dataframe tbody tr th:only-of-type {\n",
       "        vertical-align: middle;\n",
       "    }\n",
       "\n",
       "    .dataframe tbody tr th {\n",
       "        vertical-align: top;\n",
       "    }\n",
       "\n",
       "    .dataframe thead th {\n",
       "        text-align: right;\n",
       "    }\n",
       "</style>\n",
       "<table border=\"1\" class=\"dataframe\">\n",
       "  <thead>\n",
       "    <tr style=\"text-align: right;\">\n",
       "      <th></th>\n",
       "      <th>dt</th>\n",
       "      <th>pm2_5</th>\n",
       "      <th>pm10</th>\n",
       "    </tr>\n",
       "  </thead>\n",
       "  <tbody>\n",
       "    <tr>\n",
       "      <th>1034</th>\n",
       "      <td>2023-11-01</td>\n",
       "      <td>140.233750</td>\n",
       "      <td>160.085000</td>\n",
       "    </tr>\n",
       "    <tr>\n",
       "      <th>1035</th>\n",
       "      <td>2023-11-02</td>\n",
       "      <td>96.292500</td>\n",
       "      <td>112.643333</td>\n",
       "    </tr>\n",
       "    <tr>\n",
       "      <th>1036</th>\n",
       "      <td>2023-11-03</td>\n",
       "      <td>152.972917</td>\n",
       "      <td>174.512083</td>\n",
       "    </tr>\n",
       "    <tr>\n",
       "      <th>1037</th>\n",
       "      <td>2023-11-04</td>\n",
       "      <td>87.808750</td>\n",
       "      <td>105.729583</td>\n",
       "    </tr>\n",
       "    <tr>\n",
       "      <th>1038</th>\n",
       "      <td>2023-11-05</td>\n",
       "      <td>131.744583</td>\n",
       "      <td>156.283333</td>\n",
       "    </tr>\n",
       "    <tr>\n",
       "      <th>1039</th>\n",
       "      <td>2023-11-06</td>\n",
       "      <td>63.880833</td>\n",
       "      <td>81.139167</td>\n",
       "    </tr>\n",
       "    <tr>\n",
       "      <th>1040</th>\n",
       "      <td>2023-11-07</td>\n",
       "      <td>95.296250</td>\n",
       "      <td>118.343333</td>\n",
       "    </tr>\n",
       "    <tr>\n",
       "      <th>1041</th>\n",
       "      <td>2023-11-08</td>\n",
       "      <td>115.453333</td>\n",
       "      <td>136.435833</td>\n",
       "    </tr>\n",
       "    <tr>\n",
       "      <th>1042</th>\n",
       "      <td>2023-11-09</td>\n",
       "      <td>92.357083</td>\n",
       "      <td>111.108333</td>\n",
       "    </tr>\n",
       "    <tr>\n",
       "      <th>1043</th>\n",
       "      <td>2023-11-10</td>\n",
       "      <td>82.953333</td>\n",
       "      <td>98.789167</td>\n",
       "    </tr>\n",
       "    <tr>\n",
       "      <th>1044</th>\n",
       "      <td>2023-11-11</td>\n",
       "      <td>40.626250</td>\n",
       "      <td>54.103750</td>\n",
       "    </tr>\n",
       "    <tr>\n",
       "      <th>1045</th>\n",
       "      <td>2023-11-12</td>\n",
       "      <td>81.892500</td>\n",
       "      <td>98.246667</td>\n",
       "    </tr>\n",
       "    <tr>\n",
       "      <th>1046</th>\n",
       "      <td>2023-11-13</td>\n",
       "      <td>104.160000</td>\n",
       "      <td>125.382917</td>\n",
       "    </tr>\n",
       "    <tr>\n",
       "      <th>1047</th>\n",
       "      <td>2023-11-14</td>\n",
       "      <td>105.875000</td>\n",
       "      <td>127.249583</td>\n",
       "    </tr>\n",
       "    <tr>\n",
       "      <th>1048</th>\n",
       "      <td>2023-11-15</td>\n",
       "      <td>62.365000</td>\n",
       "      <td>77.206667</td>\n",
       "    </tr>\n",
       "    <tr>\n",
       "      <th>1049</th>\n",
       "      <td>2023-11-16</td>\n",
       "      <td>166.306250</td>\n",
       "      <td>193.927917</td>\n",
       "    </tr>\n",
       "    <tr>\n",
       "      <th>1050</th>\n",
       "      <td>2023-11-17</td>\n",
       "      <td>90.665000</td>\n",
       "      <td>107.703333</td>\n",
       "    </tr>\n",
       "    <tr>\n",
       "      <th>1051</th>\n",
       "      <td>2023-11-18</td>\n",
       "      <td>30.561667</td>\n",
       "      <td>41.055417</td>\n",
       "    </tr>\n",
       "    <tr>\n",
       "      <th>1052</th>\n",
       "      <td>2023-11-19</td>\n",
       "      <td>87.091250</td>\n",
       "      <td>111.855833</td>\n",
       "    </tr>\n",
       "    <tr>\n",
       "      <th>1053</th>\n",
       "      <td>2023-11-20</td>\n",
       "      <td>118.091667</td>\n",
       "      <td>150.187500</td>\n",
       "    </tr>\n",
       "    <tr>\n",
       "      <th>1054</th>\n",
       "      <td>2023-11-21</td>\n",
       "      <td>118.576250</td>\n",
       "      <td>143.933333</td>\n",
       "    </tr>\n",
       "    <tr>\n",
       "      <th>1055</th>\n",
       "      <td>2023-11-22</td>\n",
       "      <td>159.734583</td>\n",
       "      <td>196.363750</td>\n",
       "    </tr>\n",
       "    <tr>\n",
       "      <th>1056</th>\n",
       "      <td>2023-11-23</td>\n",
       "      <td>244.757500</td>\n",
       "      <td>280.703750</td>\n",
       "    </tr>\n",
       "    <tr>\n",
       "      <th>1057</th>\n",
       "      <td>2023-11-24</td>\n",
       "      <td>62.470833</td>\n",
       "      <td>76.910833</td>\n",
       "    </tr>\n",
       "    <tr>\n",
       "      <th>1058</th>\n",
       "      <td>2023-11-25</td>\n",
       "      <td>67.702083</td>\n",
       "      <td>80.714167</td>\n",
       "    </tr>\n",
       "    <tr>\n",
       "      <th>1059</th>\n",
       "      <td>2023-11-26</td>\n",
       "      <td>87.150417</td>\n",
       "      <td>105.714583</td>\n",
       "    </tr>\n",
       "    <tr>\n",
       "      <th>1060</th>\n",
       "      <td>2023-11-27</td>\n",
       "      <td>66.983333</td>\n",
       "      <td>86.445417</td>\n",
       "    </tr>\n",
       "    <tr>\n",
       "      <th>1061</th>\n",
       "      <td>2023-11-28</td>\n",
       "      <td>118.018750</td>\n",
       "      <td>149.300833</td>\n",
       "    </tr>\n",
       "    <tr>\n",
       "      <th>1062</th>\n",
       "      <td>2023-11-29</td>\n",
       "      <td>125.747500</td>\n",
       "      <td>154.193333</td>\n",
       "    </tr>\n",
       "    <tr>\n",
       "      <th>1063</th>\n",
       "      <td>2023-11-30</td>\n",
       "      <td>128.234583</td>\n",
       "      <td>155.753333</td>\n",
       "    </tr>\n",
       "  </tbody>\n",
       "</table>\n",
       "</div>"
      ],
      "text/plain": [
       "             dt       pm2_5        pm10\n",
       "1034 2023-11-01  140.233750  160.085000\n",
       "1035 2023-11-02   96.292500  112.643333\n",
       "1036 2023-11-03  152.972917  174.512083\n",
       "1037 2023-11-04   87.808750  105.729583\n",
       "1038 2023-11-05  131.744583  156.283333\n",
       "1039 2023-11-06   63.880833   81.139167\n",
       "1040 2023-11-07   95.296250  118.343333\n",
       "1041 2023-11-08  115.453333  136.435833\n",
       "1042 2023-11-09   92.357083  111.108333\n",
       "1043 2023-11-10   82.953333   98.789167\n",
       "1044 2023-11-11   40.626250   54.103750\n",
       "1045 2023-11-12   81.892500   98.246667\n",
       "1046 2023-11-13  104.160000  125.382917\n",
       "1047 2023-11-14  105.875000  127.249583\n",
       "1048 2023-11-15   62.365000   77.206667\n",
       "1049 2023-11-16  166.306250  193.927917\n",
       "1050 2023-11-17   90.665000  107.703333\n",
       "1051 2023-11-18   30.561667   41.055417\n",
       "1052 2023-11-19   87.091250  111.855833\n",
       "1053 2023-11-20  118.091667  150.187500\n",
       "1054 2023-11-21  118.576250  143.933333\n",
       "1055 2023-11-22  159.734583  196.363750\n",
       "1056 2023-11-23  244.757500  280.703750\n",
       "1057 2023-11-24   62.470833   76.910833\n",
       "1058 2023-11-25   67.702083   80.714167\n",
       "1059 2023-11-26   87.150417  105.714583\n",
       "1060 2023-11-27   66.983333   86.445417\n",
       "1061 2023-11-28  118.018750  149.300833\n",
       "1062 2023-11-29  125.747500  154.193333\n",
       "1063 2023-11-30  128.234583  155.753333"
      ]
     },
     "execution_count": 28,
     "metadata": {},
     "output_type": "execute_result"
    }
   ],
   "source": [
    "# Lấy dữ liệu trong tháng 11/2023\n",
    "november_2023_data = daily_data[(daily_data['dt'].dt.year == 2023) & (daily_data['dt'].dt.month == 11)]\n",
    "\n",
    "# Lấy 2 chỉ số hạt bụi\n",
    "november_2023_data[['dt', 'pm2_5', 'pm10']]"
   ]
  },
  {
   "cell_type": "code",
   "execution_count": 29,
   "id": "ee5dcb0b",
   "metadata": {},
   "outputs": [
    {
     "data": {
      "text/html": [
       "<div>\n",
       "<style scoped>\n",
       "    .dataframe tbody tr th:only-of-type {\n",
       "        vertical-align: middle;\n",
       "    }\n",
       "\n",
       "    .dataframe tbody tr th {\n",
       "        vertical-align: top;\n",
       "    }\n",
       "\n",
       "    .dataframe thead th {\n",
       "        text-align: right;\n",
       "    }\n",
       "</style>\n",
       "<table border=\"1\" class=\"dataframe\">\n",
       "  <thead>\n",
       "    <tr style=\"text-align: right;\">\n",
       "      <th></th>\n",
       "      <th>dt</th>\n",
       "      <th>pm2_5</th>\n",
       "      <th>pm10</th>\n",
       "    </tr>\n",
       "  </thead>\n",
       "  <tbody>\n",
       "    <tr>\n",
       "      <th>count</th>\n",
       "      <td>30</td>\n",
       "      <td>30.000000</td>\n",
       "      <td>30.000000</td>\n",
       "    </tr>\n",
       "    <tr>\n",
       "      <th>mean</th>\n",
       "      <td>2023-11-15 12:00:00</td>\n",
       "      <td>104.200125</td>\n",
       "      <td>125.734069</td>\n",
       "    </tr>\n",
       "    <tr>\n",
       "      <th>min</th>\n",
       "      <td>2023-11-01 00:00:00</td>\n",
       "      <td>30.561667</td>\n",
       "      <td>41.055417</td>\n",
       "    </tr>\n",
       "    <tr>\n",
       "      <th>25%</th>\n",
       "      <td>2023-11-08 06:00:00</td>\n",
       "      <td>82.157708</td>\n",
       "      <td>98.382292</td>\n",
       "    </tr>\n",
       "    <tr>\n",
       "      <th>50%</th>\n",
       "      <td>2023-11-15 12:00:00</td>\n",
       "      <td>95.794375</td>\n",
       "      <td>115.493333</td>\n",
       "    </tr>\n",
       "    <tr>\n",
       "      <th>75%</th>\n",
       "      <td>2023-11-22 18:00:00</td>\n",
       "      <td>123.954688</td>\n",
       "      <td>153.191875</td>\n",
       "    </tr>\n",
       "    <tr>\n",
       "      <th>max</th>\n",
       "      <td>2023-11-30 00:00:00</td>\n",
       "      <td>244.757500</td>\n",
       "      <td>280.703750</td>\n",
       "    </tr>\n",
       "    <tr>\n",
       "      <th>std</th>\n",
       "      <td>NaN</td>\n",
       "      <td>42.532152</td>\n",
       "      <td>48.173162</td>\n",
       "    </tr>\n",
       "  </tbody>\n",
       "</table>\n",
       "</div>"
      ],
      "text/plain": [
       "                        dt       pm2_5        pm10\n",
       "count                   30   30.000000   30.000000\n",
       "mean   2023-11-15 12:00:00  104.200125  125.734069\n",
       "min    2023-11-01 00:00:00   30.561667   41.055417\n",
       "25%    2023-11-08 06:00:00   82.157708   98.382292\n",
       "50%    2023-11-15 12:00:00   95.794375  115.493333\n",
       "75%    2023-11-22 18:00:00  123.954688  153.191875\n",
       "max    2023-11-30 00:00:00  244.757500  280.703750\n",
       "std                    NaN   42.532152   48.173162"
      ]
     },
     "execution_count": 29,
     "metadata": {},
     "output_type": "execute_result"
    }
   ],
   "source": [
    "# Phân bố của 2 giá trị\n",
    "november_2023_data[['dt', 'pm2_5', 'pm10']].describe()"
   ]
  },
  {
   "cell_type": "code",
   "execution_count": 30,
   "id": "35dee552",
   "metadata": {},
   "outputs": [
    {
     "data": {
      "image/png": "[encoded data removed]",
      "text/plain": [
       "<Figure size 1000x600 with 1 Axes>"
      ]
     },
     "metadata": {},
     "output_type": "display_data"
    }
   ],
   "source": [
    "# Visualize data\n",
    "import matplotlib.dates as mdates\n",
    "\n",
    "# Vẽ biểu đồ đường cho pm2_5 và pm10 trong tháng 11/2023\n",
    "plt.figure(figsize=(10, 6))\n",
    "\n",
    "# Vẽ biểu đồ cho pm2_5\n",
    "plt.plot(november_2023_data['dt'], november_2023_data['pm2_5'], label='PM2.5', marker='o')\n",
    "\n",
    "# Vẽ biểu đồ cho pm10\n",
    "plt.plot(november_2023_data['dt'], november_2023_data['pm10'], label='PM10', marker='o')\n",
    "\n",
    "# Đặt các thông tin trên biểu đồ\n",
    "plt.title('Biểu đồ chỉ số PM2.5 và PM10 trong tháng 11/2023')\n",
    "plt.xlabel('Ngày')\n",
    "plt.ylabel('Giá trị chỉ số')\n",
    "plt.legend()\n",
    "plt.xticks(rotation=45)  # Xoay nhãn trục x để dễ đọc hơn\n",
    "\n",
    "# Thêm tick phụ cho trục x (tick phụ hàng ngày)\n",
    "ax = plt.gca()\n",
    "ax.xaxis.set_minor_locator(mdates.DayLocator(interval=1))  # Tick phụ hàng ngày\n",
    "\n",
    "# Hiển thị grid cho tick phụ\n",
    "ax.xaxis.grid(True, which='minor', linestyle='--')\n",
    "\n",
    "# Hiển thị biểu đồ\n",
    "plt.tight_layout()\n",
    "plt.show()"
   ]
  },
  {
   "cell_type": "markdown",
   "id": "497b7ea0",
   "metadata": {},
   "source": [
    "##### Nhận xét:\n",
    "- Biểu đồ trên thể hiện sự thay đổi của 2 chỉ số PM2.5 và PM10 trong tháng 11/2023. Có thể thấy sự thay đổi của 2 chỉ số này gần như là tương đương nhau tuy nhiên chỉ số PM10 luôn lớn hơn. Kết quả thấp nhất ghi nhân được là vào ngày `18/11/2023` với các chỉ số PM2.5 và PM10 lần lượt là `30,56` và `41,06` trong khi kết quả cao nhất ghi nhận được là vào ngày `23/11/2023` với các chỉ số PM2.5 và PM10 lần lượt là `244,75` và `280,7`.\n",
    "- Cả 2 chỉ số đều thường xuyên giao động ở mức cao (trung bình của PM2.5 là 104,2 và của PM10 là 125,7) cho thấy bụi trong không khí rất nhiều, điều này cho thấy không khí đang bị nhiễm bụi khá nặng. Nguyên nhân có thể đến từ mật độ giao thông lớn của thành phố và các hoạt động công nghiệp."
   ]
  },
  {
   "cell_type": "markdown",
   "id": "1053e5ad",
   "metadata": {},
   "source": [
    "#### 2. Liệu có sự thay đổi trong mức độ ô nhiễm trong các mùa khác nhau (mùa nắng, mùa mưa)?\n",
    "- **Trả lời câu hỏi này** sẽ giúp phân tích sự thay đổi của ô nhiễm không khí qua các mùa khác nhau có thể giúp bạn đánh giá tác động của điều kiện thời tiết đối với chất lượng không khí. Bên cạnh đó còn có thể nắm bắt được xu hướng tăng/giảm của ô nhiễm không khí giữa các mùa có thể giúp xác định các nguyên nhân có thể gây ra sự thay đổi này, ví dụ như hoạt động công nghiệp, giao thông, hay thậm chí là điều kiện thời tiết đặc biệt. Từ đó đưa ra các biện pháp phù hợp theo từng mùa\n",
    "- **Để trả lời câu hỏi này**, chúng ta sẽ so sánh trung bình của các chỉ số theo từng mùa trong năm 2022 với mùa mưa từ tháng 5 đến tháng 10 và mùa nắng là các tháng còn lại của năm."
   ]
  },
  {
   "cell_type": "code",
   "execution_count": 31,
   "id": "a4ff0df6",
   "metadata": {},
   "outputs": [
    {
     "name": "stderr",
     "output_type": "stream",
     "text": [
      "C:\\Users\\anngu\\AppData\\Local\\Temp\\ipykernel_1808\\2269781052.py:5: SettingWithCopyWarning: \n",
      "A value is trying to be set on a copy of a slice from a DataFrame.\n",
      "Try using .loc[row_indexer,col_indexer] = value instead\n",
      "\n",
      "See the caveats in the documentation: https://pandas.pydata.org/pandas-docs/stable/user_guide/indexing.html#returning-a-view-versus-a-copy\n",
      "  temp_df['season'] = 'Mùa mưa'\n"
     ]
    },
    {
     "data": {
      "text/html": [
       "<div>\n",
       "<style scoped>\n",
       "    .dataframe tbody tr th:only-of-type {\n",
       "        vertical-align: middle;\n",
       "    }\n",
       "\n",
       "    .dataframe tbody tr th {\n",
       "        vertical-align: top;\n",
       "    }\n",
       "\n",
       "    .dataframe thead th {\n",
       "        text-align: right;\n",
       "    }\n",
       "</style>\n",
       "<table border=\"1\" class=\"dataframe\">\n",
       "  <thead>\n",
       "    <tr style=\"text-align: right;\">\n",
       "      <th></th>\n",
       "      <th>co</th>\n",
       "      <th>no2</th>\n",
       "      <th>o3</th>\n",
       "      <th>so2</th>\n",
       "      <th>pm2_5</th>\n",
       "      <th>pm10</th>\n",
       "    </tr>\n",
       "    <tr>\n",
       "      <th>season</th>\n",
       "      <th></th>\n",
       "      <th></th>\n",
       "      <th></th>\n",
       "      <th></th>\n",
       "      <th></th>\n",
       "      <th></th>\n",
       "    </tr>\n",
       "  </thead>\n",
       "  <tbody>\n",
       "    <tr>\n",
       "      <th>Mùa mưa</th>\n",
       "      <td>1514.576513</td>\n",
       "      <td>45.065073</td>\n",
       "      <td>35.277280</td>\n",
       "      <td>52.273089</td>\n",
       "      <td>71.288359</td>\n",
       "      <td>88.232457</td>\n",
       "    </tr>\n",
       "    <tr>\n",
       "      <th>Mùa nắng</th>\n",
       "      <td>1872.144430</td>\n",
       "      <td>35.465650</td>\n",
       "      <td>10.820043</td>\n",
       "      <td>47.365602</td>\n",
       "      <td>84.418173</td>\n",
       "      <td>98.659572</td>\n",
       "    </tr>\n",
       "  </tbody>\n",
       "</table>\n",
       "</div>"
      ],
      "text/plain": [
       "                   co        no2         o3        so2      pm2_5       pm10\n",
       "season                                                                      \n",
       "Mùa mưa   1514.576513  45.065073  35.277280  52.273089  71.288359  88.232457\n",
       "Mùa nắng  1872.144430  35.465650  10.820043  47.365602  84.418173  98.659572"
      ]
     },
     "execution_count": 31,
     "metadata": {},
     "output_type": "execute_result"
    }
   ],
   "source": [
    "# Lấy dữ liệu năm 2022\n",
    "temp_df = cleaned_df[cleaned_df['dt'].dt.year == 2022]\n",
    "\n",
    "# Tạo cột 'season' để phân loại thành mùa nắng và mùa mưa dựa trên tháng\n",
    "temp_df['season'] = 'Mùa mưa'\n",
    "temp_df.loc[temp_df['dt'].dt.month.isin([5, 6, 7, 8, 9, 10]), 'season'] = 'Mùa nắng'\n",
    "\n",
    "# Tính trung bình theo từng tháng trong mùa nắng và mùa mưa\n",
    "season_avg_df = temp_df.groupby('season')[['co', 'no2', 'o3', 'so2', 'pm2_5', 'pm10']].mean()\n",
    "\n",
    "season_avg_df"
   ]
  },
  {
   "cell_type": "code",
   "execution_count": 32,
   "id": "b2c09713",
   "metadata": {},
   "outputs": [
    {
     "data": {
      "image/png": "[encoded data removed]",
      "text/plain": [
       "<Figure size 1000x600 with 1 Axes>"
      ]
     },
     "metadata": {},
     "output_type": "display_data"
    }
   ],
   "source": [
    "# Vẽ biểu đồ Grouped Bar Plot\n",
    "plt.figure(figsize=(10, 6))\n",
    "\n",
    "# Chuyển vị dữ liệu để dễ thao tác\n",
    "season_avg_df_transposed = season_avg_df.T\n",
    "\n",
    "x = range(len(season_avg_df_transposed.index))  # Đặt vị trí trục x\n",
    "width = 0.3  # Đặt độ rộng của bar\n",
    "\n",
    "sunny_values = season_avg_df_transposed['Mùa nắng'].tolist()  # Lấy giá trị của mùa nắng\n",
    "rainy_values = season_avg_df_transposed['Mùa mưa'].tolist()  # Lấy giá trị của mùa mưa\n",
    "\n",
    "plt.bar(x, sunny_values, width, label='Mùa nắng')  # Vẽ bar chart cho mùa nắng\n",
    "plt.bar([i + width for i in x], rainy_values, width, label='Mùa mưa') # Vẽ bar chart cho mùa mưa \n",
    "\n",
    "plt.ylim(0, 2000) # Giới hạn trục y  \n",
    "plt.xticks(x, season_avg_df_transposed.index)  # Đặt ticks cho trục x\n",
    "\n",
    "# Đặt các thông tin cho biểu đồ\n",
    "plt.xlabel('Các chất')  \n",
    "plt.ylabel('Giá trị')  \n",
    "plt.title('Sự khác biệt về nồng độ các chất ô nhiễm theo mùa')  \n",
    "plt.legend() # Thêm chú thích\n",
    "\n",
    "# Hiển thị biểu đồ\n",
    "plt.show() "
   ]
  },
  {
   "cell_type": "markdown",
   "id": "ae51c455",
   "metadata": {},
   "source": [
    "- Dựa vào kết quả ở bảng và biểu đồ trên,  có thể thấy rằng các chỉ số ô nhiễm không khí có sự khác biệt đáng kể giữa mùa mưa và mùa nắng ở TP.HCM. Cụ thể:\n",
    "\n",
    "    - Mức `CO` cao hơn ở mùa nắng (*1872.144430*) so với mùa mưa (*1514.576513*). Điều này có thể là do các nguồn phát thải CO từ các phương tiện giao thông, nhà máy, và các hoạt động đốt nhiên liệu khác thường tăng cao hơn vào mùa nắng khi nhu cầu sử dụng năng lượng cao hơn.\n",
    "    - Mức `NO2` thấp hơn ở mùa nắng (*35.465650*) so với mùa mưa (*45.065073*). Điều này có thể là do các nguồn phát thải NO2 từ các phương tiện giao thông, nhà máy, và các hoạt động đốt nhiên liệu khác thường giảm thấp hơn vào mùa nắng khi thời tiết khô ráo hơn.\n",
    "    - Mức `O3` thấp hơn ở mùa nắng (*10.820043*) so với mùa mưa (*35.277280*). Điều này có thể là do O3 được hình thành từ các phản ứng hóa học giữa các chất ô nhiễm không khí khác, chẳng hạn như NO2 và VOC (các hợp chất hữu cơ dễ bay hơi) dưới ánh năng mặt trời. Các phản ứng này thường xảy ra nhiều hơn vào mùa mưa khi mùa mưa ở khu vực Nam Bộ Việt Nam có xu hướng là nắng to vào ban ngày và mưa lớn vào chiều tối.\n",
    "    - Mức `SO2` thấp hơn ở mùa nắng (*47.365602*) so với mùa mưa (52.273089). Điều này có thể là do các nguồn phát thải SO2 từ các nhà máy đốt than thường giảm thấp hơn vào mùa nắng khi nhu cầu sử dụng điện thấp hơn.\n",
    "    - Mức `PM2.5` và `PM10` cao hơn ở mùa nắng (*84.418173* và *98.659572*) so với mùa mưa (*71.288359* và *88.232457*). Điều này có thể là do các nguồn phát thải PM2.5 và PM10, chẳng hạn như bụi, khói, và các hạt mịn từ các phương tiện giao thông, nhà máy, và các hoạt động đốt nhiên liệu khác, thường tăng cao hơn vào mùa nắng khi thời tiết khô ráo và có nhiều gió."
   ]
  },
  {
   "cell_type": "markdown",
   "id": "a3bc3a32",
   "metadata": {},
   "source": [
    "#### 3. Chỉ số chất lượng không khí (AQI) thay đổi như thế nào trong mỗi giờ (từ 0h đến 23h) của các ngày trong tuần (thứ 2 đến chủ nhật)?\n",
    "- **Trả lời câu hỏi này** giúp ta đánh giá tình trạng chất lượng không khí theo từng khung giờ của các ngày trong tuần. Từ đó, chúng ta có thể xác định được thời điểm nào trong ngày có mức độ ô nhiễm không khí cao nhất, lúc nào có mức độ ô nhiễm không khí thấp nhất. Điều này giúp chúng ta có thể đưa ra các biện pháp phòng tránh ô nhiễm không khí phù hợp, chẳng hạn như hạn chế ra ngoài vào thời điểm ô nhiễm cao,... Bên cạnh đó còn có thể xác định nguyên nhân gây ô nhiễm không khí như các hoạt động công nghiệp, sản xuất, giao thông,.. đang diễn ra mạnh mẽ vào thời gian nào.\n",
    "- **Để trả lời câu hỏi này** chúng ta sẽ tính chỉ số AQI trung bình rồi lưu vào một `matrix_aqi` có kích thước $7\\times24$, trong đó mỗi phần tử biểu thị chỉ số AQI trung bình trong một giờ nhất định của một ngày trong tuần. Ví dụ. `matrix_aqi[1][8]` biểu thị chỉ số AQI trung bình vào thứ Ba từ 8h00m đến 8h59m."
   ]
  },
  {
   "cell_type": "code",
   "execution_count": 33,
   "id": "e18754f1-3d28-44cf-9a52-d54f52b9a0b9",
   "metadata": {},
   "outputs": [
    {
     "name": "stderr",
     "output_type": "stream",
     "text": [
      "C:\\Users\\anngu\\AppData\\Local\\Temp\\ipykernel_1808\\1613187465.py:5: SettingWithCopyWarning: \n",
      "A value is trying to be set on a copy of a slice from a DataFrame.\n",
      "Try using .loc[row_indexer,col_indexer] = value instead\n",
      "\n",
      "See the caveats in the documentation: https://pandas.pydata.org/pandas-docs/stable/user_guide/indexing.html#returning-a-view-versus-a-copy\n",
      "  df_aqi['Day of week'] = df_aqi ['dt'].dt.weekday\n",
      "C:\\Users\\anngu\\AppData\\Local\\Temp\\ipykernel_1808\\1613187465.py:8: SettingWithCopyWarning: \n",
      "A value is trying to be set on a copy of a slice from a DataFrame.\n",
      "Try using .loc[row_indexer,col_indexer] = value instead\n",
      "\n",
      "See the caveats in the documentation: https://pandas.pydata.org/pandas-docs/stable/user_guide/indexing.html#returning-a-view-versus-a-copy\n",
      "  df_aqi['Hour of day'] = df_aqi ['dt'].dt.hour\n"
     ]
    },
    {
     "data": {
      "text/html": [
       "<div>\n",
       "<style scoped>\n",
       "    .dataframe tbody tr th:only-of-type {\n",
       "        vertical-align: middle;\n",
       "    }\n",
       "\n",
       "    .dataframe tbody tr th {\n",
       "        vertical-align: top;\n",
       "    }\n",
       "\n",
       "    .dataframe thead th {\n",
       "        text-align: right;\n",
       "    }\n",
       "</style>\n",
       "<table border=\"1\" class=\"dataframe\">\n",
       "  <thead>\n",
       "    <tr style=\"text-align: right;\">\n",
       "      <th></th>\n",
       "      <th>dt</th>\n",
       "      <th>aqi</th>\n",
       "      <th>Day of week</th>\n",
       "      <th>Hour of day</th>\n",
       "    </tr>\n",
       "  </thead>\n",
       "  <tbody>\n",
       "    <tr>\n",
       "      <th>0</th>\n",
       "      <td>2021-01-01 00:00:00</td>\n",
       "      <td>3</td>\n",
       "      <td>4</td>\n",
       "      <td>0</td>\n",
       "    </tr>\n",
       "    <tr>\n",
       "      <th>1</th>\n",
       "      <td>2021-01-01 01:00:00</td>\n",
       "      <td>3</td>\n",
       "      <td>4</td>\n",
       "      <td>1</td>\n",
       "    </tr>\n",
       "    <tr>\n",
       "      <th>2</th>\n",
       "      <td>2021-01-01 02:00:00</td>\n",
       "      <td>3</td>\n",
       "      <td>4</td>\n",
       "      <td>2</td>\n",
       "    </tr>\n",
       "    <tr>\n",
       "      <th>3</th>\n",
       "      <td>2021-01-01 03:00:00</td>\n",
       "      <td>3</td>\n",
       "      <td>4</td>\n",
       "      <td>3</td>\n",
       "    </tr>\n",
       "    <tr>\n",
       "      <th>4</th>\n",
       "      <td>2021-01-01 04:00:00</td>\n",
       "      <td>2</td>\n",
       "      <td>4</td>\n",
       "      <td>4</td>\n",
       "    </tr>\n",
       "    <tr>\n",
       "      <th>...</th>\n",
       "      <td>...</td>\n",
       "      <td>...</td>\n",
       "      <td>...</td>\n",
       "      <td>...</td>\n",
       "    </tr>\n",
       "    <tr>\n",
       "      <th>25172</th>\n",
       "      <td>2023-11-30 20:00:00</td>\n",
       "      <td>5</td>\n",
       "      <td>3</td>\n",
       "      <td>20</td>\n",
       "    </tr>\n",
       "    <tr>\n",
       "      <th>25173</th>\n",
       "      <td>2023-11-30 21:00:00</td>\n",
       "      <td>5</td>\n",
       "      <td>3</td>\n",
       "      <td>21</td>\n",
       "    </tr>\n",
       "    <tr>\n",
       "      <th>25174</th>\n",
       "      <td>2023-11-30 22:00:00</td>\n",
       "      <td>4</td>\n",
       "      <td>3</td>\n",
       "      <td>22</td>\n",
       "    </tr>\n",
       "    <tr>\n",
       "      <th>25175</th>\n",
       "      <td>2023-11-30 23:00:00</td>\n",
       "      <td>3</td>\n",
       "      <td>3</td>\n",
       "      <td>23</td>\n",
       "    </tr>\n",
       "    <tr>\n",
       "      <th>25176</th>\n",
       "      <td>2023-12-01 00:00:00</td>\n",
       "      <td>3</td>\n",
       "      <td>4</td>\n",
       "      <td>0</td>\n",
       "    </tr>\n",
       "  </tbody>\n",
       "</table>\n",
       "<p>25176 rows × 4 columns</p>\n",
       "</div>"
      ],
      "text/plain": [
       "                       dt aqi  Day of week  Hour of day\n",
       "0     2021-01-01 00:00:00   3            4            0\n",
       "1     2021-01-01 01:00:00   3            4            1\n",
       "2     2021-01-01 02:00:00   3            4            2\n",
       "3     2021-01-01 03:00:00   3            4            3\n",
       "4     2021-01-01 04:00:00   2            4            4\n",
       "...                   ...  ..          ...          ...\n",
       "25172 2023-11-30 20:00:00   5            3           20\n",
       "25173 2023-11-30 21:00:00   5            3           21\n",
       "25174 2023-11-30 22:00:00   4            3           22\n",
       "25175 2023-11-30 23:00:00   3            3           23\n",
       "25176 2023-12-01 00:00:00   3            4            0\n",
       "\n",
       "[25176 rows x 4 columns]"
      ]
     },
     "execution_count": 33,
     "metadata": {},
     "output_type": "execute_result"
    }
   ],
   "source": [
    "# Lấy dữ liệu từ 2 cột 'dt' và 'aqi'\n",
    "df_aqi = cleaned_df[['dt','aqi']]\n",
    "\n",
    "# Trích xuất thứ trong tuần (weekday), trong đó: 0:Mon, 1:Tue, 2:Wed, 3:Thu, 4:Fri, 5:Sat, 6:Sun, rồi lưu vào cột 'Day of week'\n",
    "df_aqi['Day of week'] = df_aqi ['dt'].dt.weekday\n",
    "\n",
    "# Trích xuất giờ trong ngày rồi lưu vào cột 'Hour of day'\n",
    "df_aqi['Hour of day'] = df_aqi ['dt'].dt.hour\n",
    "\n",
    "df_aqi"
   ]
  },
  {
   "cell_type": "code",
   "execution_count": 34,
   "id": "4a19a920-36df-48b3-9359-ac8ab54f6fd3",
   "metadata": {},
   "outputs": [],
   "source": [
    "# Tạo ma trận matrix_aqi 7x24\n",
    "matrix_aqi = np.empty((7, 24))\n",
    "\n",
    "for i in range(7):\n",
    "    for j in range(24):\n",
    "        aqi = df_aqi[(df_aqi['Day of week'] == i) & (df_aqi['Hour of day'] == j)]['aqi'].values  # Lấy danh sách chỉ số aqi theo giờ và ngày tương ứng trong tuần\n",
    "        matrix_aqi[i, j] = np.mean(aqi.astype(int)) # Tính chỉ số aqi trung bình rồi lưu vào matrix_aqi[i][j] tương ứng"
   ]
  },
  {
   "cell_type": "code",
   "execution_count": 35,
   "id": "98a0bba2-686e-41df-bb41-e2d84c61bb53",
   "metadata": {},
   "outputs": [
    {
     "data": {
      "image/png": "[encoded data removed]",
      "text/plain": [
       "<Figure size 1500x800 with 2 Axes>"
      ]
     },
     "metadata": {},
     "output_type": "display_data"
    }
   ],
   "source": [
    "# Vẽ biểu đồ Heatmap \n",
    "\n",
    "# Tạo danh sách tên các thứ trong tuần\n",
    "day_of_week = ['Thứ 2', 'Thứ 3', 'Thứ 4', 'Thứ 5', 'Thứ 6', 'Thứ 7', 'Chủ nhật']\n",
    "\n",
    "# Vẽ biểu đồ Heatmap \n",
    "plt.figure(figsize=(15,8))\n",
    "ax = sns.heatmap(matrix_aqi, linewidths=.5, yticklabels = day_of_week, vmin = 5, vmax = 1, cmap = 'Spectral_r', cbar_kws={'label': 'Chỉ số AQI', 'ticks': range(1, 6, 1)})\n",
    "\n",
    "# Đặt các thông tin trên biểu đồ\n",
    "ax.set_xlabel('Thời gian (giờ)')\n",
    "ax.set_ylabel('Ngày trong tuần')\n",
    "ax.set_title('Thống kê AQI trung bình tại các khung giờ của các ngày trong tuần')\n",
    "\n",
    "plt.show()"
   ]
  },
  {
   "cell_type": "markdown",
   "id": "d4483893-a08e-4602-ba5c-cfe444483238",
   "metadata": {},
   "source": [
    "**Nhận xét**\n",
    "\n",
    "Dựa vào kết quả ở bảng và biểu đồ trên, có thể thấy rằng chỉ số chất lượng không khí AQI có sự thay đổi qua từng khung giờ và từng ngày trong tuần. Cụ thể như sau:\n",
    "- Ta có thể quan sát thấy, chỉ số `AQI` trung bình của TP.HCM dao động ở mức từ *2-4*, nghĩa là chất lượng không khí từ *mức khá đến kém*. Tuy nhiên, đa số các khoảng thời gian thì chỉ số `AQI` trung bình chủ yếu từ *3-4*, nghĩa là chất lượng không khí ở TP.HCM đa số ở mức từ *trung bình đến kém*. \n",
    "- Vào các *ngày thứ 2, thứ 7 và chủ nhật*, vào khung giờ từ *4h đến 10h* sáng chỉ số `AQI` ở khoảng mức *2-3* nghĩa là chất lượng không khí ở TP.HCM đạt mức *khá đến trung bình* vào thời điểm này. Còn ở các *ngày thứ 3, thứ 4, thứ 5 và thứ 6*, từ *4h đến 10h* sáng chỉ số `AQI` ở khoảng mức *3-4* nghĩa là chất lượng không khí ở mức *trung bình đến kém*. Ở các khung giờ còn lại từ *11h trưa đến 3h sáng*, chỉ số `AQI` khoảng mức *4*, nghĩa là chất lượng không khí đang ở mức *kém*. Điều này cho thấy, các hoạt động công nghiệp, sản xuất, giao thông ở TP.HCM... diễn ra chủ yếu vào buổi trưa, chiều và tối. Còn thời gian buổi sáng, chất lượng không khí tương đối trong lành.\n",
    "- Các chỉ số `AQI` ở các ngày *thứ 2, thứ 7 và chủ nhật* có xu hướng *thấp hơn* các ngày còn lại trong tuần ở cùng các khung giờ. Đặc biệt các ngày *thứ 4 và thứ 5*, chỉ số `AQI` ở các khung giờ thường ở mức *cao nhất* so với các ngày còn lại. Điều này có thể cho thấy mức độ hoạt động của con người, các hoạt động công nghiệp thường có xu hướng diễn ra mạnh mẽ ở các ngày giữa tuần. Còn các ngày cuối tuần, các nhà máy, khu công nghiệp, các hoạt động sản xuất có thể được tạm dừng nên chất lượng không khí vào các ngày cuối tuần thường khá hơn các ngày trong tuần.\n"
   ]
  },
  {
   "cell_type": "code",
   "execution_count": null,
   "id": "68aed12b-b075-4b68-8c02-fc600f01b45e",
   "metadata": {},
   "outputs": [],
   "source": []
  }
 ],
 "metadata": {
  "kernelspec": {
   "display_name": "Python 3 (ipykernel)",
   "language": "python",
   "name": "python3"
  },
  "language_info": {
   "codemirror_mode": {
    "name": "ipython",
    "version": 3
   },
   "file_extension": ".py",
   "mimetype": "text/x-python",
   "name": "python",
   "nbconvert_exporter": "python",
   "pygments_lexer": "ipython3",
   "version": "3.11.5"
  }
 },
 "nbformat": 4,
 "nbformat_minor": 5
}
